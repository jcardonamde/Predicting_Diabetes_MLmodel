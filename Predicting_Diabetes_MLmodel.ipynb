{
  "nbformat": 4,
  "nbformat_minor": 0,
  "metadata": {
    "colab": {
      "provenance": [],
      "collapsed_sections": [
        "fZxJojiQiwg9",
        "KoYY8f0GjAnZ"
      ],
      "toc_visible": true,
      "mount_file_id": "1a7OKrwa6W4ar5TWvan4UbN2w8wClJg5y",
      "authorship_tag": "ABX9TyN01MmeV48gycPQNZmBSKmt",
      "include_colab_link": true
    },
    "kernelspec": {
      "name": "python3",
      "display_name": "Python 3"
    },
    "language_info": {
      "name": "python"
    }
  },
  "cells": [
    {
      "cell_type": "markdown",
      "metadata": {
        "id": "view-in-github",
        "colab_type": "text"
      },
      "source": [
        "<a href=\"https://colab.research.google.com/github/jcardonamde/Predicting_Diabetes_MLmodel/blob/main/Predicting_Diabetes_MLmodel.ipynb\" target=\"_parent\"><img src=\"https://colab.research.google.com/assets/colab-badge.svg\" alt=\"Open In Colab\"/></a>"
      ]
    },
    {
      "cell_type": "markdown",
      "source": [
        "# **Diabetes**"
      ],
      "metadata": {
        "id": "Qlq65ustiimo"
      }
    },
    {
      "cell_type": "markdown",
      "source": [
        "**Requisitos:**\n",
        "\n",
        "Tu tarea consiste en predecir de forma diagnóstica si un paciente tiene diabetes o no, basándote en determinadas medidas de diagnóstico incluidas en el conjunto de datos.\n",
        "\n",
        "**Asegúrate de:**\n",
        "\n",
        "* Limpiar los datos.\n",
        "* Explorar los datos (debes incluir al menos 2 visualizaciones)\n",
        "* Crear un modelo para predecir si un paciente tiene (1) o no tiene (0) diabetes\n",
        "\n",
        "Debes construir el modelo más preciso que puedas. Asegúrate de validar tu modelo utilizando un conjunto de prueba y entrenamiento. Debes poder justificar por qué elegiste el modelo que utilizaste. Esto puede implicar probar varios modelos y determinar el mejor, o ser capaz de explicar y justificar racionalmente tu elección."
      ],
      "metadata": {
        "id": "acUSEM9Vinzj"
      }
    },
    {
      "cell_type": "markdown",
      "source": [
        "## **Diccionario de datos:**\n",
        "\n",
        "![Screenshot_8.png](data:image/png;base64,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)"
      ],
      "metadata": {
        "id": "fZxJojiQiwg9"
      }
    },
    {
      "cell_type": "markdown",
      "source": [
        "## **Requisito de envío:**\n",
        "\n",
        "Todo tu código utilizado para limpiar, hacer el análisis exploratorio y modelar los datos.\n",
        "\n",
        "**Notas:**\n",
        "\n",
        "* Los datos están disponibles para descargar aquí. El conjunto de datos original es de Kaggle.\n",
        "* Para evitar que otros estudiantes copien tu trabajo, asegúrate de que el código no esté guardado en GitHub.\n",
        "* Para minimizar el descuento de puntaje, asegúrate de cargar los requisitos completos.\n",
        "* Si tienes problemas para cargar archivos en la aplicación del examen, NO desbloquees otro examen. Por favor, envía el archivo por correo electrónico a tu instructor.\n",
        "* Puedes utilizar cualquier recurso que tengas disponible (notas de clase, Google, Stackoverflow, etc.) - PERO DEBES CITAR CUALQUIER FUENTE QUE UTILICES.\n",
        "* Puedes citar fuentes en forma de comentario de código o como una celda de texto con enlaces a cualquier recurso que hayas utilizado. El no citar las fuentes se considerará plagio y resultará en la reprobación del examen.\n",
        "* NO puedes obtener o recibir ayuda de ninguna otra persona para este código. Esto incluye compañeros de clase, exalumnos, tu instructor, etc. La colaboración con otra persona en este examen se considerará plagio y resultará en la reprobación del examen."
      ],
      "metadata": {
        "id": "KoYY8f0GjAnZ"
      }
    },
    {
      "cell_type": "markdown",
      "source": [
        "\n",
        "\n",
        "---\n",
        "\n"
      ],
      "metadata": {
        "id": "c90Zi7c_mCGp"
      }
    },
    {
      "cell_type": "markdown",
      "source": [
        "##⭐*Preparar/limpiar los datos para fines de análisis exploratorio*"
      ],
      "metadata": {
        "id": "p2w1tqbFmDNe"
      }
    },
    {
      "cell_type": "code",
      "execution_count": 1,
      "metadata": {
        "id": "4FfChtKmiQ4v"
      },
      "outputs": [],
      "source": [
        "# Importamos las bibliotecas requeridas para el manejo de nuestros datos y el modelado\n",
        "import pandas as pd\n",
        "import numpy as np\n",
        "import matplotlib.pyplot as plt\n",
        "import seaborn as sns\n",
        "from sklearn.model_selection import train_test_split\n",
        "from sklearn.compose import make_column_transformer, make_column_selector\n",
        "from sklearn.preprocessing import StandardScaler, OneHotEncoder, OrdinalEncoder\n",
        "from sklearn.impute import SimpleImputer\n",
        "from sklearn.pipeline import make_pipeline\n",
        "from sklearn import set_config\n",
        "set_config(display='diagram')"
      ]
    },
    {
      "cell_type": "code",
      "source": [
        "# Importamos el data set y lo visualizamos en un DataFrame\n",
        "filename = ('/content/drive/MyDrive/Colab Notebooks/Codificación de Dojo/Semana06/Examen Cinturon/diabetes.csv')\n",
        "df = pd.read_csv(filename)\n",
        "df.head()"
      ],
      "metadata": {
        "colab": {
          "base_uri": "https://localhost:8080/",
          "height": 206
        },
        "id": "EuJuRgy_jZSr",
        "outputId": "e8f82158-abc8-4a9c-85af-bba3bfdcb578"
      },
      "execution_count": 2,
      "outputs": [
        {
          "output_type": "execute_result",
          "data": {
            "text/plain": [
              "   Pregnancies  Glucose  BloodPressure  SkinThickness  Insulin   BMI  \\\n",
              "0            6      148             72             35        0  33.6   \n",
              "1            1       85             66             29        0  26.6   \n",
              "2            8      183             64              0        0  23.3   \n",
              "3            1       89             66             23       94  28.1   \n",
              "4            0      137             40             35      168  43.1   \n",
              "\n",
              "   DiabetesPedigreeFunction  Age  Outcome  \n",
              "0                     0.627   50        1  \n",
              "1                     0.351   31        0  \n",
              "2                     0.672   32        1  \n",
              "3                     0.167   21        0  \n",
              "4                     2.288   33        1  "
            ],
            "text/html": [
              "\n",
              "  <div id=\"df-7bf038fb-3480-4710-a9f4-c2923c605e1a\">\n",
              "    <div class=\"colab-df-container\">\n",
              "      <div>\n",
              "<style scoped>\n",
              "    .dataframe tbody tr th:only-of-type {\n",
              "        vertical-align: middle;\n",
              "    }\n",
              "\n",
              "    .dataframe tbody tr th {\n",
              "        vertical-align: top;\n",
              "    }\n",
              "\n",
              "    .dataframe thead th {\n",
              "        text-align: right;\n",
              "    }\n",
              "</style>\n",
              "<table border=\"1\" class=\"dataframe\">\n",
              "  <thead>\n",
              "    <tr style=\"text-align: right;\">\n",
              "      <th></th>\n",
              "      <th>Pregnancies</th>\n",
              "      <th>Glucose</th>\n",
              "      <th>BloodPressure</th>\n",
              "      <th>SkinThickness</th>\n",
              "      <th>Insulin</th>\n",
              "      <th>BMI</th>\n",
              "      <th>DiabetesPedigreeFunction</th>\n",
              "      <th>Age</th>\n",
              "      <th>Outcome</th>\n",
              "    </tr>\n",
              "  </thead>\n",
              "  <tbody>\n",
              "    <tr>\n",
              "      <th>0</th>\n",
              "      <td>6</td>\n",
              "      <td>148</td>\n",
              "      <td>72</td>\n",
              "      <td>35</td>\n",
              "      <td>0</td>\n",
              "      <td>33.6</td>\n",
              "      <td>0.627</td>\n",
              "      <td>50</td>\n",
              "      <td>1</td>\n",
              "    </tr>\n",
              "    <tr>\n",
              "      <th>1</th>\n",
              "      <td>1</td>\n",
              "      <td>85</td>\n",
              "      <td>66</td>\n",
              "      <td>29</td>\n",
              "      <td>0</td>\n",
              "      <td>26.6</td>\n",
              "      <td>0.351</td>\n",
              "      <td>31</td>\n",
              "      <td>0</td>\n",
              "    </tr>\n",
              "    <tr>\n",
              "      <th>2</th>\n",
              "      <td>8</td>\n",
              "      <td>183</td>\n",
              "      <td>64</td>\n",
              "      <td>0</td>\n",
              "      <td>0</td>\n",
              "      <td>23.3</td>\n",
              "      <td>0.672</td>\n",
              "      <td>32</td>\n",
              "      <td>1</td>\n",
              "    </tr>\n",
              "    <tr>\n",
              "      <th>3</th>\n",
              "      <td>1</td>\n",
              "      <td>89</td>\n",
              "      <td>66</td>\n",
              "      <td>23</td>\n",
              "      <td>94</td>\n",
              "      <td>28.1</td>\n",
              "      <td>0.167</td>\n",
              "      <td>21</td>\n",
              "      <td>0</td>\n",
              "    </tr>\n",
              "    <tr>\n",
              "      <th>4</th>\n",
              "      <td>0</td>\n",
              "      <td>137</td>\n",
              "      <td>40</td>\n",
              "      <td>35</td>\n",
              "      <td>168</td>\n",
              "      <td>43.1</td>\n",
              "      <td>2.288</td>\n",
              "      <td>33</td>\n",
              "      <td>1</td>\n",
              "    </tr>\n",
              "  </tbody>\n",
              "</table>\n",
              "</div>\n",
              "      <button class=\"colab-df-convert\" onclick=\"convertToInteractive('df-7bf038fb-3480-4710-a9f4-c2923c605e1a')\"\n",
              "              title=\"Convert this dataframe to an interactive table.\"\n",
              "              style=\"display:none;\">\n",
              "        \n",
              "  <svg xmlns=\"http://www.w3.org/2000/svg\" height=\"24px\"viewBox=\"0 0 24 24\"\n",
              "       width=\"24px\">\n",
              "    <path d=\"M0 0h24v24H0V0z\" fill=\"none\"/>\n",
              "    <path d=\"M18.56 5.44l.94 2.06.94-2.06 2.06-.94-2.06-.94-.94-2.06-.94 2.06-2.06.94zm-11 1L8.5 8.5l.94-2.06 2.06-.94-2.06-.94L8.5 2.5l-.94 2.06-2.06.94zm10 10l.94 2.06.94-2.06 2.06-.94-2.06-.94-.94-2.06-.94 2.06-2.06.94z\"/><path d=\"M17.41 7.96l-1.37-1.37c-.4-.4-.92-.59-1.43-.59-.52 0-1.04.2-1.43.59L10.3 9.45l-7.72 7.72c-.78.78-.78 2.05 0 2.83L4 21.41c.39.39.9.59 1.41.59.51 0 1.02-.2 1.41-.59l7.78-7.78 2.81-2.81c.8-.78.8-2.07 0-2.86zM5.41 20L4 18.59l7.72-7.72 1.47 1.35L5.41 20z\"/>\n",
              "  </svg>\n",
              "      </button>\n",
              "      \n",
              "  <style>\n",
              "    .colab-df-container {\n",
              "      display:flex;\n",
              "      flex-wrap:wrap;\n",
              "      gap: 12px;\n",
              "    }\n",
              "\n",
              "    .colab-df-convert {\n",
              "      background-color: #E8F0FE;\n",
              "      border: none;\n",
              "      border-radius: 50%;\n",
              "      cursor: pointer;\n",
              "      display: none;\n",
              "      fill: #1967D2;\n",
              "      height: 32px;\n",
              "      padding: 0 0 0 0;\n",
              "      width: 32px;\n",
              "    }\n",
              "\n",
              "    .colab-df-convert:hover {\n",
              "      background-color: #E2EBFA;\n",
              "      box-shadow: 0px 1px 2px rgba(60, 64, 67, 0.3), 0px 1px 3px 1px rgba(60, 64, 67, 0.15);\n",
              "      fill: #174EA6;\n",
              "    }\n",
              "\n",
              "    [theme=dark] .colab-df-convert {\n",
              "      background-color: #3B4455;\n",
              "      fill: #D2E3FC;\n",
              "    }\n",
              "\n",
              "    [theme=dark] .colab-df-convert:hover {\n",
              "      background-color: #434B5C;\n",
              "      box-shadow: 0px 1px 3px 1px rgba(0, 0, 0, 0.15);\n",
              "      filter: drop-shadow(0px 1px 2px rgba(0, 0, 0, 0.3));\n",
              "      fill: #FFFFFF;\n",
              "    }\n",
              "  </style>\n",
              "\n",
              "      <script>\n",
              "        const buttonEl =\n",
              "          document.querySelector('#df-7bf038fb-3480-4710-a9f4-c2923c605e1a button.colab-df-convert');\n",
              "        buttonEl.style.display =\n",
              "          google.colab.kernel.accessAllowed ? 'block' : 'none';\n",
              "\n",
              "        async function convertToInteractive(key) {\n",
              "          const element = document.querySelector('#df-7bf038fb-3480-4710-a9f4-c2923c605e1a');\n",
              "          const dataTable =\n",
              "            await google.colab.kernel.invokeFunction('convertToInteractive',\n",
              "                                                     [key], {});\n",
              "          if (!dataTable) return;\n",
              "\n",
              "          const docLinkHtml = 'Like what you see? Visit the ' +\n",
              "            '<a target=\"_blank\" href=https://colab.research.google.com/notebooks/data_table.ipynb>data table notebook</a>'\n",
              "            + ' to learn more about interactive tables.';\n",
              "          element.innerHTML = '';\n",
              "          dataTable['output_type'] = 'display_data';\n",
              "          await google.colab.output.renderOutput(dataTable, element);\n",
              "          const docLink = document.createElement('div');\n",
              "          docLink.innerHTML = docLinkHtml;\n",
              "          element.appendChild(docLink);\n",
              "        }\n",
              "      </script>\n",
              "    </div>\n",
              "  </div>\n",
              "  "
            ]
          },
          "metadata": {},
          "execution_count": 2
        }
      ]
    },
    {
      "cell_type": "code",
      "source": [
        "# Verifico la nomenclatura de las columnas en caso de poseer algún espaciado y que no vaya a influir en errores de mis próximas validaciones\n",
        "df.columns"
      ],
      "metadata": {
        "colab": {
          "base_uri": "https://localhost:8080/"
        },
        "id": "ANbaVKbkxRN6",
        "outputId": "337e61f7-fbd7-443a-c8b4-f07e9ff57fd3"
      },
      "execution_count": 3,
      "outputs": [
        {
          "output_type": "execute_result",
          "data": {
            "text/plain": [
              "Index(['Pregnancies', 'Glucose', 'BloodPressure', 'SkinThickness', 'Insulin',\n",
              "       'BMI', 'DiabetesPedigreeFunction', 'Age', 'Outcome'],\n",
              "      dtype='object')"
            ]
          },
          "metadata": {},
          "execution_count": 3
        }
      ]
    },
    {
      "cell_type": "code",
      "source": [
        "# Inicialmente identifico la forma del dataset\n",
        "df.shape"
      ],
      "metadata": {
        "colab": {
          "base_uri": "https://localhost:8080/"
        },
        "id": "zGaWmXrRnTfr",
        "outputId": "8f051fab-1d08-4e50-f123-015ed5b6015a"
      },
      "execution_count": 4,
      "outputs": [
        {
          "output_type": "execute_result",
          "data": {
            "text/plain": [
              "(768, 9)"
            ]
          },
          "metadata": {},
          "execution_count": 4
        }
      ]
    },
    {
      "cell_type": "markdown",
      "source": [
        "Con lo anterior puedo entender que este data set maneja 768 columnas y 9 filas.Posteriormente, voy a identificar los tipos de datos que componen cada columna al igual si se tienen valores faltantes."
      ],
      "metadata": {
        "id": "niCgY__5nnTY"
      }
    },
    {
      "cell_type": "code",
      "source": [
        "# Revisamos el número y tipo de datos por Columna, al igual que datos faltantes que se tienen\n",
        "print(df.info(), '\\n')\n",
        "print(df.isna().sum())"
      ],
      "metadata": {
        "colab": {
          "base_uri": "https://localhost:8080/"
        },
        "id": "lz0--1ycmbX8",
        "outputId": "c6c1d199-cae1-47bc-90ec-051bde7bf9f9"
      },
      "execution_count": 5,
      "outputs": [
        {
          "output_type": "stream",
          "name": "stdout",
          "text": [
            "<class 'pandas.core.frame.DataFrame'>\n",
            "RangeIndex: 768 entries, 0 to 767\n",
            "Data columns (total 9 columns):\n",
            " #   Column                    Non-Null Count  Dtype  \n",
            "---  ------                    --------------  -----  \n",
            " 0   Pregnancies               768 non-null    int64  \n",
            " 1   Glucose                   768 non-null    int64  \n",
            " 2   BloodPressure             768 non-null    int64  \n",
            " 3   SkinThickness             768 non-null    int64  \n",
            " 4   Insulin                   768 non-null    int64  \n",
            " 5   BMI                       768 non-null    float64\n",
            " 6   DiabetesPedigreeFunction  768 non-null    float64\n",
            " 7   Age                       768 non-null    int64  \n",
            " 8   Outcome                   768 non-null    int64  \n",
            "dtypes: float64(2), int64(7)\n",
            "memory usage: 54.1 KB\n",
            "None \n",
            "\n",
            "Pregnancies                 0\n",
            "Glucose                     0\n",
            "BloodPressure               0\n",
            "SkinThickness               0\n",
            "Insulin                     0\n",
            "BMI                         0\n",
            "DiabetesPedigreeFunction    0\n",
            "Age                         0\n",
            "Outcome                     0\n",
            "dtype: int64\n"
          ]
        }
      ]
    },
    {
      "cell_type": "markdown",
      "source": [
        "Podemos ver que en nuestro data set cada columna tiene valores completos. No se tienen datos faltantes y que las columnas de datos en su totalidad son de categoría numérica. "
      ],
      "metadata": {
        "id": "KFiutZPyoHxP"
      }
    },
    {
      "cell_type": "code",
      "source": [
        "# Identificamos cual es la cantidad de datos duplicados y en caso de existir poderla depurar\n",
        "df.duplicated()\n",
        "df.duplicated().sum()"
      ],
      "metadata": {
        "colab": {
          "base_uri": "https://localhost:8080/"
        },
        "id": "LIfyT-wcm4Ee",
        "outputId": "ece4b1ec-338e-401b-9292-52d0ed670f46"
      },
      "execution_count": 6,
      "outputs": [
        {
          "output_type": "execute_result",
          "data": {
            "text/plain": [
              "0"
            ]
          },
          "metadata": {},
          "execution_count": 6
        }
      ]
    },
    {
      "cell_type": "markdown",
      "source": [
        "Luego del uso de los anteriores métodos vemos que está perfecto, ya que al momento no contamos con datos duplicados por depurar. Ahora vamos a identificar como esta compuesto el data set para validar si hay datos con inconsistencias que debamos abordar y corregir."
      ],
      "metadata": {
        "id": "ZedHO4PspgyX"
      }
    },
    {
      "cell_type": "code",
      "source": [
        "# Inicialmente, examino el número de valores únicos entre las columnas con las cuales estamos trabajando\n",
        "df.nunique()"
      ],
      "metadata": {
        "colab": {
          "base_uri": "https://localhost:8080/"
        },
        "id": "oDv66XiPqEw3",
        "outputId": "953e7f3b-a1b0-4b3f-b58a-5c39fd40a832"
      },
      "execution_count": 7,
      "outputs": [
        {
          "output_type": "execute_result",
          "data": {
            "text/plain": [
              "Pregnancies                  17\n",
              "Glucose                     136\n",
              "BloodPressure                47\n",
              "SkinThickness                51\n",
              "Insulin                     186\n",
              "BMI                         248\n",
              "DiabetesPedigreeFunction    517\n",
              "Age                          52\n",
              "Outcome                       2\n",
              "dtype: int64"
            ]
          },
          "metadata": {},
          "execution_count": 7
        }
      ]
    },
    {
      "cell_type": "markdown",
      "source": [
        "Como veo que hay diferentes tipos de valores únicos por columna y entendiendo que toda la composición del data set es de categoría numérica, me gustaría visualizar la descripción estadística que está relacionada con los datos del data set."
      ],
      "metadata": {
        "id": "IF1VIs4rumWY"
      }
    },
    {
      "cell_type": "code",
      "source": [
        "# Mostramos con la función describe todas las estadísticas de las columnas, para obtener valores mínimos, máximos, media, conteo, entre otros que componen el data set\n",
        "df.describe()"
      ],
      "metadata": {
        "colab": {
          "base_uri": "https://localhost:8080/",
          "height": 301
        },
        "id": "wxQVT5wVwhgh",
        "outputId": "68f1d89d-45b0-42af-9c25-ee95c3c6a0a2"
      },
      "execution_count": 8,
      "outputs": [
        {
          "output_type": "execute_result",
          "data": {
            "text/plain": [
              "       Pregnancies     Glucose  BloodPressure  SkinThickness     Insulin  \\\n",
              "count   768.000000  768.000000     768.000000     768.000000  768.000000   \n",
              "mean      3.845052  120.894531      69.105469      20.536458   79.799479   \n",
              "std       3.369578   31.972618      19.355807      15.952218  115.244002   \n",
              "min       0.000000    0.000000       0.000000       0.000000    0.000000   \n",
              "25%       1.000000   99.000000      62.000000       0.000000    0.000000   \n",
              "50%       3.000000  117.000000      72.000000      23.000000   30.500000   \n",
              "75%       6.000000  140.250000      80.000000      32.000000  127.250000   \n",
              "max      17.000000  199.000000     122.000000      99.000000  846.000000   \n",
              "\n",
              "              BMI  DiabetesPedigreeFunction         Age     Outcome  \n",
              "count  768.000000                768.000000  768.000000  768.000000  \n",
              "mean    31.992578                  0.471876   33.240885    0.348958  \n",
              "std      7.884160                  0.331329   11.760232    0.476951  \n",
              "min      0.000000                  0.078000   21.000000    0.000000  \n",
              "25%     27.300000                  0.243750   24.000000    0.000000  \n",
              "50%     32.000000                  0.372500   29.000000    0.000000  \n",
              "75%     36.600000                  0.626250   41.000000    1.000000  \n",
              "max     67.100000                  2.420000   81.000000    1.000000  "
            ],
            "text/html": [
              "\n",
              "  <div id=\"df-23fd1701-d091-4662-a374-4038b69de9ea\">\n",
              "    <div class=\"colab-df-container\">\n",
              "      <div>\n",
              "<style scoped>\n",
              "    .dataframe tbody tr th:only-of-type {\n",
              "        vertical-align: middle;\n",
              "    }\n",
              "\n",
              "    .dataframe tbody tr th {\n",
              "        vertical-align: top;\n",
              "    }\n",
              "\n",
              "    .dataframe thead th {\n",
              "        text-align: right;\n",
              "    }\n",
              "</style>\n",
              "<table border=\"1\" class=\"dataframe\">\n",
              "  <thead>\n",
              "    <tr style=\"text-align: right;\">\n",
              "      <th></th>\n",
              "      <th>Pregnancies</th>\n",
              "      <th>Glucose</th>\n",
              "      <th>BloodPressure</th>\n",
              "      <th>SkinThickness</th>\n",
              "      <th>Insulin</th>\n",
              "      <th>BMI</th>\n",
              "      <th>DiabetesPedigreeFunction</th>\n",
              "      <th>Age</th>\n",
              "      <th>Outcome</th>\n",
              "    </tr>\n",
              "  </thead>\n",
              "  <tbody>\n",
              "    <tr>\n",
              "      <th>count</th>\n",
              "      <td>768.000000</td>\n",
              "      <td>768.000000</td>\n",
              "      <td>768.000000</td>\n",
              "      <td>768.000000</td>\n",
              "      <td>768.000000</td>\n",
              "      <td>768.000000</td>\n",
              "      <td>768.000000</td>\n",
              "      <td>768.000000</td>\n",
              "      <td>768.000000</td>\n",
              "    </tr>\n",
              "    <tr>\n",
              "      <th>mean</th>\n",
              "      <td>3.845052</td>\n",
              "      <td>120.894531</td>\n",
              "      <td>69.105469</td>\n",
              "      <td>20.536458</td>\n",
              "      <td>79.799479</td>\n",
              "      <td>31.992578</td>\n",
              "      <td>0.471876</td>\n",
              "      <td>33.240885</td>\n",
              "      <td>0.348958</td>\n",
              "    </tr>\n",
              "    <tr>\n",
              "      <th>std</th>\n",
              "      <td>3.369578</td>\n",
              "      <td>31.972618</td>\n",
              "      <td>19.355807</td>\n",
              "      <td>15.952218</td>\n",
              "      <td>115.244002</td>\n",
              "      <td>7.884160</td>\n",
              "      <td>0.331329</td>\n",
              "      <td>11.760232</td>\n",
              "      <td>0.476951</td>\n",
              "    </tr>\n",
              "    <tr>\n",
              "      <th>min</th>\n",
              "      <td>0.000000</td>\n",
              "      <td>0.000000</td>\n",
              "      <td>0.000000</td>\n",
              "      <td>0.000000</td>\n",
              "      <td>0.000000</td>\n",
              "      <td>0.000000</td>\n",
              "      <td>0.078000</td>\n",
              "      <td>21.000000</td>\n",
              "      <td>0.000000</td>\n",
              "    </tr>\n",
              "    <tr>\n",
              "      <th>25%</th>\n",
              "      <td>1.000000</td>\n",
              "      <td>99.000000</td>\n",
              "      <td>62.000000</td>\n",
              "      <td>0.000000</td>\n",
              "      <td>0.000000</td>\n",
              "      <td>27.300000</td>\n",
              "      <td>0.243750</td>\n",
              "      <td>24.000000</td>\n",
              "      <td>0.000000</td>\n",
              "    </tr>\n",
              "    <tr>\n",
              "      <th>50%</th>\n",
              "      <td>3.000000</td>\n",
              "      <td>117.000000</td>\n",
              "      <td>72.000000</td>\n",
              "      <td>23.000000</td>\n",
              "      <td>30.500000</td>\n",
              "      <td>32.000000</td>\n",
              "      <td>0.372500</td>\n",
              "      <td>29.000000</td>\n",
              "      <td>0.000000</td>\n",
              "    </tr>\n",
              "    <tr>\n",
              "      <th>75%</th>\n",
              "      <td>6.000000</td>\n",
              "      <td>140.250000</td>\n",
              "      <td>80.000000</td>\n",
              "      <td>32.000000</td>\n",
              "      <td>127.250000</td>\n",
              "      <td>36.600000</td>\n",
              "      <td>0.626250</td>\n",
              "      <td>41.000000</td>\n",
              "      <td>1.000000</td>\n",
              "    </tr>\n",
              "    <tr>\n",
              "      <th>max</th>\n",
              "      <td>17.000000</td>\n",
              "      <td>199.000000</td>\n",
              "      <td>122.000000</td>\n",
              "      <td>99.000000</td>\n",
              "      <td>846.000000</td>\n",
              "      <td>67.100000</td>\n",
              "      <td>2.420000</td>\n",
              "      <td>81.000000</td>\n",
              "      <td>1.000000</td>\n",
              "    </tr>\n",
              "  </tbody>\n",
              "</table>\n",
              "</div>\n",
              "      <button class=\"colab-df-convert\" onclick=\"convertToInteractive('df-23fd1701-d091-4662-a374-4038b69de9ea')\"\n",
              "              title=\"Convert this dataframe to an interactive table.\"\n",
              "              style=\"display:none;\">\n",
              "        \n",
              "  <svg xmlns=\"http://www.w3.org/2000/svg\" height=\"24px\"viewBox=\"0 0 24 24\"\n",
              "       width=\"24px\">\n",
              "    <path d=\"M0 0h24v24H0V0z\" fill=\"none\"/>\n",
              "    <path d=\"M18.56 5.44l.94 2.06.94-2.06 2.06-.94-2.06-.94-.94-2.06-.94 2.06-2.06.94zm-11 1L8.5 8.5l.94-2.06 2.06-.94-2.06-.94L8.5 2.5l-.94 2.06-2.06.94zm10 10l.94 2.06.94-2.06 2.06-.94-2.06-.94-.94-2.06-.94 2.06-2.06.94z\"/><path d=\"M17.41 7.96l-1.37-1.37c-.4-.4-.92-.59-1.43-.59-.52 0-1.04.2-1.43.59L10.3 9.45l-7.72 7.72c-.78.78-.78 2.05 0 2.83L4 21.41c.39.39.9.59 1.41.59.51 0 1.02-.2 1.41-.59l7.78-7.78 2.81-2.81c.8-.78.8-2.07 0-2.86zM5.41 20L4 18.59l7.72-7.72 1.47 1.35L5.41 20z\"/>\n",
              "  </svg>\n",
              "      </button>\n",
              "      \n",
              "  <style>\n",
              "    .colab-df-container {\n",
              "      display:flex;\n",
              "      flex-wrap:wrap;\n",
              "      gap: 12px;\n",
              "    }\n",
              "\n",
              "    .colab-df-convert {\n",
              "      background-color: #E8F0FE;\n",
              "      border: none;\n",
              "      border-radius: 50%;\n",
              "      cursor: pointer;\n",
              "      display: none;\n",
              "      fill: #1967D2;\n",
              "      height: 32px;\n",
              "      padding: 0 0 0 0;\n",
              "      width: 32px;\n",
              "    }\n",
              "\n",
              "    .colab-df-convert:hover {\n",
              "      background-color: #E2EBFA;\n",
              "      box-shadow: 0px 1px 2px rgba(60, 64, 67, 0.3), 0px 1px 3px 1px rgba(60, 64, 67, 0.15);\n",
              "      fill: #174EA6;\n",
              "    }\n",
              "\n",
              "    [theme=dark] .colab-df-convert {\n",
              "      background-color: #3B4455;\n",
              "      fill: #D2E3FC;\n",
              "    }\n",
              "\n",
              "    [theme=dark] .colab-df-convert:hover {\n",
              "      background-color: #434B5C;\n",
              "      box-shadow: 0px 1px 3px 1px rgba(0, 0, 0, 0.15);\n",
              "      filter: drop-shadow(0px 1px 2px rgba(0, 0, 0, 0.3));\n",
              "      fill: #FFFFFF;\n",
              "    }\n",
              "  </style>\n",
              "\n",
              "      <script>\n",
              "        const buttonEl =\n",
              "          document.querySelector('#df-23fd1701-d091-4662-a374-4038b69de9ea button.colab-df-convert');\n",
              "        buttonEl.style.display =\n",
              "          google.colab.kernel.accessAllowed ? 'block' : 'none';\n",
              "\n",
              "        async function convertToInteractive(key) {\n",
              "          const element = document.querySelector('#df-23fd1701-d091-4662-a374-4038b69de9ea');\n",
              "          const dataTable =\n",
              "            await google.colab.kernel.invokeFunction('convertToInteractive',\n",
              "                                                     [key], {});\n",
              "          if (!dataTable) return;\n",
              "\n",
              "          const docLinkHtml = 'Like what you see? Visit the ' +\n",
              "            '<a target=\"_blank\" href=https://colab.research.google.com/notebooks/data_table.ipynb>data table notebook</a>'\n",
              "            + ' to learn more about interactive tables.';\n",
              "          element.innerHTML = '';\n",
              "          dataTable['output_type'] = 'display_data';\n",
              "          await google.colab.output.renderOutput(dataTable, element);\n",
              "          const docLink = document.createElement('div');\n",
              "          docLink.innerHTML = docLinkHtml;\n",
              "          element.appendChild(docLink);\n",
              "        }\n",
              "      </script>\n",
              "    </div>\n",
              "  </div>\n",
              "  "
            ]
          },
          "metadata": {},
          "execution_count": 8
        }
      ]
    },
    {
      "cell_type": "markdown",
      "source": [
        "De lo anterior noto algo muy particular y es que en el caso de las columnas Pregnancies, Glucose, BloodPressure, SkinThickness, Insulin, BMI, y Outcome. Tienen un valor mínimo de 0.\n",
        "\n",
        "Lo cual no tendría mucho sentido, a excepción de la columna Outcome que es nuestro objetivo y de la cual conocemos gracias a nuestro diccionario de datos, que esta maneja solo dos tipos de valores 1 o 0 para definir si una persona tenga diabetes o no.\n",
        "\n",
        "El resto de columnas anteriormente mencionadas no debería tener estos valores en 0, pues no es posible que por ejemplo una persona tena una presión sanguínea de cero o una medición de glucosa en cero."
      ],
      "metadata": {
        "id": "5JMG4UwlxAiK"
      }
    },
    {
      "cell_type": "code",
      "source": [
        "# Reviso la composición de valores por dato único en la columna Outcome\n",
        "df['Outcome'].value_counts()"
      ],
      "metadata": {
        "colab": {
          "base_uri": "https://localhost:8080/"
        },
        "id": "LNJrcPQW0ATB",
        "outputId": "bafa48cf-5e8f-4c5a-a1a2-41bf003c4012"
      },
      "execution_count": 9,
      "outputs": [
        {
          "output_type": "execute_result",
          "data": {
            "text/plain": [
              "0    500\n",
              "1    268\n",
              "Name: Outcome, dtype: int64"
            ]
          },
          "metadata": {},
          "execution_count": 9
        }
      ]
    },
    {
      "cell_type": "markdown",
      "source": [
        "Este resultado confirma mi teoría inicial de que para la columna Outcome no se tiene problema en tener un valor mínimo de 0."
      ],
      "metadata": {
        "id": "gfvJZPb_0hdf"
      }
    },
    {
      "cell_type": "markdown",
      "source": [
        "Procedo a seguir evaluando las demás columnas."
      ],
      "metadata": {
        "id": "-Zl9TkyQD8Mb"
      }
    },
    {
      "cell_type": "code",
      "source": [
        "# Generamos un filtro para obtener un acercamiento más claro de cuantas personas a cuantas personas están en embarazo\n",
        "Pregnancies_filter = df.loc[:, 'Pregnancies'] == 0\n",
        "Pregnancies_filter.value_counts()"
      ],
      "metadata": {
        "colab": {
          "base_uri": "https://localhost:8080/"
        },
        "id": "muOhc6TazmO1",
        "outputId": "6f6af5da-2126-4761-894d-bcd37f2cbf2d"
      },
      "execution_count": 10,
      "outputs": [
        {
          "output_type": "execute_result",
          "data": {
            "text/plain": [
              "False    657\n",
              "True     111\n",
              "Name: Pregnancies, dtype: int64"
            ]
          },
          "metadata": {},
          "execution_count": 10
        }
      ]
    },
    {
      "cell_type": "code",
      "source": [
        "# Reviso la composición de valores por dato único en la columna Pregnancies\n",
        "df['Pregnancies'].value_counts()"
      ],
      "metadata": {
        "colab": {
          "base_uri": "https://localhost:8080/"
        },
        "id": "nbDE8A_g67hl",
        "outputId": "b2892f75-15ab-4541-a40d-aa300574f22f"
      },
      "execution_count": 11,
      "outputs": [
        {
          "output_type": "execute_result",
          "data": {
            "text/plain": [
              "1     135\n",
              "0     111\n",
              "2     103\n",
              "3      75\n",
              "4      68\n",
              "5      57\n",
              "6      50\n",
              "7      45\n",
              "8      38\n",
              "9      28\n",
              "10     24\n",
              "11     11\n",
              "13     10\n",
              "12      9\n",
              "14      2\n",
              "15      1\n",
              "17      1\n",
              "Name: Pregnancies, dtype: int64"
            ]
          },
          "metadata": {},
          "execution_count": 11
        }
      ]
    },
    {
      "cell_type": "markdown",
      "source": [
        "Lo anterior tiene sentido y me lleva a concluir que no todas las personas necesariamente hayan tenido que tener embarazos o que lo hayan estado en el momento de la prueba. \n",
        "\n",
        "**Por lo que decido no generar ningún tipo de reemplazamiento o imputación a esta columna.**\n",
        "\n",
        "\n",
        "---\n",
        "\n"
      ],
      "metadata": {
        "id": "qmDY0dR_ELph"
      }
    },
    {
      "cell_type": "code",
      "source": [
        "# Generamos un filtro para obtener un acercamiento más claro de cuantas personas tienen la Glucosa en 0\n",
        "Glucose_filter = df.loc[:, 'Glucose'] == 0\n",
        "Glucose_filter.value_counts()"
      ],
      "metadata": {
        "colab": {
          "base_uri": "https://localhost:8080/"
        },
        "id": "OGIcv4wfBQKq",
        "outputId": "6d0de1dd-3838-4272-ab33-208d235f3f40"
      },
      "execution_count": 12,
      "outputs": [
        {
          "output_type": "execute_result",
          "data": {
            "text/plain": [
              "False    763\n",
              "True       5\n",
              "Name: Glucose, dtype: int64"
            ]
          },
          "metadata": {},
          "execution_count": 12
        }
      ]
    },
    {
      "cell_type": "code",
      "source": [
        "# Visualizamos en un DataFrame estos 5 valores relacionados al filtro de la Columna\n",
        "df[Glucose_filter]"
      ],
      "metadata": {
        "colab": {
          "base_uri": "https://localhost:8080/",
          "height": 206
        },
        "id": "Gc1Y9ZzRFcdh",
        "outputId": "77198c1c-fa0c-48f8-cd50-cd0357826e5e"
      },
      "execution_count": 13,
      "outputs": [
        {
          "output_type": "execute_result",
          "data": {
            "text/plain": [
              "     Pregnancies  Glucose  BloodPressure  SkinThickness  Insulin   BMI  \\\n",
              "75             1        0             48             20        0  24.7   \n",
              "182            1        0             74             20       23  27.7   \n",
              "342            1        0             68             35        0  32.0   \n",
              "349            5        0             80             32        0  41.0   \n",
              "502            6        0             68             41        0  39.0   \n",
              "\n",
              "     DiabetesPedigreeFunction  Age  Outcome  \n",
              "75                      0.140   22        0  \n",
              "182                     0.299   21        0  \n",
              "342                     0.389   22        0  \n",
              "349                     0.346   37        1  \n",
              "502                     0.727   41        1  "
            ],
            "text/html": [
              "\n",
              "  <div id=\"df-3bae2c63-8a93-458d-8b35-70eb74e12d0d\">\n",
              "    <div class=\"colab-df-container\">\n",
              "      <div>\n",
              "<style scoped>\n",
              "    .dataframe tbody tr th:only-of-type {\n",
              "        vertical-align: middle;\n",
              "    }\n",
              "\n",
              "    .dataframe tbody tr th {\n",
              "        vertical-align: top;\n",
              "    }\n",
              "\n",
              "    .dataframe thead th {\n",
              "        text-align: right;\n",
              "    }\n",
              "</style>\n",
              "<table border=\"1\" class=\"dataframe\">\n",
              "  <thead>\n",
              "    <tr style=\"text-align: right;\">\n",
              "      <th></th>\n",
              "      <th>Pregnancies</th>\n",
              "      <th>Glucose</th>\n",
              "      <th>BloodPressure</th>\n",
              "      <th>SkinThickness</th>\n",
              "      <th>Insulin</th>\n",
              "      <th>BMI</th>\n",
              "      <th>DiabetesPedigreeFunction</th>\n",
              "      <th>Age</th>\n",
              "      <th>Outcome</th>\n",
              "    </tr>\n",
              "  </thead>\n",
              "  <tbody>\n",
              "    <tr>\n",
              "      <th>75</th>\n",
              "      <td>1</td>\n",
              "      <td>0</td>\n",
              "      <td>48</td>\n",
              "      <td>20</td>\n",
              "      <td>0</td>\n",
              "      <td>24.7</td>\n",
              "      <td>0.140</td>\n",
              "      <td>22</td>\n",
              "      <td>0</td>\n",
              "    </tr>\n",
              "    <tr>\n",
              "      <th>182</th>\n",
              "      <td>1</td>\n",
              "      <td>0</td>\n",
              "      <td>74</td>\n",
              "      <td>20</td>\n",
              "      <td>23</td>\n",
              "      <td>27.7</td>\n",
              "      <td>0.299</td>\n",
              "      <td>21</td>\n",
              "      <td>0</td>\n",
              "    </tr>\n",
              "    <tr>\n",
              "      <th>342</th>\n",
              "      <td>1</td>\n",
              "      <td>0</td>\n",
              "      <td>68</td>\n",
              "      <td>35</td>\n",
              "      <td>0</td>\n",
              "      <td>32.0</td>\n",
              "      <td>0.389</td>\n",
              "      <td>22</td>\n",
              "      <td>0</td>\n",
              "    </tr>\n",
              "    <tr>\n",
              "      <th>349</th>\n",
              "      <td>5</td>\n",
              "      <td>0</td>\n",
              "      <td>80</td>\n",
              "      <td>32</td>\n",
              "      <td>0</td>\n",
              "      <td>41.0</td>\n",
              "      <td>0.346</td>\n",
              "      <td>37</td>\n",
              "      <td>1</td>\n",
              "    </tr>\n",
              "    <tr>\n",
              "      <th>502</th>\n",
              "      <td>6</td>\n",
              "      <td>0</td>\n",
              "      <td>68</td>\n",
              "      <td>41</td>\n",
              "      <td>0</td>\n",
              "      <td>39.0</td>\n",
              "      <td>0.727</td>\n",
              "      <td>41</td>\n",
              "      <td>1</td>\n",
              "    </tr>\n",
              "  </tbody>\n",
              "</table>\n",
              "</div>\n",
              "      <button class=\"colab-df-convert\" onclick=\"convertToInteractive('df-3bae2c63-8a93-458d-8b35-70eb74e12d0d')\"\n",
              "              title=\"Convert this dataframe to an interactive table.\"\n",
              "              style=\"display:none;\">\n",
              "        \n",
              "  <svg xmlns=\"http://www.w3.org/2000/svg\" height=\"24px\"viewBox=\"0 0 24 24\"\n",
              "       width=\"24px\">\n",
              "    <path d=\"M0 0h24v24H0V0z\" fill=\"none\"/>\n",
              "    <path d=\"M18.56 5.44l.94 2.06.94-2.06 2.06-.94-2.06-.94-.94-2.06-.94 2.06-2.06.94zm-11 1L8.5 8.5l.94-2.06 2.06-.94-2.06-.94L8.5 2.5l-.94 2.06-2.06.94zm10 10l.94 2.06.94-2.06 2.06-.94-2.06-.94-.94-2.06-.94 2.06-2.06.94z\"/><path d=\"M17.41 7.96l-1.37-1.37c-.4-.4-.92-.59-1.43-.59-.52 0-1.04.2-1.43.59L10.3 9.45l-7.72 7.72c-.78.78-.78 2.05 0 2.83L4 21.41c.39.39.9.59 1.41.59.51 0 1.02-.2 1.41-.59l7.78-7.78 2.81-2.81c.8-.78.8-2.07 0-2.86zM5.41 20L4 18.59l7.72-7.72 1.47 1.35L5.41 20z\"/>\n",
              "  </svg>\n",
              "      </button>\n",
              "      \n",
              "  <style>\n",
              "    .colab-df-container {\n",
              "      display:flex;\n",
              "      flex-wrap:wrap;\n",
              "      gap: 12px;\n",
              "    }\n",
              "\n",
              "    .colab-df-convert {\n",
              "      background-color: #E8F0FE;\n",
              "      border: none;\n",
              "      border-radius: 50%;\n",
              "      cursor: pointer;\n",
              "      display: none;\n",
              "      fill: #1967D2;\n",
              "      height: 32px;\n",
              "      padding: 0 0 0 0;\n",
              "      width: 32px;\n",
              "    }\n",
              "\n",
              "    .colab-df-convert:hover {\n",
              "      background-color: #E2EBFA;\n",
              "      box-shadow: 0px 1px 2px rgba(60, 64, 67, 0.3), 0px 1px 3px 1px rgba(60, 64, 67, 0.15);\n",
              "      fill: #174EA6;\n",
              "    }\n",
              "\n",
              "    [theme=dark] .colab-df-convert {\n",
              "      background-color: #3B4455;\n",
              "      fill: #D2E3FC;\n",
              "    }\n",
              "\n",
              "    [theme=dark] .colab-df-convert:hover {\n",
              "      background-color: #434B5C;\n",
              "      box-shadow: 0px 1px 3px 1px rgba(0, 0, 0, 0.15);\n",
              "      filter: drop-shadow(0px 1px 2px rgba(0, 0, 0, 0.3));\n",
              "      fill: #FFFFFF;\n",
              "    }\n",
              "  </style>\n",
              "\n",
              "      <script>\n",
              "        const buttonEl =\n",
              "          document.querySelector('#df-3bae2c63-8a93-458d-8b35-70eb74e12d0d button.colab-df-convert');\n",
              "        buttonEl.style.display =\n",
              "          google.colab.kernel.accessAllowed ? 'block' : 'none';\n",
              "\n",
              "        async function convertToInteractive(key) {\n",
              "          const element = document.querySelector('#df-3bae2c63-8a93-458d-8b35-70eb74e12d0d');\n",
              "          const dataTable =\n",
              "            await google.colab.kernel.invokeFunction('convertToInteractive',\n",
              "                                                     [key], {});\n",
              "          if (!dataTable) return;\n",
              "\n",
              "          const docLinkHtml = 'Like what you see? Visit the ' +\n",
              "            '<a target=\"_blank\" href=https://colab.research.google.com/notebooks/data_table.ipynb>data table notebook</a>'\n",
              "            + ' to learn more about interactive tables.';\n",
              "          element.innerHTML = '';\n",
              "          dataTable['output_type'] = 'display_data';\n",
              "          await google.colab.output.renderOutput(dataTable, element);\n",
              "          const docLink = document.createElement('div');\n",
              "          docLink.innerHTML = docLinkHtml;\n",
              "          element.appendChild(docLink);\n",
              "        }\n",
              "      </script>\n",
              "    </div>\n",
              "  </div>\n",
              "  "
            ]
          },
          "metadata": {},
          "execution_count": 13
        }
      ]
    },
    {
      "cell_type": "markdown",
      "source": [
        "Revisando los valores en comparación a las demás columnas relacionados a estas 5 filas. Siento que no hay una relación clara, por ejemplo, una persona no podría tener un valor de Glucosa en 0 sabiendo que tiene Diabetes (Outcome = 1). También tomo como referencia lo que leí en el siguiente artículo [Ver](https://medlineplus.gov/spanish/ency/article/001214.htm#:~:text=Se%20diagnostica%20diabetes%20si%20el,para%20la%20diabetes%20tipo%202.) (**Fuente:** MedLinePlus.gov).\n",
        "\n",
        "\n",
        "\n"
      ],
      "metadata": {
        "id": "BJhJp3fII2Vy"
      }
    },
    {
      "cell_type": "markdown",
      "source": [
        "Con base a lo anterior procedere a generar una imputación de los valores de manera directa mediante el promedio de la columna."
      ],
      "metadata": {
        "id": "995DJ3FwNnP2"
      }
    },
    {
      "cell_type": "code",
      "source": [
        "# Reemplazo valores 0 con el valor promedio de la Columna\n",
        "Glucose_col = df['Glucose']\n",
        "Glucose_col.replace(to_replace = 0, value = Glucose_col.mean(), inplace=True)"
      ],
      "metadata": {
        "id": "vZ582qYXOP1x"
      },
      "execution_count": 14,
      "outputs": []
    },
    {
      "cell_type": "code",
      "source": [
        "# Verifico status de valores iguales a cero nuevamente por medio del filtro\n",
        "Glucose_filter = df.loc[:, 'Glucose'] == 0\n",
        "Glucose_filter.value_counts()"
      ],
      "metadata": {
        "colab": {
          "base_uri": "https://localhost:8080/"
        },
        "id": "7Jj-bNtkO3zE",
        "outputId": "61d0bce1-3b99-43fa-f54e-9f8b56977204"
      },
      "execution_count": 15,
      "outputs": [
        {
          "output_type": "execute_result",
          "data": {
            "text/plain": [
              "False    768\n",
              "Name: Glucose, dtype: int64"
            ]
          },
          "metadata": {},
          "execution_count": 15
        }
      ]
    },
    {
      "cell_type": "markdown",
      "source": [
        "Ya la columna Glucose quedo procesada satisfactoriamente con valores númericos sin alterar la categoria de la misma.\n",
        "\n",
        "---\n",
        "\n"
      ],
      "metadata": {
        "id": "ebEorLayO6mu"
      }
    },
    {
      "cell_type": "code",
      "source": [
        "# Generamos un filtro para obtener un acercamiento más claro de cuantas personas tienen Presión en la Sangre de 0\n",
        "BloodPressure_filter = df.loc[:, 'BloodPressure'] == 0\n",
        "BloodPressure_filter.value_counts()"
      ],
      "metadata": {
        "colab": {
          "base_uri": "https://localhost:8080/"
        },
        "id": "_yBXyFJr1Iy1",
        "outputId": "46cfa070-fc88-4af5-b28f-a789562d69c3"
      },
      "execution_count": 16,
      "outputs": [
        {
          "output_type": "execute_result",
          "data": {
            "text/plain": [
              "False    733\n",
              "True      35\n",
              "Name: BloodPressure, dtype: int64"
            ]
          },
          "metadata": {},
          "execution_count": 16
        }
      ]
    },
    {
      "cell_type": "code",
      "source": [
        "# Revisamos los valores únicos por datos de la columna\n",
        "df['BloodPressure'].value_counts()"
      ],
      "metadata": {
        "colab": {
          "base_uri": "https://localhost:8080/"
        },
        "id": "IS7CDwedSNxl",
        "outputId": "aeb014ac-b5a0-4a33-d5ac-81a539094f7b"
      },
      "execution_count": 17,
      "outputs": [
        {
          "output_type": "execute_result",
          "data": {
            "text/plain": [
              "70     57\n",
              "74     52\n",
              "78     45\n",
              "68     45\n",
              "72     44\n",
              "64     43\n",
              "80     40\n",
              "76     39\n",
              "60     37\n",
              "0      35\n",
              "62     34\n",
              "66     30\n",
              "82     30\n",
              "88     25\n",
              "84     23\n",
              "90     22\n",
              "86     21\n",
              "58     21\n",
              "50     13\n",
              "56     12\n",
              "52     11\n",
              "54     11\n",
              "75      8\n",
              "92      8\n",
              "65      7\n",
              "85      6\n",
              "94      6\n",
              "48      5\n",
              "96      4\n",
              "44      4\n",
              "100     3\n",
              "106     3\n",
              "98      3\n",
              "110     3\n",
              "55      2\n",
              "108     2\n",
              "104     2\n",
              "46      2\n",
              "30      2\n",
              "122     1\n",
              "95      1\n",
              "102     1\n",
              "61      1\n",
              "24      1\n",
              "38      1\n",
              "40      1\n",
              "114     1\n",
              "Name: BloodPressure, dtype: int64"
            ]
          },
          "metadata": {},
          "execution_count": 17
        }
      ]
    },
    {
      "cell_type": "markdown",
      "source": [
        "La anterior revisión me permite definir que aunque hayan personas con presión arterial baja no es normal que su valor sea cero. Pues esto indicaria que la persona no tendria pulso y no estuviese viva.\n",
        "\n",
        "Lo anterior esta fundamentado en las siguientes fuentes informativas:\n",
        "\n",
        "* La presión arterial alta ([Ver Fuente](https://www.nia.nih.gov/espanol/presion-arterial-alta#:~:text=La%20presi%C3%B3n%20arterial%20normal%20para,se%20indica%20como%20120%2F80.))\n",
        "* Presión arterial baja o hipotensión ([Ver Fuente](https://www.bupasalud.com.mx/salud/hipotension-presion-arterial-baja))"
      ],
      "metadata": {
        "id": "rIZ3-leXTkOh"
      }
    },
    {
      "cell_type": "markdown",
      "source": [
        "Por lo cual procedere a generar una imputación de los valores de manera directa mediante el promedio de la columna."
      ],
      "metadata": {
        "id": "ETxNieltWBz3"
      }
    },
    {
      "cell_type": "code",
      "source": [
        "# Reemplazo valores 0 con el valor promedio de la Columna\n",
        "BloodPressure_col = df['BloodPressure']\n",
        "BloodPressure_col.replace(to_replace = 0, value = BloodPressure_col.mean(), inplace=True)"
      ],
      "metadata": {
        "id": "D2QWGYv8WC4c"
      },
      "execution_count": 18,
      "outputs": []
    },
    {
      "cell_type": "code",
      "source": [
        "# Verifico status de valores iguales a cero nuevamente por medio del filtro\n",
        "BloodPressure_filter = df.loc[:, 'BloodPressure'] == 0\n",
        "BloodPressure_filter.value_counts()"
      ],
      "metadata": {
        "colab": {
          "base_uri": "https://localhost:8080/"
        },
        "id": "2uVKagOwWJSJ",
        "outputId": "2da78595-c477-4915-d561-7969dd4a87ee"
      },
      "execution_count": 19,
      "outputs": [
        {
          "output_type": "execute_result",
          "data": {
            "text/plain": [
              "False    768\n",
              "Name: BloodPressure, dtype: int64"
            ]
          },
          "metadata": {},
          "execution_count": 19
        }
      ]
    },
    {
      "cell_type": "markdown",
      "source": [
        "Ya la columna BloodPressure quedo procesada satisfactoriamente con valores númericos sin alterar la categoria de la misma.\n",
        "\n",
        "\n",
        "\n",
        "---\n",
        "\n"
      ],
      "metadata": {
        "id": "eSQG2QqxV31z"
      }
    },
    {
      "cell_type": "code",
      "source": [
        "# Generamos un filtro para obtener un acercamiento más claro de cuantas personas tienen Grosor de la Piel en 0\n",
        "SkinThickness_filter = df.loc[:, 'SkinThickness'] == 0\n",
        "SkinThickness_filter.value_counts()"
      ],
      "metadata": {
        "colab": {
          "base_uri": "https://localhost:8080/"
        },
        "id": "av3J-JqM1ct-",
        "outputId": "24d86d90-987e-4703-ae2a-449f6f365d81"
      },
      "execution_count": 20,
      "outputs": [
        {
          "output_type": "execute_result",
          "data": {
            "text/plain": [
              "False    541\n",
              "True     227\n",
              "Name: SkinThickness, dtype: int64"
            ]
          },
          "metadata": {},
          "execution_count": 20
        }
      ]
    },
    {
      "cell_type": "markdown",
      "source": [
        "También, revisando nuevamente el diccionario de datos, me encuentro que esta columna es numérica de tipo entero, lo que me lleva a intuir, que lo más seguro, es que esos valores que aparecen en cero puedan hacer referencias a medidas milimétricas de 0.1 en adelante por poner un ejemplo y que al ser enteros quedan redondeados a cero. ([Ver fuente](https://www.eucerin.es/acerca-de-la-piel/conocimientos-basicos-sobre-la-piel/estructura-y-funcion-de-la-piel#:~:text=En%20la%20mayor%C3%ADa%20de%20las,las%20plantas%20de%20los%20pies.)).\n",
        "\n",
        "Por ello no haría el reemplazamiento o imputamiento de datos a esta columna, pues me aparece que se apega al concepto de información que encontré en la fuente médica que estuve leyendo. \n",
        "\n",
        "---"
      ],
      "metadata": {
        "id": "dVjn4BYkXQIN"
      }
    },
    {
      "cell_type": "code",
      "source": [
        "Insulin_filter = df.loc[:, 'Insulin'] == 0\n",
        "Insulin_filter.value_counts()"
      ],
      "metadata": {
        "colab": {
          "base_uri": "https://localhost:8080/"
        },
        "id": "tmU6EeVC1oXr",
        "outputId": "a14425f8-4568-44d7-a5bf-151dad44f970"
      },
      "execution_count": 21,
      "outputs": [
        {
          "output_type": "execute_result",
          "data": {
            "text/plain": [
              "False    394\n",
              "True     374\n",
              "Name: Insulin, dtype: int64"
            ]
          },
          "metadata": {},
          "execution_count": 21
        }
      ]
    },
    {
      "cell_type": "markdown",
      "source": [
        "Vemos que se tienen unas 374 personas con nivel de insulina 0. Esto representa casi que el 50% de los valores de las filas asociadas a esta columna.\n",
        "\n",
        "Por lo que consulte nuevamente en páginas que hablan sobre el tema y me encuentro que los niveles de Insulina si puede llegar a ser bajos, más no que lleguen hasta el punto de ser cero. [Ver fuente](https://dtc.ucsf.edu/es/tipos-de-diabetes/diabetes-tipo-2/tratamiento-de-la-diabetes-tipo-2/medicamentos-y-terapias-2/prescripcion-de-insulina-para-diabetes-tipo-2/informacion-basica-sobre-la-insulina/#:~:text=La%20insulina%20natural%20(es%20decir,de%20las%20comidas%20y%20aperitivos.).\n",
        "\n",
        "Por lo cual procedere a generar una imputación de los valores de manera directa mediante el promedio de la columna.\n",
        "\n"
      ],
      "metadata": {
        "id": "7rvVUabEdBQ6"
      }
    },
    {
      "cell_type": "code",
      "source": [
        "# Reemplazo valores 0 con el valor promedio de la Columna\n",
        "Insulin_col = df['Insulin']\n",
        "Insulin_col.replace(to_replace = 0, value = Insulin_col.mean(), inplace=True)"
      ],
      "metadata": {
        "id": "vZ5j568ceAlR"
      },
      "execution_count": 22,
      "outputs": []
    },
    {
      "cell_type": "code",
      "source": [
        "# Verifico status de valores iguales a cero nuevamente por medio del filtro\n",
        "Insulin_filter = df.loc[:, 'Insulin'] == 0\n",
        "Insulin_filter.value_counts()"
      ],
      "metadata": {
        "colab": {
          "base_uri": "https://localhost:8080/"
        },
        "id": "OgUO8bvPeFQb",
        "outputId": "421d6152-b34b-4caf-dc63-2b9fb22ea03c"
      },
      "execution_count": 23,
      "outputs": [
        {
          "output_type": "execute_result",
          "data": {
            "text/plain": [
              "False    768\n",
              "Name: Insulin, dtype: int64"
            ]
          },
          "metadata": {},
          "execution_count": 23
        }
      ]
    },
    {
      "cell_type": "markdown",
      "source": [
        "Ya la columna Insulin quedo procesada satisfactoriamente con valores númericos sin alterar la categoria de la misma.\n",
        "\n",
        "---"
      ],
      "metadata": {
        "id": "FTRnONaoeeMA"
      }
    },
    {
      "cell_type": "code",
      "source": [
        "BMI_filter = df.loc[:, 'BMI'] == 0\n",
        "BMI_filter.value_counts()"
      ],
      "metadata": {
        "colab": {
          "base_uri": "https://localhost:8080/"
        },
        "id": "W1K2VeJL6nvx",
        "outputId": "4fc80d4e-0dad-420b-f739-63fa1d39a95f"
      },
      "execution_count": 24,
      "outputs": [
        {
          "output_type": "execute_result",
          "data": {
            "text/plain": [
              "False    757\n",
              "True      11\n",
              "Name: BMI, dtype: int64"
            ]
          },
          "metadata": {},
          "execution_count": 24
        }
      ]
    },
    {
      "cell_type": "code",
      "source": [
        "# Visualizamos en un DataFrame estos 5 valores relacionados al filtro de la Columna\n",
        "df[BMI_filter]"
      ],
      "metadata": {
        "colab": {
          "base_uri": "https://localhost:8080/",
          "height": 395
        },
        "id": "7pOchpbufBEh",
        "outputId": "9a12323e-891e-462d-b53a-eb0362e8c54b"
      },
      "execution_count": 25,
      "outputs": [
        {
          "output_type": "execute_result",
          "data": {
            "text/plain": [
              "     Pregnancies  Glucose  BloodPressure  SkinThickness    Insulin  BMI  \\\n",
              "9              8    125.0      96.000000              0  79.799479  0.0   \n",
              "49             7    105.0      69.105469              0  79.799479  0.0   \n",
              "60             2     84.0      69.105469              0  79.799479  0.0   \n",
              "81             2     74.0      69.105469              0  79.799479  0.0   \n",
              "145            0    102.0      75.000000             23  79.799479  0.0   \n",
              "371            0    118.0      64.000000             23  89.000000  0.0   \n",
              "426            0     94.0      69.105469              0  79.799479  0.0   \n",
              "494            3     80.0      69.105469              0  79.799479  0.0   \n",
              "522            6    114.0      69.105469              0  79.799479  0.0   \n",
              "684            5    136.0      82.000000              0  79.799479  0.0   \n",
              "706           10    115.0      69.105469              0  79.799479  0.0   \n",
              "\n",
              "     DiabetesPedigreeFunction  Age  Outcome  \n",
              "9                       0.232   54        1  \n",
              "49                      0.305   24        0  \n",
              "60                      0.304   21        0  \n",
              "81                      0.102   22        0  \n",
              "145                     0.572   21        0  \n",
              "371                     1.731   21        0  \n",
              "426                     0.256   25        0  \n",
              "494                     0.174   22        0  \n",
              "522                     0.189   26        0  \n",
              "684                     0.640   69        0  \n",
              "706                     0.261   30        1  "
            ],
            "text/html": [
              "\n",
              "  <div id=\"df-eb809a16-d372-402b-b487-63059ccc91be\">\n",
              "    <div class=\"colab-df-container\">\n",
              "      <div>\n",
              "<style scoped>\n",
              "    .dataframe tbody tr th:only-of-type {\n",
              "        vertical-align: middle;\n",
              "    }\n",
              "\n",
              "    .dataframe tbody tr th {\n",
              "        vertical-align: top;\n",
              "    }\n",
              "\n",
              "    .dataframe thead th {\n",
              "        text-align: right;\n",
              "    }\n",
              "</style>\n",
              "<table border=\"1\" class=\"dataframe\">\n",
              "  <thead>\n",
              "    <tr style=\"text-align: right;\">\n",
              "      <th></th>\n",
              "      <th>Pregnancies</th>\n",
              "      <th>Glucose</th>\n",
              "      <th>BloodPressure</th>\n",
              "      <th>SkinThickness</th>\n",
              "      <th>Insulin</th>\n",
              "      <th>BMI</th>\n",
              "      <th>DiabetesPedigreeFunction</th>\n",
              "      <th>Age</th>\n",
              "      <th>Outcome</th>\n",
              "    </tr>\n",
              "  </thead>\n",
              "  <tbody>\n",
              "    <tr>\n",
              "      <th>9</th>\n",
              "      <td>8</td>\n",
              "      <td>125.0</td>\n",
              "      <td>96.000000</td>\n",
              "      <td>0</td>\n",
              "      <td>79.799479</td>\n",
              "      <td>0.0</td>\n",
              "      <td>0.232</td>\n",
              "      <td>54</td>\n",
              "      <td>1</td>\n",
              "    </tr>\n",
              "    <tr>\n",
              "      <th>49</th>\n",
              "      <td>7</td>\n",
              "      <td>105.0</td>\n",
              "      <td>69.105469</td>\n",
              "      <td>0</td>\n",
              "      <td>79.799479</td>\n",
              "      <td>0.0</td>\n",
              "      <td>0.305</td>\n",
              "      <td>24</td>\n",
              "      <td>0</td>\n",
              "    </tr>\n",
              "    <tr>\n",
              "      <th>60</th>\n",
              "      <td>2</td>\n",
              "      <td>84.0</td>\n",
              "      <td>69.105469</td>\n",
              "      <td>0</td>\n",
              "      <td>79.799479</td>\n",
              "      <td>0.0</td>\n",
              "      <td>0.304</td>\n",
              "      <td>21</td>\n",
              "      <td>0</td>\n",
              "    </tr>\n",
              "    <tr>\n",
              "      <th>81</th>\n",
              "      <td>2</td>\n",
              "      <td>74.0</td>\n",
              "      <td>69.105469</td>\n",
              "      <td>0</td>\n",
              "      <td>79.799479</td>\n",
              "      <td>0.0</td>\n",
              "      <td>0.102</td>\n",
              "      <td>22</td>\n",
              "      <td>0</td>\n",
              "    </tr>\n",
              "    <tr>\n",
              "      <th>145</th>\n",
              "      <td>0</td>\n",
              "      <td>102.0</td>\n",
              "      <td>75.000000</td>\n",
              "      <td>23</td>\n",
              "      <td>79.799479</td>\n",
              "      <td>0.0</td>\n",
              "      <td>0.572</td>\n",
              "      <td>21</td>\n",
              "      <td>0</td>\n",
              "    </tr>\n",
              "    <tr>\n",
              "      <th>371</th>\n",
              "      <td>0</td>\n",
              "      <td>118.0</td>\n",
              "      <td>64.000000</td>\n",
              "      <td>23</td>\n",
              "      <td>89.000000</td>\n",
              "      <td>0.0</td>\n",
              "      <td>1.731</td>\n",
              "      <td>21</td>\n",
              "      <td>0</td>\n",
              "    </tr>\n",
              "    <tr>\n",
              "      <th>426</th>\n",
              "      <td>0</td>\n",
              "      <td>94.0</td>\n",
              "      <td>69.105469</td>\n",
              "      <td>0</td>\n",
              "      <td>79.799479</td>\n",
              "      <td>0.0</td>\n",
              "      <td>0.256</td>\n",
              "      <td>25</td>\n",
              "      <td>0</td>\n",
              "    </tr>\n",
              "    <tr>\n",
              "      <th>494</th>\n",
              "      <td>3</td>\n",
              "      <td>80.0</td>\n",
              "      <td>69.105469</td>\n",
              "      <td>0</td>\n",
              "      <td>79.799479</td>\n",
              "      <td>0.0</td>\n",
              "      <td>0.174</td>\n",
              "      <td>22</td>\n",
              "      <td>0</td>\n",
              "    </tr>\n",
              "    <tr>\n",
              "      <th>522</th>\n",
              "      <td>6</td>\n",
              "      <td>114.0</td>\n",
              "      <td>69.105469</td>\n",
              "      <td>0</td>\n",
              "      <td>79.799479</td>\n",
              "      <td>0.0</td>\n",
              "      <td>0.189</td>\n",
              "      <td>26</td>\n",
              "      <td>0</td>\n",
              "    </tr>\n",
              "    <tr>\n",
              "      <th>684</th>\n",
              "      <td>5</td>\n",
              "      <td>136.0</td>\n",
              "      <td>82.000000</td>\n",
              "      <td>0</td>\n",
              "      <td>79.799479</td>\n",
              "      <td>0.0</td>\n",
              "      <td>0.640</td>\n",
              "      <td>69</td>\n",
              "      <td>0</td>\n",
              "    </tr>\n",
              "    <tr>\n",
              "      <th>706</th>\n",
              "      <td>10</td>\n",
              "      <td>115.0</td>\n",
              "      <td>69.105469</td>\n",
              "      <td>0</td>\n",
              "      <td>79.799479</td>\n",
              "      <td>0.0</td>\n",
              "      <td>0.261</td>\n",
              "      <td>30</td>\n",
              "      <td>1</td>\n",
              "    </tr>\n",
              "  </tbody>\n",
              "</table>\n",
              "</div>\n",
              "      <button class=\"colab-df-convert\" onclick=\"convertToInteractive('df-eb809a16-d372-402b-b487-63059ccc91be')\"\n",
              "              title=\"Convert this dataframe to an interactive table.\"\n",
              "              style=\"display:none;\">\n",
              "        \n",
              "  <svg xmlns=\"http://www.w3.org/2000/svg\" height=\"24px\"viewBox=\"0 0 24 24\"\n",
              "       width=\"24px\">\n",
              "    <path d=\"M0 0h24v24H0V0z\" fill=\"none\"/>\n",
              "    <path d=\"M18.56 5.44l.94 2.06.94-2.06 2.06-.94-2.06-.94-.94-2.06-.94 2.06-2.06.94zm-11 1L8.5 8.5l.94-2.06 2.06-.94-2.06-.94L8.5 2.5l-.94 2.06-2.06.94zm10 10l.94 2.06.94-2.06 2.06-.94-2.06-.94-.94-2.06-.94 2.06-2.06.94z\"/><path d=\"M17.41 7.96l-1.37-1.37c-.4-.4-.92-.59-1.43-.59-.52 0-1.04.2-1.43.59L10.3 9.45l-7.72 7.72c-.78.78-.78 2.05 0 2.83L4 21.41c.39.39.9.59 1.41.59.51 0 1.02-.2 1.41-.59l7.78-7.78 2.81-2.81c.8-.78.8-2.07 0-2.86zM5.41 20L4 18.59l7.72-7.72 1.47 1.35L5.41 20z\"/>\n",
              "  </svg>\n",
              "      </button>\n",
              "      \n",
              "  <style>\n",
              "    .colab-df-container {\n",
              "      display:flex;\n",
              "      flex-wrap:wrap;\n",
              "      gap: 12px;\n",
              "    }\n",
              "\n",
              "    .colab-df-convert {\n",
              "      background-color: #E8F0FE;\n",
              "      border: none;\n",
              "      border-radius: 50%;\n",
              "      cursor: pointer;\n",
              "      display: none;\n",
              "      fill: #1967D2;\n",
              "      height: 32px;\n",
              "      padding: 0 0 0 0;\n",
              "      width: 32px;\n",
              "    }\n",
              "\n",
              "    .colab-df-convert:hover {\n",
              "      background-color: #E2EBFA;\n",
              "      box-shadow: 0px 1px 2px rgba(60, 64, 67, 0.3), 0px 1px 3px 1px rgba(60, 64, 67, 0.15);\n",
              "      fill: #174EA6;\n",
              "    }\n",
              "\n",
              "    [theme=dark] .colab-df-convert {\n",
              "      background-color: #3B4455;\n",
              "      fill: #D2E3FC;\n",
              "    }\n",
              "\n",
              "    [theme=dark] .colab-df-convert:hover {\n",
              "      background-color: #434B5C;\n",
              "      box-shadow: 0px 1px 3px 1px rgba(0, 0, 0, 0.15);\n",
              "      filter: drop-shadow(0px 1px 2px rgba(0, 0, 0, 0.3));\n",
              "      fill: #FFFFFF;\n",
              "    }\n",
              "  </style>\n",
              "\n",
              "      <script>\n",
              "        const buttonEl =\n",
              "          document.querySelector('#df-eb809a16-d372-402b-b487-63059ccc91be button.colab-df-convert');\n",
              "        buttonEl.style.display =\n",
              "          google.colab.kernel.accessAllowed ? 'block' : 'none';\n",
              "\n",
              "        async function convertToInteractive(key) {\n",
              "          const element = document.querySelector('#df-eb809a16-d372-402b-b487-63059ccc91be');\n",
              "          const dataTable =\n",
              "            await google.colab.kernel.invokeFunction('convertToInteractive',\n",
              "                                                     [key], {});\n",
              "          if (!dataTable) return;\n",
              "\n",
              "          const docLinkHtml = 'Like what you see? Visit the ' +\n",
              "            '<a target=\"_blank\" href=https://colab.research.google.com/notebooks/data_table.ipynb>data table notebook</a>'\n",
              "            + ' to learn more about interactive tables.';\n",
              "          element.innerHTML = '';\n",
              "          dataTable['output_type'] = 'display_data';\n",
              "          await google.colab.output.renderOutput(dataTable, element);\n",
              "          const docLink = document.createElement('div');\n",
              "          docLink.innerHTML = docLinkHtml;\n",
              "          element.appendChild(docLink);\n",
              "        }\n",
              "      </script>\n",
              "    </div>\n",
              "  </div>\n",
              "  "
            ]
          },
          "metadata": {},
          "execution_count": 25
        }
      ]
    },
    {
      "cell_type": "markdown",
      "source": [
        "Identificamos que tenemos a 11 personas sin Índice de Masa Corporal, por lo que comprendemos por mera lógica que este valor es incorrecto y que debe ser reemplazado al menos con el promedio de valores de la columna."
      ],
      "metadata": {
        "id": "5bCgNNIOecWW"
      }
    },
    {
      "cell_type": "code",
      "source": [
        "# Reemplazo valores 0 con el valor promedio de la Columna\n",
        "BMI_col = df['BMI']\n",
        "BMI_col.replace(to_replace = 0, value = BMI_col.mean(), inplace=True)"
      ],
      "metadata": {
        "id": "2WkuM4LvfZhq"
      },
      "execution_count": 26,
      "outputs": []
    },
    {
      "cell_type": "code",
      "source": [
        "BMI_filter = df.loc[:, 'BMI'] == 0\n",
        "BMI_filter.value_counts()"
      ],
      "metadata": {
        "colab": {
          "base_uri": "https://localhost:8080/"
        },
        "id": "tvH47fzRfbll",
        "outputId": "bcd96ff4-5d4c-4c63-e3ca-c517bc1287de"
      },
      "execution_count": 27,
      "outputs": [
        {
          "output_type": "execute_result",
          "data": {
            "text/plain": [
              "False    768\n",
              "Name: BMI, dtype: int64"
            ]
          },
          "metadata": {},
          "execution_count": 27
        }
      ]
    },
    {
      "cell_type": "markdown",
      "source": [
        "Ya la columna BMI quedo procesada satisfactoriamente con valores númericos sin alterar la categoria de la misma.\n",
        "\n",
        "---"
      ],
      "metadata": {
        "id": "XxZIkBokfvIF"
      }
    },
    {
      "cell_type": "markdown",
      "source": [
        "Finalmente, volvemos a verificar que nuestro dataset no tenga ningún error luego de los pasos recién ejecutados para la limpieza de los datos."
      ],
      "metadata": {
        "id": "VPckunrY17Cu"
      }
    },
    {
      "cell_type": "code",
      "source": [
        "# Revisamos el número y tipo de datos por Columna\n",
        "df.info()"
      ],
      "metadata": {
        "colab": {
          "base_uri": "https://localhost:8080/"
        },
        "id": "dQ7xUX1EfzDz",
        "outputId": "409a327c-95ca-4b2c-9d99-2567a40e824e"
      },
      "execution_count": 28,
      "outputs": [
        {
          "output_type": "stream",
          "name": "stdout",
          "text": [
            "<class 'pandas.core.frame.DataFrame'>\n",
            "RangeIndex: 768 entries, 0 to 767\n",
            "Data columns (total 9 columns):\n",
            " #   Column                    Non-Null Count  Dtype  \n",
            "---  ------                    --------------  -----  \n",
            " 0   Pregnancies               768 non-null    int64  \n",
            " 1   Glucose                   768 non-null    float64\n",
            " 2   BloodPressure             768 non-null    float64\n",
            " 3   SkinThickness             768 non-null    int64  \n",
            " 4   Insulin                   768 non-null    float64\n",
            " 5   BMI                       768 non-null    float64\n",
            " 6   DiabetesPedigreeFunction  768 non-null    float64\n",
            " 7   Age                       768 non-null    int64  \n",
            " 8   Outcome                   768 non-null    int64  \n",
            "dtypes: float64(5), int64(4)\n",
            "memory usage: 54.1 KB\n"
          ]
        }
      ]
    },
    {
      "cell_type": "code",
      "source": [
        "# Volvemos a verificar la información que nos entrega de todas las estadísticas de las columnas numéricas\n",
        "df.describe()"
      ],
      "metadata": {
        "colab": {
          "base_uri": "https://localhost:8080/",
          "height": 301
        },
        "id": "OhIfn2JTf2U2",
        "outputId": "95c4960e-a2c5-402b-8fb8-9923ef0cb218"
      },
      "execution_count": 29,
      "outputs": [
        {
          "output_type": "execute_result",
          "data": {
            "text/plain": [
              "       Pregnancies     Glucose  BloodPressure  SkinThickness     Insulin  \\\n",
              "count   768.000000  768.000000     768.000000     768.000000  768.000000   \n",
              "mean      3.845052  121.681605      72.254807      20.536458  118.660163   \n",
              "std       3.369578   30.436016      12.115932      15.952218   93.080358   \n",
              "min       0.000000   44.000000      24.000000       0.000000   14.000000   \n",
              "25%       1.000000   99.750000      64.000000       0.000000   79.799479   \n",
              "50%       3.000000  117.000000      72.000000      23.000000   79.799479   \n",
              "75%       6.000000  140.250000      80.000000      32.000000  127.250000   \n",
              "max      17.000000  199.000000     122.000000      99.000000  846.000000   \n",
              "\n",
              "              BMI  DiabetesPedigreeFunction         Age     Outcome  \n",
              "count  768.000000                768.000000  768.000000  768.000000  \n",
              "mean    32.450805                  0.471876   33.240885    0.348958  \n",
              "std      6.875374                  0.331329   11.760232    0.476951  \n",
              "min     18.200000                  0.078000   21.000000    0.000000  \n",
              "25%     27.500000                  0.243750   24.000000    0.000000  \n",
              "50%     32.000000                  0.372500   29.000000    0.000000  \n",
              "75%     36.600000                  0.626250   41.000000    1.000000  \n",
              "max     67.100000                  2.420000   81.000000    1.000000  "
            ],
            "text/html": [
              "\n",
              "  <div id=\"df-b908d940-ec21-481b-89ab-8644d274598b\">\n",
              "    <div class=\"colab-df-container\">\n",
              "      <div>\n",
              "<style scoped>\n",
              "    .dataframe tbody tr th:only-of-type {\n",
              "        vertical-align: middle;\n",
              "    }\n",
              "\n",
              "    .dataframe tbody tr th {\n",
              "        vertical-align: top;\n",
              "    }\n",
              "\n",
              "    .dataframe thead th {\n",
              "        text-align: right;\n",
              "    }\n",
              "</style>\n",
              "<table border=\"1\" class=\"dataframe\">\n",
              "  <thead>\n",
              "    <tr style=\"text-align: right;\">\n",
              "      <th></th>\n",
              "      <th>Pregnancies</th>\n",
              "      <th>Glucose</th>\n",
              "      <th>BloodPressure</th>\n",
              "      <th>SkinThickness</th>\n",
              "      <th>Insulin</th>\n",
              "      <th>BMI</th>\n",
              "      <th>DiabetesPedigreeFunction</th>\n",
              "      <th>Age</th>\n",
              "      <th>Outcome</th>\n",
              "    </tr>\n",
              "  </thead>\n",
              "  <tbody>\n",
              "    <tr>\n",
              "      <th>count</th>\n",
              "      <td>768.000000</td>\n",
              "      <td>768.000000</td>\n",
              "      <td>768.000000</td>\n",
              "      <td>768.000000</td>\n",
              "      <td>768.000000</td>\n",
              "      <td>768.000000</td>\n",
              "      <td>768.000000</td>\n",
              "      <td>768.000000</td>\n",
              "      <td>768.000000</td>\n",
              "    </tr>\n",
              "    <tr>\n",
              "      <th>mean</th>\n",
              "      <td>3.845052</td>\n",
              "      <td>121.681605</td>\n",
              "      <td>72.254807</td>\n",
              "      <td>20.536458</td>\n",
              "      <td>118.660163</td>\n",
              "      <td>32.450805</td>\n",
              "      <td>0.471876</td>\n",
              "      <td>33.240885</td>\n",
              "      <td>0.348958</td>\n",
              "    </tr>\n",
              "    <tr>\n",
              "      <th>std</th>\n",
              "      <td>3.369578</td>\n",
              "      <td>30.436016</td>\n",
              "      <td>12.115932</td>\n",
              "      <td>15.952218</td>\n",
              "      <td>93.080358</td>\n",
              "      <td>6.875374</td>\n",
              "      <td>0.331329</td>\n",
              "      <td>11.760232</td>\n",
              "      <td>0.476951</td>\n",
              "    </tr>\n",
              "    <tr>\n",
              "      <th>min</th>\n",
              "      <td>0.000000</td>\n",
              "      <td>44.000000</td>\n",
              "      <td>24.000000</td>\n",
              "      <td>0.000000</td>\n",
              "      <td>14.000000</td>\n",
              "      <td>18.200000</td>\n",
              "      <td>0.078000</td>\n",
              "      <td>21.000000</td>\n",
              "      <td>0.000000</td>\n",
              "    </tr>\n",
              "    <tr>\n",
              "      <th>25%</th>\n",
              "      <td>1.000000</td>\n",
              "      <td>99.750000</td>\n",
              "      <td>64.000000</td>\n",
              "      <td>0.000000</td>\n",
              "      <td>79.799479</td>\n",
              "      <td>27.500000</td>\n",
              "      <td>0.243750</td>\n",
              "      <td>24.000000</td>\n",
              "      <td>0.000000</td>\n",
              "    </tr>\n",
              "    <tr>\n",
              "      <th>50%</th>\n",
              "      <td>3.000000</td>\n",
              "      <td>117.000000</td>\n",
              "      <td>72.000000</td>\n",
              "      <td>23.000000</td>\n",
              "      <td>79.799479</td>\n",
              "      <td>32.000000</td>\n",
              "      <td>0.372500</td>\n",
              "      <td>29.000000</td>\n",
              "      <td>0.000000</td>\n",
              "    </tr>\n",
              "    <tr>\n",
              "      <th>75%</th>\n",
              "      <td>6.000000</td>\n",
              "      <td>140.250000</td>\n",
              "      <td>80.000000</td>\n",
              "      <td>32.000000</td>\n",
              "      <td>127.250000</td>\n",
              "      <td>36.600000</td>\n",
              "      <td>0.626250</td>\n",
              "      <td>41.000000</td>\n",
              "      <td>1.000000</td>\n",
              "    </tr>\n",
              "    <tr>\n",
              "      <th>max</th>\n",
              "      <td>17.000000</td>\n",
              "      <td>199.000000</td>\n",
              "      <td>122.000000</td>\n",
              "      <td>99.000000</td>\n",
              "      <td>846.000000</td>\n",
              "      <td>67.100000</td>\n",
              "      <td>2.420000</td>\n",
              "      <td>81.000000</td>\n",
              "      <td>1.000000</td>\n",
              "    </tr>\n",
              "  </tbody>\n",
              "</table>\n",
              "</div>\n",
              "      <button class=\"colab-df-convert\" onclick=\"convertToInteractive('df-b908d940-ec21-481b-89ab-8644d274598b')\"\n",
              "              title=\"Convert this dataframe to an interactive table.\"\n",
              "              style=\"display:none;\">\n",
              "        \n",
              "  <svg xmlns=\"http://www.w3.org/2000/svg\" height=\"24px\"viewBox=\"0 0 24 24\"\n",
              "       width=\"24px\">\n",
              "    <path d=\"M0 0h24v24H0V0z\" fill=\"none\"/>\n",
              "    <path d=\"M18.56 5.44l.94 2.06.94-2.06 2.06-.94-2.06-.94-.94-2.06-.94 2.06-2.06.94zm-11 1L8.5 8.5l.94-2.06 2.06-.94-2.06-.94L8.5 2.5l-.94 2.06-2.06.94zm10 10l.94 2.06.94-2.06 2.06-.94-2.06-.94-.94-2.06-.94 2.06-2.06.94z\"/><path d=\"M17.41 7.96l-1.37-1.37c-.4-.4-.92-.59-1.43-.59-.52 0-1.04.2-1.43.59L10.3 9.45l-7.72 7.72c-.78.78-.78 2.05 0 2.83L4 21.41c.39.39.9.59 1.41.59.51 0 1.02-.2 1.41-.59l7.78-7.78 2.81-2.81c.8-.78.8-2.07 0-2.86zM5.41 20L4 18.59l7.72-7.72 1.47 1.35L5.41 20z\"/>\n",
              "  </svg>\n",
              "      </button>\n",
              "      \n",
              "  <style>\n",
              "    .colab-df-container {\n",
              "      display:flex;\n",
              "      flex-wrap:wrap;\n",
              "      gap: 12px;\n",
              "    }\n",
              "\n",
              "    .colab-df-convert {\n",
              "      background-color: #E8F0FE;\n",
              "      border: none;\n",
              "      border-radius: 50%;\n",
              "      cursor: pointer;\n",
              "      display: none;\n",
              "      fill: #1967D2;\n",
              "      height: 32px;\n",
              "      padding: 0 0 0 0;\n",
              "      width: 32px;\n",
              "    }\n",
              "\n",
              "    .colab-df-convert:hover {\n",
              "      background-color: #E2EBFA;\n",
              "      box-shadow: 0px 1px 2px rgba(60, 64, 67, 0.3), 0px 1px 3px 1px rgba(60, 64, 67, 0.15);\n",
              "      fill: #174EA6;\n",
              "    }\n",
              "\n",
              "    [theme=dark] .colab-df-convert {\n",
              "      background-color: #3B4455;\n",
              "      fill: #D2E3FC;\n",
              "    }\n",
              "\n",
              "    [theme=dark] .colab-df-convert:hover {\n",
              "      background-color: #434B5C;\n",
              "      box-shadow: 0px 1px 3px 1px rgba(0, 0, 0, 0.15);\n",
              "      filter: drop-shadow(0px 1px 2px rgba(0, 0, 0, 0.3));\n",
              "      fill: #FFFFFF;\n",
              "    }\n",
              "  </style>\n",
              "\n",
              "      <script>\n",
              "        const buttonEl =\n",
              "          document.querySelector('#df-b908d940-ec21-481b-89ab-8644d274598b button.colab-df-convert');\n",
              "        buttonEl.style.display =\n",
              "          google.colab.kernel.accessAllowed ? 'block' : 'none';\n",
              "\n",
              "        async function convertToInteractive(key) {\n",
              "          const element = document.querySelector('#df-b908d940-ec21-481b-89ab-8644d274598b');\n",
              "          const dataTable =\n",
              "            await google.colab.kernel.invokeFunction('convertToInteractive',\n",
              "                                                     [key], {});\n",
              "          if (!dataTable) return;\n",
              "\n",
              "          const docLinkHtml = 'Like what you see? Visit the ' +\n",
              "            '<a target=\"_blank\" href=https://colab.research.google.com/notebooks/data_table.ipynb>data table notebook</a>'\n",
              "            + ' to learn more about interactive tables.';\n",
              "          element.innerHTML = '';\n",
              "          dataTable['output_type'] = 'display_data';\n",
              "          await google.colab.output.renderOutput(dataTable, element);\n",
              "          const docLink = document.createElement('div');\n",
              "          docLink.innerHTML = docLinkHtml;\n",
              "          element.appendChild(docLink);\n",
              "        }\n",
              "      </script>\n",
              "    </div>\n",
              "  </div>\n",
              "  "
            ]
          },
          "metadata": {},
          "execution_count": 29
        }
      ]
    },
    {
      "cell_type": "markdown",
      "source": [
        "\n",
        "\n",
        "---\n",
        "\n"
      ],
      "metadata": {
        "id": "zgtsYFpAnv6Z"
      }
    },
    {
      "cell_type": "markdown",
      "source": [
        "##⭐*Explorar los datos (Visualizaciones)*"
      ],
      "metadata": {
        "id": "1MkJCgJenxr4"
      }
    },
    {
      "cell_type": "markdown",
      "source": [
        "Luego de la limpieza de nuestros datos, vamos a generar unos gráficos para conocer como podemos sacar unos análisis a partir del comportamiento visual de estos datos. Para ello me gustaría iniciar con una identificación de la correlación entre las columnas del data set."
      ],
      "metadata": {
        "id": "k5pgGqvUoPJg"
      }
    },
    {
      "cell_type": "code",
      "source": [
        "# Verificamos dentro del DataFrame la correlación entre sus columnas\n",
        "df.corr()"
      ],
      "metadata": {
        "colab": {
          "base_uri": "https://localhost:8080/",
          "height": 332
        },
        "id": "ucbFLILBoOWt",
        "outputId": "b828c9b0-9891-4f14-91c7-36d9eed07cd9"
      },
      "execution_count": 30,
      "outputs": [
        {
          "output_type": "execute_result",
          "data": {
            "text/plain": [
              "                          Pregnancies   Glucose  BloodPressure  SkinThickness  \\\n",
              "Pregnancies                  1.000000  0.127964       0.208984      -0.081672   \n",
              "Glucose                      0.127964  1.000000       0.219666       0.074934   \n",
              "BloodPressure                0.208984  0.219666       1.000000       0.020924   \n",
              "SkinThickness               -0.081672  0.074934       0.020924       1.000000   \n",
              "Insulin                     -0.018082  0.396597       0.010926       0.304189   \n",
              "BMI                          0.021546  0.231478       0.281231       0.381755   \n",
              "DiabetesPedigreeFunction    -0.033523  0.137106       0.000371       0.183928   \n",
              "Age                          0.544341  0.266600       0.326740      -0.113970   \n",
              "Outcome                      0.221898  0.492908       0.162986       0.074752   \n",
              "\n",
              "                           Insulin       BMI  DiabetesPedigreeFunction  \\\n",
              "Pregnancies              -0.018082  0.021546                 -0.033523   \n",
              "Glucose                   0.396597  0.231478                  0.137106   \n",
              "BloodPressure             0.010926  0.281231                  0.000371   \n",
              "SkinThickness             0.304189  0.381755                  0.183928   \n",
              "Insulin                   1.000000  0.189856                  0.157806   \n",
              "BMI                       0.189856  1.000000                  0.153508   \n",
              "DiabetesPedigreeFunction  0.157806  0.153508                  1.000000   \n",
              "Age                       0.038652  0.025748                  0.033561   \n",
              "Outcome                   0.179185  0.312254                  0.173844   \n",
              "\n",
              "                               Age   Outcome  \n",
              "Pregnancies               0.544341  0.221898  \n",
              "Glucose                   0.266600  0.492908  \n",
              "BloodPressure             0.326740  0.162986  \n",
              "SkinThickness            -0.113970  0.074752  \n",
              "Insulin                   0.038652  0.179185  \n",
              "BMI                       0.025748  0.312254  \n",
              "DiabetesPedigreeFunction  0.033561  0.173844  \n",
              "Age                       1.000000  0.238356  \n",
              "Outcome                   0.238356  1.000000  "
            ],
            "text/html": [
              "\n",
              "  <div id=\"df-3b33359d-e2e2-4b59-b72e-6244cb4c995a\">\n",
              "    <div class=\"colab-df-container\">\n",
              "      <div>\n",
              "<style scoped>\n",
              "    .dataframe tbody tr th:only-of-type {\n",
              "        vertical-align: middle;\n",
              "    }\n",
              "\n",
              "    .dataframe tbody tr th {\n",
              "        vertical-align: top;\n",
              "    }\n",
              "\n",
              "    .dataframe thead th {\n",
              "        text-align: right;\n",
              "    }\n",
              "</style>\n",
              "<table border=\"1\" class=\"dataframe\">\n",
              "  <thead>\n",
              "    <tr style=\"text-align: right;\">\n",
              "      <th></th>\n",
              "      <th>Pregnancies</th>\n",
              "      <th>Glucose</th>\n",
              "      <th>BloodPressure</th>\n",
              "      <th>SkinThickness</th>\n",
              "      <th>Insulin</th>\n",
              "      <th>BMI</th>\n",
              "      <th>DiabetesPedigreeFunction</th>\n",
              "      <th>Age</th>\n",
              "      <th>Outcome</th>\n",
              "    </tr>\n",
              "  </thead>\n",
              "  <tbody>\n",
              "    <tr>\n",
              "      <th>Pregnancies</th>\n",
              "      <td>1.000000</td>\n",
              "      <td>0.127964</td>\n",
              "      <td>0.208984</td>\n",
              "      <td>-0.081672</td>\n",
              "      <td>-0.018082</td>\n",
              "      <td>0.021546</td>\n",
              "      <td>-0.033523</td>\n",
              "      <td>0.544341</td>\n",
              "      <td>0.221898</td>\n",
              "    </tr>\n",
              "    <tr>\n",
              "      <th>Glucose</th>\n",
              "      <td>0.127964</td>\n",
              "      <td>1.000000</td>\n",
              "      <td>0.219666</td>\n",
              "      <td>0.074934</td>\n",
              "      <td>0.396597</td>\n",
              "      <td>0.231478</td>\n",
              "      <td>0.137106</td>\n",
              "      <td>0.266600</td>\n",
              "      <td>0.492908</td>\n",
              "    </tr>\n",
              "    <tr>\n",
              "      <th>BloodPressure</th>\n",
              "      <td>0.208984</td>\n",
              "      <td>0.219666</td>\n",
              "      <td>1.000000</td>\n",
              "      <td>0.020924</td>\n",
              "      <td>0.010926</td>\n",
              "      <td>0.281231</td>\n",
              "      <td>0.000371</td>\n",
              "      <td>0.326740</td>\n",
              "      <td>0.162986</td>\n",
              "    </tr>\n",
              "    <tr>\n",
              "      <th>SkinThickness</th>\n",
              "      <td>-0.081672</td>\n",
              "      <td>0.074934</td>\n",
              "      <td>0.020924</td>\n",
              "      <td>1.000000</td>\n",
              "      <td>0.304189</td>\n",
              "      <td>0.381755</td>\n",
              "      <td>0.183928</td>\n",
              "      <td>-0.113970</td>\n",
              "      <td>0.074752</td>\n",
              "    </tr>\n",
              "    <tr>\n",
              "      <th>Insulin</th>\n",
              "      <td>-0.018082</td>\n",
              "      <td>0.396597</td>\n",
              "      <td>0.010926</td>\n",
              "      <td>0.304189</td>\n",
              "      <td>1.000000</td>\n",
              "      <td>0.189856</td>\n",
              "      <td>0.157806</td>\n",
              "      <td>0.038652</td>\n",
              "      <td>0.179185</td>\n",
              "    </tr>\n",
              "    <tr>\n",
              "      <th>BMI</th>\n",
              "      <td>0.021546</td>\n",
              "      <td>0.231478</td>\n",
              "      <td>0.281231</td>\n",
              "      <td>0.381755</td>\n",
              "      <td>0.189856</td>\n",
              "      <td>1.000000</td>\n",
              "      <td>0.153508</td>\n",
              "      <td>0.025748</td>\n",
              "      <td>0.312254</td>\n",
              "    </tr>\n",
              "    <tr>\n",
              "      <th>DiabetesPedigreeFunction</th>\n",
              "      <td>-0.033523</td>\n",
              "      <td>0.137106</td>\n",
              "      <td>0.000371</td>\n",
              "      <td>0.183928</td>\n",
              "      <td>0.157806</td>\n",
              "      <td>0.153508</td>\n",
              "      <td>1.000000</td>\n",
              "      <td>0.033561</td>\n",
              "      <td>0.173844</td>\n",
              "    </tr>\n",
              "    <tr>\n",
              "      <th>Age</th>\n",
              "      <td>0.544341</td>\n",
              "      <td>0.266600</td>\n",
              "      <td>0.326740</td>\n",
              "      <td>-0.113970</td>\n",
              "      <td>0.038652</td>\n",
              "      <td>0.025748</td>\n",
              "      <td>0.033561</td>\n",
              "      <td>1.000000</td>\n",
              "      <td>0.238356</td>\n",
              "    </tr>\n",
              "    <tr>\n",
              "      <th>Outcome</th>\n",
              "      <td>0.221898</td>\n",
              "      <td>0.492908</td>\n",
              "      <td>0.162986</td>\n",
              "      <td>0.074752</td>\n",
              "      <td>0.179185</td>\n",
              "      <td>0.312254</td>\n",
              "      <td>0.173844</td>\n",
              "      <td>0.238356</td>\n",
              "      <td>1.000000</td>\n",
              "    </tr>\n",
              "  </tbody>\n",
              "</table>\n",
              "</div>\n",
              "      <button class=\"colab-df-convert\" onclick=\"convertToInteractive('df-3b33359d-e2e2-4b59-b72e-6244cb4c995a')\"\n",
              "              title=\"Convert this dataframe to an interactive table.\"\n",
              "              style=\"display:none;\">\n",
              "        \n",
              "  <svg xmlns=\"http://www.w3.org/2000/svg\" height=\"24px\"viewBox=\"0 0 24 24\"\n",
              "       width=\"24px\">\n",
              "    <path d=\"M0 0h24v24H0V0z\" fill=\"none\"/>\n",
              "    <path d=\"M18.56 5.44l.94 2.06.94-2.06 2.06-.94-2.06-.94-.94-2.06-.94 2.06-2.06.94zm-11 1L8.5 8.5l.94-2.06 2.06-.94-2.06-.94L8.5 2.5l-.94 2.06-2.06.94zm10 10l.94 2.06.94-2.06 2.06-.94-2.06-.94-.94-2.06-.94 2.06-2.06.94z\"/><path d=\"M17.41 7.96l-1.37-1.37c-.4-.4-.92-.59-1.43-.59-.52 0-1.04.2-1.43.59L10.3 9.45l-7.72 7.72c-.78.78-.78 2.05 0 2.83L4 21.41c.39.39.9.59 1.41.59.51 0 1.02-.2 1.41-.59l7.78-7.78 2.81-2.81c.8-.78.8-2.07 0-2.86zM5.41 20L4 18.59l7.72-7.72 1.47 1.35L5.41 20z\"/>\n",
              "  </svg>\n",
              "      </button>\n",
              "      \n",
              "  <style>\n",
              "    .colab-df-container {\n",
              "      display:flex;\n",
              "      flex-wrap:wrap;\n",
              "      gap: 12px;\n",
              "    }\n",
              "\n",
              "    .colab-df-convert {\n",
              "      background-color: #E8F0FE;\n",
              "      border: none;\n",
              "      border-radius: 50%;\n",
              "      cursor: pointer;\n",
              "      display: none;\n",
              "      fill: #1967D2;\n",
              "      height: 32px;\n",
              "      padding: 0 0 0 0;\n",
              "      width: 32px;\n",
              "    }\n",
              "\n",
              "    .colab-df-convert:hover {\n",
              "      background-color: #E2EBFA;\n",
              "      box-shadow: 0px 1px 2px rgba(60, 64, 67, 0.3), 0px 1px 3px 1px rgba(60, 64, 67, 0.15);\n",
              "      fill: #174EA6;\n",
              "    }\n",
              "\n",
              "    [theme=dark] .colab-df-convert {\n",
              "      background-color: #3B4455;\n",
              "      fill: #D2E3FC;\n",
              "    }\n",
              "\n",
              "    [theme=dark] .colab-df-convert:hover {\n",
              "      background-color: #434B5C;\n",
              "      box-shadow: 0px 1px 3px 1px rgba(0, 0, 0, 0.15);\n",
              "      filter: drop-shadow(0px 1px 2px rgba(0, 0, 0, 0.3));\n",
              "      fill: #FFFFFF;\n",
              "    }\n",
              "  </style>\n",
              "\n",
              "      <script>\n",
              "        const buttonEl =\n",
              "          document.querySelector('#df-3b33359d-e2e2-4b59-b72e-6244cb4c995a button.colab-df-convert');\n",
              "        buttonEl.style.display =\n",
              "          google.colab.kernel.accessAllowed ? 'block' : 'none';\n",
              "\n",
              "        async function convertToInteractive(key) {\n",
              "          const element = document.querySelector('#df-3b33359d-e2e2-4b59-b72e-6244cb4c995a');\n",
              "          const dataTable =\n",
              "            await google.colab.kernel.invokeFunction('convertToInteractive',\n",
              "                                                     [key], {});\n",
              "          if (!dataTable) return;\n",
              "\n",
              "          const docLinkHtml = 'Like what you see? Visit the ' +\n",
              "            '<a target=\"_blank\" href=https://colab.research.google.com/notebooks/data_table.ipynb>data table notebook</a>'\n",
              "            + ' to learn more about interactive tables.';\n",
              "          element.innerHTML = '';\n",
              "          dataTable['output_type'] = 'display_data';\n",
              "          await google.colab.output.renderOutput(dataTable, element);\n",
              "          const docLink = document.createElement('div');\n",
              "          docLink.innerHTML = docLinkHtml;\n",
              "          element.appendChild(docLink);\n",
              "        }\n",
              "      </script>\n",
              "    </div>\n",
              "  </div>\n",
              "  "
            ]
          },
          "metadata": {},
          "execution_count": 30
        }
      ]
    },
    {
      "cell_type": "code",
      "source": [
        "# Se genera gráfico de tipo correlacional\n",
        "plt.figure(figsize=(12,9))\n",
        "corr = df.corr()\n",
        "sns.heatmap(corr, cmap = 'Greens', annot = True)\n",
        "plt.show()"
      ],
      "metadata": {
        "colab": {
          "base_uri": "https://localhost:8080/",
          "height": 662
        },
        "id": "rrxJoHBRpkgp",
        "outputId": "ade931de-5a80-4179-a7b5-52576e420bb3"
      },
      "execution_count": 31,
      "outputs": [
        {
          "output_type": "display_data",
          "data": {
            "text/plain": [
              "<Figure size 864x648 with 2 Axes>"
            ],
            "image/png": "[encoded data removed]"
          },
          "metadata": {
            "needs_background": "light"
          }
        }
      ]
    },
    {
      "cell_type": "markdown",
      "source": [
        "Observando la gráfica, aparte de la correlación donde las columnas se comparan consigo mismas, solo se rescatan un par correlaciones. Entre la un comportamiento medio, las columnas de Age y Pregnancies, y por debajo levemente del valor medio sugerido por la teoría están las columnas Glucose y Outcome.\n",
        "\n",
        "Esto último podría ser útil y lo analizaremos para toma de decisiones con estos datos."
      ],
      "metadata": {
        "id": "8OgXJ6yupwGP"
      }
    },
    {
      "cell_type": "markdown",
      "source": [
        "## 🖌  *1er Gráfico*"
      ],
      "metadata": {
        "id": "4mDQj-_0riOl"
      }
    },
    {
      "cell_type": "code",
      "source": [
        "# Se crea historigrama de la columna Glucose\n",
        "fig, ax = plt.subplots(figsize = (15, 8))\n",
        "sns.histplot(data = df['Glucose'], bins = 30, edgecolor='black', kde = True, color='purple')\n",
        "plt.title('Historigrama Mediciones de Glucosa', fontsize=16, color='b')\n",
        "plt.xlabel(\"Glucosa\", fontsize = 15)\n",
        "plt.xticks(rotation = 45)\n",
        "plt.show()"
      ],
      "metadata": {
        "colab": {
          "base_uri": "https://localhost:8080/",
          "height": 530
        },
        "id": "V2D6CjpWtLrS",
        "outputId": "d4c27029-eb6b-4559-b313-44a8df5cdfee"
      },
      "execution_count": 32,
      "outputs": [
        {
          "output_type": "display_data",
          "data": {
            "text/plain": [
              "<Figure size 1080x576 with 1 Axes>"
            ],
            "image/png": "[encoded data removed]"
          },
          "metadata": {
            "needs_background": "light"
          }
        }
      ]
    },
    {
      "cell_type": "markdown",
      "source": [
        "## **Conclusión 1er Gráfico**\n",
        "\n",
        "Con el gráfico anterior podemos visualizar que las mediciones de glucosa que registran una mayor cantidad es por valor de 110 mg/dL en cuanto a la concentración de glucosa en plasma. Seguida de un segundo valor importante de 130 mg/dL.\n",
        "\n",
        "El agrupamiento con mayor presencia que podemos visualizar se da entre las mediciones de 80 mg/dL, que es cuando empieza a tomar fuerza la frecuencia de cantidad hasta los 130 mg/dL, que es donde ya la variación en cuanto cantidad de personas empieza a disminuir. Allí donde vemos que baja la cantidad de mediciones en las personas, aumenta el nivel de glucosa de estas, más específicamente las pertenecientes a la frecuencia al final del gráfico.\n",
        "\n",
        "---"
      ],
      "metadata": {
        "id": "0MaleHlX_ZYt"
      }
    },
    {
      "cell_type": "markdown",
      "source": [
        "## 🖌  *2do Gráfico*"
      ],
      "metadata": {
        "id": "372QNsFqBxtW"
      }
    },
    {
      "cell_type": "markdown",
      "source": [
        "Para la segunda visualización me gustaría tener presente la correlación entre las mediciones de Glucosa y el que una persona tenga Diabetes o no. Por ello generaré un filtro que me permita visualizar en un Dataframe desde que valor de Glucosa empiezan aparecer casos con positivo para Diabetes."
      ],
      "metadata": {
        "id": "UEk__p70CXup"
      }
    },
    {
      "cell_type": "code",
      "source": [
        "# Creo filtro para las Columnas Outcome y Glucose que cumplan la condición que busco para luego plasmarlo en un DataFrame\n",
        "Glucose_Outcome_Filter = df[df.Outcome.isin([1]) & df.Glucose].sort_values('Glucose', ascending = True)\n",
        "Glucose_Outcome_Filter.head(10)"
      ],
      "metadata": {
        "colab": {
          "base_uri": "https://localhost:8080/",
          "height": 363
        },
        "id": "rVY3KEHj1f_2",
        "outputId": "3ff33e93-0aa6-4444-8afd-09565019549e"
      },
      "execution_count": 33,
      "outputs": [
        {
          "output_type": "execute_result",
          "data": {
            "text/plain": [
              "     Pregnancies  Glucose  BloodPressure  SkinThickness     Insulin   BMI  \\\n",
              "6              3     78.0           50.0             32   88.000000  31.0   \n",
              "659            3     80.0           82.0             31   70.000000  34.2   \n",
              "510           12     84.0           72.0             31   79.799479  29.7   \n",
              "218            5     85.0           74.0             22   79.799479  29.0   \n",
              "125            1     88.0           30.0             42   99.000000  55.0   \n",
              "38             2     90.0           68.0             42   79.799479  38.2   \n",
              "542           10     90.0           85.0             32   79.799479  34.9   \n",
              "254           12     92.0           62.0              7  258.000000  27.6   \n",
              "709            2     93.0           64.0             32  160.000000  38.0   \n",
              "400            4     95.0           64.0              0   79.799479  32.0   \n",
              "\n",
              "     DiabetesPedigreeFunction  Age  Outcome  \n",
              "6                       0.248   26        1  \n",
              "659                     1.292   27        1  \n",
              "510                     0.297   46        1  \n",
              "218                     1.224   32        1  \n",
              "125                     0.496   26        1  \n",
              "38                      0.503   27        1  \n",
              "542                     0.825   56        1  \n",
              "254                     0.926   44        1  \n",
              "709                     0.674   23        1  \n",
              "400                     0.161   31        1  "
            ],
            "text/html": [
              "\n",
              "  <div id=\"df-dc49decd-7f32-4f3d-abba-b531b259f06a\">\n",
              "    <div class=\"colab-df-container\">\n",
              "      <div>\n",
              "<style scoped>\n",
              "    .dataframe tbody tr th:only-of-type {\n",
              "        vertical-align: middle;\n",
              "    }\n",
              "\n",
              "    .dataframe tbody tr th {\n",
              "        vertical-align: top;\n",
              "    }\n",
              "\n",
              "    .dataframe thead th {\n",
              "        text-align: right;\n",
              "    }\n",
              "</style>\n",
              "<table border=\"1\" class=\"dataframe\">\n",
              "  <thead>\n",
              "    <tr style=\"text-align: right;\">\n",
              "      <th></th>\n",
              "      <th>Pregnancies</th>\n",
              "      <th>Glucose</th>\n",
              "      <th>BloodPressure</th>\n",
              "      <th>SkinThickness</th>\n",
              "      <th>Insulin</th>\n",
              "      <th>BMI</th>\n",
              "      <th>DiabetesPedigreeFunction</th>\n",
              "      <th>Age</th>\n",
              "      <th>Outcome</th>\n",
              "    </tr>\n",
              "  </thead>\n",
              "  <tbody>\n",
              "    <tr>\n",
              "      <th>6</th>\n",
              "      <td>3</td>\n",
              "      <td>78.0</td>\n",
              "      <td>50.0</td>\n",
              "      <td>32</td>\n",
              "      <td>88.000000</td>\n",
              "      <td>31.0</td>\n",
              "      <td>0.248</td>\n",
              "      <td>26</td>\n",
              "      <td>1</td>\n",
              "    </tr>\n",
              "    <tr>\n",
              "      <th>659</th>\n",
              "      <td>3</td>\n",
              "      <td>80.0</td>\n",
              "      <td>82.0</td>\n",
              "      <td>31</td>\n",
              "      <td>70.000000</td>\n",
              "      <td>34.2</td>\n",
              "      <td>1.292</td>\n",
              "      <td>27</td>\n",
              "      <td>1</td>\n",
              "    </tr>\n",
              "    <tr>\n",
              "      <th>510</th>\n",
              "      <td>12</td>\n",
              "      <td>84.0</td>\n",
              "      <td>72.0</td>\n",
              "      <td>31</td>\n",
              "      <td>79.799479</td>\n",
              "      <td>29.7</td>\n",
              "      <td>0.297</td>\n",
              "      <td>46</td>\n",
              "      <td>1</td>\n",
              "    </tr>\n",
              "    <tr>\n",
              "      <th>218</th>\n",
              "      <td>5</td>\n",
              "      <td>85.0</td>\n",
              "      <td>74.0</td>\n",
              "      <td>22</td>\n",
              "      <td>79.799479</td>\n",
              "      <td>29.0</td>\n",
              "      <td>1.224</td>\n",
              "      <td>32</td>\n",
              "      <td>1</td>\n",
              "    </tr>\n",
              "    <tr>\n",
              "      <th>125</th>\n",
              "      <td>1</td>\n",
              "      <td>88.0</td>\n",
              "      <td>30.0</td>\n",
              "      <td>42</td>\n",
              "      <td>99.000000</td>\n",
              "      <td>55.0</td>\n",
              "      <td>0.496</td>\n",
              "      <td>26</td>\n",
              "      <td>1</td>\n",
              "    </tr>\n",
              "    <tr>\n",
              "      <th>38</th>\n",
              "      <td>2</td>\n",
              "      <td>90.0</td>\n",
              "      <td>68.0</td>\n",
              "      <td>42</td>\n",
              "      <td>79.799479</td>\n",
              "      <td>38.2</td>\n",
              "      <td>0.503</td>\n",
              "      <td>27</td>\n",
              "      <td>1</td>\n",
              "    </tr>\n",
              "    <tr>\n",
              "      <th>542</th>\n",
              "      <td>10</td>\n",
              "      <td>90.0</td>\n",
              "      <td>85.0</td>\n",
              "      <td>32</td>\n",
              "      <td>79.799479</td>\n",
              "      <td>34.9</td>\n",
              "      <td>0.825</td>\n",
              "      <td>56</td>\n",
              "      <td>1</td>\n",
              "    </tr>\n",
              "    <tr>\n",
              "      <th>254</th>\n",
              "      <td>12</td>\n",
              "      <td>92.0</td>\n",
              "      <td>62.0</td>\n",
              "      <td>7</td>\n",
              "      <td>258.000000</td>\n",
              "      <td>27.6</td>\n",
              "      <td>0.926</td>\n",
              "      <td>44</td>\n",
              "      <td>1</td>\n",
              "    </tr>\n",
              "    <tr>\n",
              "      <th>709</th>\n",
              "      <td>2</td>\n",
              "      <td>93.0</td>\n",
              "      <td>64.0</td>\n",
              "      <td>32</td>\n",
              "      <td>160.000000</td>\n",
              "      <td>38.0</td>\n",
              "      <td>0.674</td>\n",
              "      <td>23</td>\n",
              "      <td>1</td>\n",
              "    </tr>\n",
              "    <tr>\n",
              "      <th>400</th>\n",
              "      <td>4</td>\n",
              "      <td>95.0</td>\n",
              "      <td>64.0</td>\n",
              "      <td>0</td>\n",
              "      <td>79.799479</td>\n",
              "      <td>32.0</td>\n",
              "      <td>0.161</td>\n",
              "      <td>31</td>\n",
              "      <td>1</td>\n",
              "    </tr>\n",
              "  </tbody>\n",
              "</table>\n",
              "</div>\n",
              "      <button class=\"colab-df-convert\" onclick=\"convertToInteractive('df-dc49decd-7f32-4f3d-abba-b531b259f06a')\"\n",
              "              title=\"Convert this dataframe to an interactive table.\"\n",
              "              style=\"display:none;\">\n",
              "        \n",
              "  <svg xmlns=\"http://www.w3.org/2000/svg\" height=\"24px\"viewBox=\"0 0 24 24\"\n",
              "       width=\"24px\">\n",
              "    <path d=\"M0 0h24v24H0V0z\" fill=\"none\"/>\n",
              "    <path d=\"M18.56 5.44l.94 2.06.94-2.06 2.06-.94-2.06-.94-.94-2.06-.94 2.06-2.06.94zm-11 1L8.5 8.5l.94-2.06 2.06-.94-2.06-.94L8.5 2.5l-.94 2.06-2.06.94zm10 10l.94 2.06.94-2.06 2.06-.94-2.06-.94-.94-2.06-.94 2.06-2.06.94z\"/><path d=\"M17.41 7.96l-1.37-1.37c-.4-.4-.92-.59-1.43-.59-.52 0-1.04.2-1.43.59L10.3 9.45l-7.72 7.72c-.78.78-.78 2.05 0 2.83L4 21.41c.39.39.9.59 1.41.59.51 0 1.02-.2 1.41-.59l7.78-7.78 2.81-2.81c.8-.78.8-2.07 0-2.86zM5.41 20L4 18.59l7.72-7.72 1.47 1.35L5.41 20z\"/>\n",
              "  </svg>\n",
              "      </button>\n",
              "      \n",
              "  <style>\n",
              "    .colab-df-container {\n",
              "      display:flex;\n",
              "      flex-wrap:wrap;\n",
              "      gap: 12px;\n",
              "    }\n",
              "\n",
              "    .colab-df-convert {\n",
              "      background-color: #E8F0FE;\n",
              "      border: none;\n",
              "      border-radius: 50%;\n",
              "      cursor: pointer;\n",
              "      display: none;\n",
              "      fill: #1967D2;\n",
              "      height: 32px;\n",
              "      padding: 0 0 0 0;\n",
              "      width: 32px;\n",
              "    }\n",
              "\n",
              "    .colab-df-convert:hover {\n",
              "      background-color: #E2EBFA;\n",
              "      box-shadow: 0px 1px 2px rgba(60, 64, 67, 0.3), 0px 1px 3px 1px rgba(60, 64, 67, 0.15);\n",
              "      fill: #174EA6;\n",
              "    }\n",
              "\n",
              "    [theme=dark] .colab-df-convert {\n",
              "      background-color: #3B4455;\n",
              "      fill: #D2E3FC;\n",
              "    }\n",
              "\n",
              "    [theme=dark] .colab-df-convert:hover {\n",
              "      background-color: #434B5C;\n",
              "      box-shadow: 0px 1px 3px 1px rgba(0, 0, 0, 0.15);\n",
              "      filter: drop-shadow(0px 1px 2px rgba(0, 0, 0, 0.3));\n",
              "      fill: #FFFFFF;\n",
              "    }\n",
              "  </style>\n",
              "\n",
              "      <script>\n",
              "        const buttonEl =\n",
              "          document.querySelector('#df-dc49decd-7f32-4f3d-abba-b531b259f06a button.colab-df-convert');\n",
              "        buttonEl.style.display =\n",
              "          google.colab.kernel.accessAllowed ? 'block' : 'none';\n",
              "\n",
              "        async function convertToInteractive(key) {\n",
              "          const element = document.querySelector('#df-dc49decd-7f32-4f3d-abba-b531b259f06a');\n",
              "          const dataTable =\n",
              "            await google.colab.kernel.invokeFunction('convertToInteractive',\n",
              "                                                     [key], {});\n",
              "          if (!dataTable) return;\n",
              "\n",
              "          const docLinkHtml = 'Like what you see? Visit the ' +\n",
              "            '<a target=\"_blank\" href=https://colab.research.google.com/notebooks/data_table.ipynb>data table notebook</a>'\n",
              "            + ' to learn more about interactive tables.';\n",
              "          element.innerHTML = '';\n",
              "          dataTable['output_type'] = 'display_data';\n",
              "          await google.colab.output.renderOutput(dataTable, element);\n",
              "          const docLink = document.createElement('div');\n",
              "          docLink.innerHTML = docLinkHtml;\n",
              "          element.appendChild(docLink);\n",
              "        }\n",
              "      </script>\n",
              "    </div>\n",
              "  </div>\n",
              "  "
            ]
          },
          "metadata": {},
          "execution_count": 33
        }
      ]
    },
    {
      "cell_type": "code",
      "source": [
        "# Reviso cuáles son los últimos 10 valores que aparecen en el DataFrame relacionado con el anterior filtro\n",
        "Glucose_Outcome_Filter.tail(10)"
      ],
      "metadata": {
        "colab": {
          "base_uri": "https://localhost:8080/",
          "height": 363
        },
        "id": "JmHjRr-a4mli",
        "outputId": "41e5baad-f28c-4a41-b264-8779541789fa"
      },
      "execution_count": 34,
      "outputs": [
        {
          "output_type": "execute_result",
          "data": {
            "text/plain": [
              "     Pregnancies  Glucose  BloodPressure  SkinThickness     Insulin   BMI  \\\n",
              "498            7    195.0           70.0             33  145.000000  25.1   \n",
              "675            6    195.0           70.0              0   79.799479  30.9   \n",
              "206            8    196.0           76.0             29  280.000000  37.5   \n",
              "22             7    196.0           90.0              0   79.799479  39.8   \n",
              "359            1    196.0           76.0             36  249.000000  36.5   \n",
              "8              2    197.0           70.0             45  543.000000  30.5   \n",
              "579            2    197.0           70.0             99   79.799479  34.7   \n",
              "408            8    197.0           74.0              0   79.799479  25.9   \n",
              "561            0    198.0           66.0             32  274.000000  41.3   \n",
              "661            1    199.0           76.0             43   79.799479  42.9   \n",
              "\n",
              "     DiabetesPedigreeFunction  Age  Outcome  \n",
              "498                     0.163   55        1  \n",
              "675                     0.328   31        1  \n",
              "206                     0.605   57        1  \n",
              "22                      0.451   41        1  \n",
              "359                     0.875   29        1  \n",
              "8                       0.158   53        1  \n",
              "579                     0.575   62        1  \n",
              "408                     1.191   39        1  \n",
              "561                     0.502   28        1  \n",
              "661                     1.394   22        1  "
            ],
            "text/html": [
              "\n",
              "  <div id=\"df-33e93cd0-61ef-4642-bb3b-53f69f681bc9\">\n",
              "    <div class=\"colab-df-container\">\n",
              "      <div>\n",
              "<style scoped>\n",
              "    .dataframe tbody tr th:only-of-type {\n",
              "        vertical-align: middle;\n",
              "    }\n",
              "\n",
              "    .dataframe tbody tr th {\n",
              "        vertical-align: top;\n",
              "    }\n",
              "\n",
              "    .dataframe thead th {\n",
              "        text-align: right;\n",
              "    }\n",
              "</style>\n",
              "<table border=\"1\" class=\"dataframe\">\n",
              "  <thead>\n",
              "    <tr style=\"text-align: right;\">\n",
              "      <th></th>\n",
              "      <th>Pregnancies</th>\n",
              "      <th>Glucose</th>\n",
              "      <th>BloodPressure</th>\n",
              "      <th>SkinThickness</th>\n",
              "      <th>Insulin</th>\n",
              "      <th>BMI</th>\n",
              "      <th>DiabetesPedigreeFunction</th>\n",
              "      <th>Age</th>\n",
              "      <th>Outcome</th>\n",
              "    </tr>\n",
              "  </thead>\n",
              "  <tbody>\n",
              "    <tr>\n",
              "      <th>498</th>\n",
              "      <td>7</td>\n",
              "      <td>195.0</td>\n",
              "      <td>70.0</td>\n",
              "      <td>33</td>\n",
              "      <td>145.000000</td>\n",
              "      <td>25.1</td>\n",
              "      <td>0.163</td>\n",
              "      <td>55</td>\n",
              "      <td>1</td>\n",
              "    </tr>\n",
              "    <tr>\n",
              "      <th>675</th>\n",
              "      <td>6</td>\n",
              "      <td>195.0</td>\n",
              "      <td>70.0</td>\n",
              "      <td>0</td>\n",
              "      <td>79.799479</td>\n",
              "      <td>30.9</td>\n",
              "      <td>0.328</td>\n",
              "      <td>31</td>\n",
              "      <td>1</td>\n",
              "    </tr>\n",
              "    <tr>\n",
              "      <th>206</th>\n",
              "      <td>8</td>\n",
              "      <td>196.0</td>\n",
              "      <td>76.0</td>\n",
              "      <td>29</td>\n",
              "      <td>280.000000</td>\n",
              "      <td>37.5</td>\n",
              "      <td>0.605</td>\n",
              "      <td>57</td>\n",
              "      <td>1</td>\n",
              "    </tr>\n",
              "    <tr>\n",
              "      <th>22</th>\n",
              "      <td>7</td>\n",
              "      <td>196.0</td>\n",
              "      <td>90.0</td>\n",
              "      <td>0</td>\n",
              "      <td>79.799479</td>\n",
              "      <td>39.8</td>\n",
              "      <td>0.451</td>\n",
              "      <td>41</td>\n",
              "      <td>1</td>\n",
              "    </tr>\n",
              "    <tr>\n",
              "      <th>359</th>\n",
              "      <td>1</td>\n",
              "      <td>196.0</td>\n",
              "      <td>76.0</td>\n",
              "      <td>36</td>\n",
              "      <td>249.000000</td>\n",
              "      <td>36.5</td>\n",
              "      <td>0.875</td>\n",
              "      <td>29</td>\n",
              "      <td>1</td>\n",
              "    </tr>\n",
              "    <tr>\n",
              "      <th>8</th>\n",
              "      <td>2</td>\n",
              "      <td>197.0</td>\n",
              "      <td>70.0</td>\n",
              "      <td>45</td>\n",
              "      <td>543.000000</td>\n",
              "      <td>30.5</td>\n",
              "      <td>0.158</td>\n",
              "      <td>53</td>\n",
              "      <td>1</td>\n",
              "    </tr>\n",
              "    <tr>\n",
              "      <th>579</th>\n",
              "      <td>2</td>\n",
              "      <td>197.0</td>\n",
              "      <td>70.0</td>\n",
              "      <td>99</td>\n",
              "      <td>79.799479</td>\n",
              "      <td>34.7</td>\n",
              "      <td>0.575</td>\n",
              "      <td>62</td>\n",
              "      <td>1</td>\n",
              "    </tr>\n",
              "    <tr>\n",
              "      <th>408</th>\n",
              "      <td>8</td>\n",
              "      <td>197.0</td>\n",
              "      <td>74.0</td>\n",
              "      <td>0</td>\n",
              "      <td>79.799479</td>\n",
              "      <td>25.9</td>\n",
              "      <td>1.191</td>\n",
              "      <td>39</td>\n",
              "      <td>1</td>\n",
              "    </tr>\n",
              "    <tr>\n",
              "      <th>561</th>\n",
              "      <td>0</td>\n",
              "      <td>198.0</td>\n",
              "      <td>66.0</td>\n",
              "      <td>32</td>\n",
              "      <td>274.000000</td>\n",
              "      <td>41.3</td>\n",
              "      <td>0.502</td>\n",
              "      <td>28</td>\n",
              "      <td>1</td>\n",
              "    </tr>\n",
              "    <tr>\n",
              "      <th>661</th>\n",
              "      <td>1</td>\n",
              "      <td>199.0</td>\n",
              "      <td>76.0</td>\n",
              "      <td>43</td>\n",
              "      <td>79.799479</td>\n",
              "      <td>42.9</td>\n",
              "      <td>1.394</td>\n",
              "      <td>22</td>\n",
              "      <td>1</td>\n",
              "    </tr>\n",
              "  </tbody>\n",
              "</table>\n",
              "</div>\n",
              "      <button class=\"colab-df-convert\" onclick=\"convertToInteractive('df-33e93cd0-61ef-4642-bb3b-53f69f681bc9')\"\n",
              "              title=\"Convert this dataframe to an interactive table.\"\n",
              "              style=\"display:none;\">\n",
              "        \n",
              "  <svg xmlns=\"http://www.w3.org/2000/svg\" height=\"24px\"viewBox=\"0 0 24 24\"\n",
              "       width=\"24px\">\n",
              "    <path d=\"M0 0h24v24H0V0z\" fill=\"none\"/>\n",
              "    <path d=\"M18.56 5.44l.94 2.06.94-2.06 2.06-.94-2.06-.94-.94-2.06-.94 2.06-2.06.94zm-11 1L8.5 8.5l.94-2.06 2.06-.94-2.06-.94L8.5 2.5l-.94 2.06-2.06.94zm10 10l.94 2.06.94-2.06 2.06-.94-2.06-.94-.94-2.06-.94 2.06-2.06.94z\"/><path d=\"M17.41 7.96l-1.37-1.37c-.4-.4-.92-.59-1.43-.59-.52 0-1.04.2-1.43.59L10.3 9.45l-7.72 7.72c-.78.78-.78 2.05 0 2.83L4 21.41c.39.39.9.59 1.41.59.51 0 1.02-.2 1.41-.59l7.78-7.78 2.81-2.81c.8-.78.8-2.07 0-2.86zM5.41 20L4 18.59l7.72-7.72 1.47 1.35L5.41 20z\"/>\n",
              "  </svg>\n",
              "      </button>\n",
              "      \n",
              "  <style>\n",
              "    .colab-df-container {\n",
              "      display:flex;\n",
              "      flex-wrap:wrap;\n",
              "      gap: 12px;\n",
              "    }\n",
              "\n",
              "    .colab-df-convert {\n",
              "      background-color: #E8F0FE;\n",
              "      border: none;\n",
              "      border-radius: 50%;\n",
              "      cursor: pointer;\n",
              "      display: none;\n",
              "      fill: #1967D2;\n",
              "      height: 32px;\n",
              "      padding: 0 0 0 0;\n",
              "      width: 32px;\n",
              "    }\n",
              "\n",
              "    .colab-df-convert:hover {\n",
              "      background-color: #E2EBFA;\n",
              "      box-shadow: 0px 1px 2px rgba(60, 64, 67, 0.3), 0px 1px 3px 1px rgba(60, 64, 67, 0.15);\n",
              "      fill: #174EA6;\n",
              "    }\n",
              "\n",
              "    [theme=dark] .colab-df-convert {\n",
              "      background-color: #3B4455;\n",
              "      fill: #D2E3FC;\n",
              "    }\n",
              "\n",
              "    [theme=dark] .colab-df-convert:hover {\n",
              "      background-color: #434B5C;\n",
              "      box-shadow: 0px 1px 3px 1px rgba(0, 0, 0, 0.15);\n",
              "      filter: drop-shadow(0px 1px 2px rgba(0, 0, 0, 0.3));\n",
              "      fill: #FFFFFF;\n",
              "    }\n",
              "  </style>\n",
              "\n",
              "      <script>\n",
              "        const buttonEl =\n",
              "          document.querySelector('#df-33e93cd0-61ef-4642-bb3b-53f69f681bc9 button.colab-df-convert');\n",
              "        buttonEl.style.display =\n",
              "          google.colab.kernel.accessAllowed ? 'block' : 'none';\n",
              "\n",
              "        async function convertToInteractive(key) {\n",
              "          const element = document.querySelector('#df-33e93cd0-61ef-4642-bb3b-53f69f681bc9');\n",
              "          const dataTable =\n",
              "            await google.colab.kernel.invokeFunction('convertToInteractive',\n",
              "                                                     [key], {});\n",
              "          if (!dataTable) return;\n",
              "\n",
              "          const docLinkHtml = 'Like what you see? Visit the ' +\n",
              "            '<a target=\"_blank\" href=https://colab.research.google.com/notebooks/data_table.ipynb>data table notebook</a>'\n",
              "            + ' to learn more about interactive tables.';\n",
              "          element.innerHTML = '';\n",
              "          dataTable['output_type'] = 'display_data';\n",
              "          await google.colab.output.renderOutput(dataTable, element);\n",
              "          const docLink = document.createElement('div');\n",
              "          docLink.innerHTML = docLinkHtml;\n",
              "          element.appendChild(docLink);\n",
              "        }\n",
              "      </script>\n",
              "    </div>\n",
              "  </div>\n",
              "  "
            ]
          },
          "metadata": {},
          "execution_count": 34
        }
      ]
    },
    {
      "cell_type": "code",
      "source": [
        "# En el filtro inicial Glucose_Outcome_Filter pude identificar que las personas empiezan a registrar Diabetes a partir de medidas de glucosa igual o superiores a 78 mg/dL\n",
        "# Conociendo dicho dato ahora quiero graficar el top20 de Valores que registran mayor número de personas por encima de ese punto origen\n",
        "Glucose_filter = df['Glucose'] >= 78\n",
        "Top20GF = df.loc[Glucose_filter, :].groupby(['Glucose'])['Outcome'].sum().sort_values(ascending = False).head(20)\n",
        "Top20GF"
      ],
      "metadata": {
        "colab": {
          "base_uri": "https://localhost:8080/"
        },
        "id": "pfRZyox4yV3i",
        "outputId": "44f46078-41cc-4791-ce31-f25a023bdfc6"
      },
      "execution_count": 35,
      "outputs": [
        {
          "output_type": "execute_result",
          "data": {
            "text/plain": [
              "Glucose\n",
              "125.0    7\n",
              "115.0    6\n",
              "129.0    6\n",
              "128.0    6\n",
              "158.0    6\n",
              "181.0    5\n",
              "109.0    5\n",
              "124.0    5\n",
              "146.0    5\n",
              "173.0    5\n",
              "162.0    5\n",
              "136.0    4\n",
              "187.0    4\n",
              "102.0    4\n",
              "168.0    4\n",
              "134.0    4\n",
              "112.0    4\n",
              "145.0    4\n",
              "144.0    4\n",
              "180.0    4\n",
              "Name: Outcome, dtype: int64"
            ]
          },
          "metadata": {},
          "execution_count": 35
        }
      ]
    },
    {
      "cell_type": "code",
      "source": [
        "# Generamos un gráfico para hacer seguimiento visual a los datos trabajados en este análisis\n",
        "fig, ax = plt.subplots(figsize = (15, 8))\n",
        "sns.barplot(x = Top20GF.index, y = Top20GF.values);\n",
        "plt.title('Gráfico Top20 de Mediciones con mayor número de Personas con Diabetes', size = 18, c = 'b')\n",
        "plt.xticks(rotation = 50, size = 12);\n",
        "plt.xlabel(\"Mediciones de Glucosa\", size = 15)\n",
        "plt.ylabel(\"Cantidad de Personas con Diabetes\", size = 12)\n",
        "plt.show()"
      ],
      "metadata": {
        "colab": {
          "base_uri": "https://localhost:8080/",
          "height": 547
        },
        "id": "tRDrrH8Fy6_Y",
        "outputId": "6b0b4ac7-be3e-470a-8ce3-0ee9646b4734"
      },
      "execution_count": 36,
      "outputs": [
        {
          "output_type": "display_data",
          "data": {
            "text/plain": [
              "<Figure size 1080x576 with 1 Axes>"
            ],
            "image/png": "[encoded data removed]"
          },
          "metadata": {
            "needs_background": "light"
          }
        }
      ]
    },
    {
      "cell_type": "markdown",
      "source": [
        "## **Conclusión 2do Gráfico**\n",
        "\n",
        "Como vemos en el gráfico, la medida de glucosa con personas con Diabetes que representa mayoría es de 125 \n",
        "mg/dL, seguida por valores de 115, 128, 129 y 158 mg/dL.\n",
        "\n",
        "Recordemos que no necesariamente las personas con Diabetes que pertenecen a una mayor cantidad de mediciones en particular sean las que tienen los niveles más alto de medición. Pues cuando realizamos nuestro filtro para analizar vimos valores muy altos en unas pocas personas de 195 a 199 mg/dL.\n",
        "\n",
        "También pudimos identificar que el punto de medición donde las personas empiezan a estar diagnosticadas con Diabetes es de 78 mg/dL.\n"
      ],
      "metadata": {
        "id": "O2wib7agG5Se"
      }
    },
    {
      "cell_type": "markdown",
      "source": [
        "\n",
        "\n",
        "---\n",
        "\n",
        "\n",
        "\n",
        "\n"
      ],
      "metadata": {
        "id": "3ZuF9Yyp5vlW"
      }
    },
    {
      "cell_type": "markdown",
      "source": [
        "##⭐*Creación de un modelo para predecir si un paciente tiene (1) o no tiene (0) diabetes*"
      ],
      "metadata": {
        "id": "C4mfxLBwHFR9"
      }
    },
    {
      "cell_type": "markdown",
      "source": [
        "**Definir la característica (X) y objetivo (y).**"
      ],
      "metadata": {
        "id": "_pr17XzKHqrI"
      }
    },
    {
      "cell_type": "code",
      "source": [
        "# Usando el formato para ML procedemos a definir el objetivo y, que este caso sabemos que es nuestra columna Outcome, junto a las demás características que representarian X\n",
        "y = df['Outcome']\n",
        "X = df.drop(columns=['Outcome'])"
      ],
      "metadata": {
        "id": "1XAW-dvYHtzN"
      },
      "execution_count": 37,
      "outputs": []
    },
    {
      "cell_type": "markdown",
      "source": [
        "**Se realiza un train test split a los datos**"
      ],
      "metadata": {
        "id": "ij8W4APqIKDP"
      }
    },
    {
      "cell_type": "code",
      "source": [
        "# Realizamos un train test split a los datos para prepararlos para el aprendizaje automático\n",
        "X_train, X_test, y_train, y_test = train_test_split(X, y, random_state = 42)"
      ],
      "metadata": {
        "id": "1Yvau7e9HE8r"
      },
      "execution_count": 38,
      "outputs": []
    },
    {
      "cell_type": "markdown",
      "source": [
        "**Creamos el selector de tipo numérico para nuestras columnas dado que no tenemos caracteristicas categoricas u ordinales**"
      ],
      "metadata": {
        "id": "ZymcfDMJIcTj"
      }
    },
    {
      "cell_type": "code",
      "source": [
        "# Procedemos a instanciar el selector de Columnas\n",
        "num_selector = make_column_selector(dtype_include='number')"
      ],
      "metadata": {
        "id": "29isbmIXIlnv"
      },
      "execution_count": 39,
      "outputs": []
    },
    {
      "cell_type": "code",
      "source": [
        "# Procedo a imprimir las columns correspondientes\n",
        "num_columns = num_selector(X_train)\n",
        "print('Las columnas numéricas son', num_columns)"
      ],
      "metadata": {
        "colab": {
          "base_uri": "https://localhost:8080/"
        },
        "id": "CHczDnvlIoXp",
        "outputId": "01632838-d4c4-4b0a-c3f6-cda825643bb8"
      },
      "execution_count": 40,
      "outputs": [
        {
          "output_type": "stream",
          "name": "stdout",
          "text": [
            "Las columnas numéricas son ['Pregnancies', 'Glucose', 'BloodPressure', 'SkinThickness', 'Insulin', 'BMI', 'DiabetesPedigreeFunction', 'Age']\n"
          ]
        }
      ]
    },
    {
      "cell_type": "markdown",
      "source": [
        "**Utilizare pipelines para Escalar las columnas numéricas**"
      ],
      "metadata": {
        "id": "u_GDtuZJJJLW"
      }
    },
    {
      "cell_type": "code",
      "source": [
        "# Procedemos a instanciar el transformador\n",
        "# Scaler para los datos numéricos\n",
        "scaler = StandardScaler()"
      ],
      "metadata": {
        "id": "cSVOVrtRJW_k"
      },
      "execution_count": 41,
      "outputs": []
    },
    {
      "cell_type": "code",
      "source": [
        "# Generamos el pipeline para las características numéricas\n",
        "numeric_pipe = make_pipeline(scaler)\n",
        "numeric_pipe"
      ],
      "metadata": {
        "colab": {
          "base_uri": "https://localhost:8080/",
          "height": 93
        },
        "id": "_EyaL_3nJceo",
        "outputId": "41c7cf43-f21f-4861-8388-a63f1f63cdfd"
      },
      "execution_count": 42,
      "outputs": [
        {
          "output_type": "execute_result",
          "data": {
            "text/plain": [
              "Pipeline(steps=[('standardscaler', StandardScaler())])"
            ],
            "text/html": [
              "<style>#sk-87b88677-3131-4ad7-a83d-db324d560a0b {color: black;background-color: white;}#sk-87b88677-3131-4ad7-a83d-db324d560a0b pre{padding: 0;}#sk-87b88677-3131-4ad7-a83d-db324d560a0b div.sk-toggleable {background-color: white;}#sk-87b88677-3131-4ad7-a83d-db324d560a0b label.sk-toggleable__label {cursor: pointer;display: block;width: 100%;margin-bottom: 0;padding: 0.3em;box-sizing: border-box;text-align: center;}#sk-87b88677-3131-4ad7-a83d-db324d560a0b label.sk-toggleable__label-arrow:before {content: \"▸\";float: left;margin-right: 0.25em;color: #696969;}#sk-87b88677-3131-4ad7-a83d-db324d560a0b label.sk-toggleable__label-arrow:hover:before {color: black;}#sk-87b88677-3131-4ad7-a83d-db324d560a0b div.sk-estimator:hover label.sk-toggleable__label-arrow:before {color: black;}#sk-87b88677-3131-4ad7-a83d-db324d560a0b div.sk-toggleable__content {max-height: 0;max-width: 0;overflow: hidden;text-align: left;background-color: #f0f8ff;}#sk-87b88677-3131-4ad7-a83d-db324d560a0b div.sk-toggleable__content pre {margin: 0.2em;color: black;border-radius: 0.25em;background-color: #f0f8ff;}#sk-87b88677-3131-4ad7-a83d-db324d560a0b input.sk-toggleable__control:checked~div.sk-toggleable__content {max-height: 200px;max-width: 100%;overflow: auto;}#sk-87b88677-3131-4ad7-a83d-db324d560a0b input.sk-toggleable__control:checked~label.sk-toggleable__label-arrow:before {content: \"▾\";}#sk-87b88677-3131-4ad7-a83d-db324d560a0b div.sk-estimator input.sk-toggleable__control:checked~label.sk-toggleable__label {background-color: #d4ebff;}#sk-87b88677-3131-4ad7-a83d-db324d560a0b div.sk-label input.sk-toggleable__control:checked~label.sk-toggleable__label {background-color: #d4ebff;}#sk-87b88677-3131-4ad7-a83d-db324d560a0b input.sk-hidden--visually {border: 0;clip: rect(1px 1px 1px 1px);clip: rect(1px, 1px, 1px, 1px);height: 1px;margin: -1px;overflow: hidden;padding: 0;position: absolute;width: 1px;}#sk-87b88677-3131-4ad7-a83d-db324d560a0b div.sk-estimator {font-family: monospace;background-color: #f0f8ff;border: 1px dotted black;border-radius: 0.25em;box-sizing: border-box;margin-bottom: 0.5em;}#sk-87b88677-3131-4ad7-a83d-db324d560a0b div.sk-estimator:hover {background-color: #d4ebff;}#sk-87b88677-3131-4ad7-a83d-db324d560a0b div.sk-parallel-item::after {content: \"\";width: 100%;border-bottom: 1px solid gray;flex-grow: 1;}#sk-87b88677-3131-4ad7-a83d-db324d560a0b div.sk-label:hover label.sk-toggleable__label {background-color: #d4ebff;}#sk-87b88677-3131-4ad7-a83d-db324d560a0b div.sk-serial::before {content: \"\";position: absolute;border-left: 1px solid gray;box-sizing: border-box;top: 2em;bottom: 0;left: 50%;}#sk-87b88677-3131-4ad7-a83d-db324d560a0b div.sk-serial {display: flex;flex-direction: column;align-items: center;background-color: white;padding-right: 0.2em;padding-left: 0.2em;}#sk-87b88677-3131-4ad7-a83d-db324d560a0b div.sk-item {z-index: 1;}#sk-87b88677-3131-4ad7-a83d-db324d560a0b div.sk-parallel {display: flex;align-items: stretch;justify-content: center;background-color: white;}#sk-87b88677-3131-4ad7-a83d-db324d560a0b div.sk-parallel::before {content: \"\";position: absolute;border-left: 1px solid gray;box-sizing: border-box;top: 2em;bottom: 0;left: 50%;}#sk-87b88677-3131-4ad7-a83d-db324d560a0b div.sk-parallel-item {display: flex;flex-direction: column;position: relative;background-color: white;}#sk-87b88677-3131-4ad7-a83d-db324d560a0b div.sk-parallel-item:first-child::after {align-self: flex-end;width: 50%;}#sk-87b88677-3131-4ad7-a83d-db324d560a0b div.sk-parallel-item:last-child::after {align-self: flex-start;width: 50%;}#sk-87b88677-3131-4ad7-a83d-db324d560a0b div.sk-parallel-item:only-child::after {width: 0;}#sk-87b88677-3131-4ad7-a83d-db324d560a0b div.sk-dashed-wrapped {border: 1px dashed gray;margin: 0 0.4em 0.5em 0.4em;box-sizing: border-box;padding-bottom: 0.4em;background-color: white;position: relative;}#sk-87b88677-3131-4ad7-a83d-db324d560a0b div.sk-label label {font-family: monospace;font-weight: bold;background-color: white;display: inline-block;line-height: 1.2em;}#sk-87b88677-3131-4ad7-a83d-db324d560a0b div.sk-label-container {position: relative;z-index: 2;text-align: center;}#sk-87b88677-3131-4ad7-a83d-db324d560a0b div.sk-container {/* jupyter's `normalize.less` sets `[hidden] { display: none; }` but bootstrap.min.css set `[hidden] { display: none !important; }` so we also need the `!important` here to be able to override the default hidden behavior on the sphinx rendered scikit-learn.org. See: https://github.com/scikit-learn/scikit-learn/issues/21755 */display: inline-block !important;position: relative;}#sk-87b88677-3131-4ad7-a83d-db324d560a0b div.sk-text-repr-fallback {display: none;}</style><div id=\"sk-87b88677-3131-4ad7-a83d-db324d560a0b\" class=\"sk-top-container\"><div class=\"sk-text-repr-fallback\"><pre>Pipeline(steps=[(&#x27;standardscaler&#x27;, StandardScaler())])</pre><b>Please rerun this cell to show the HTML repr or trust the notebook.</b></div><div class=\"sk-container\" hidden><div class=\"sk-item sk-dashed-wrapped\"><div class=\"sk-label-container\"><div class=\"sk-label sk-toggleable\"><input class=\"sk-toggleable__control sk-hidden--visually\" id=\"4ac5299b-e8d5-4589-a2d2-8d4bafe059cf\" type=\"checkbox\" ><label for=\"4ac5299b-e8d5-4589-a2d2-8d4bafe059cf\" class=\"sk-toggleable__label sk-toggleable__label-arrow\">Pipeline</label><div class=\"sk-toggleable__content\"><pre>Pipeline(steps=[(&#x27;standardscaler&#x27;, StandardScaler())])</pre></div></div></div><div class=\"sk-serial\"><div class=\"sk-item\"><div class=\"sk-estimator sk-toggleable\"><input class=\"sk-toggleable__control sk-hidden--visually\" id=\"5e15bd72-6e48-48a5-9266-0411b989b6e6\" type=\"checkbox\" ><label for=\"5e15bd72-6e48-48a5-9266-0411b989b6e6\" class=\"sk-toggleable__label sk-toggleable__label-arrow\">StandardScaler</label><div class=\"sk-toggleable__content\"><pre>StandardScaler()</pre></div></div></div></div></div></div></div>"
            ]
          },
          "metadata": {},
          "execution_count": 42
        }
      ]
    },
    {
      "cell_type": "markdown",
      "source": [
        "**Todos los datos de preprocesamiento deben estar contenidos en un único objeto de preprocesamiento. En este caso en una única tupla que estaría asociada al Pipeline que creamos para las caracteristicas numéricas**"
      ],
      "metadata": {
        "id": "4bUIdDSMJjzd"
      }
    },
    {
      "cell_type": "code",
      "source": [
        "# Procedemos a instanciar el Transformador de Columna\n",
        "# Creo la Tupla para el Column Transformer donde se relaciona el respectivo pipeline con el selector de tipo de dato numérico\n",
        "number_tuple = (numeric_pipe, num_selector)\n",
        "\n",
        "# Asociamos el ColumnTransformer a un preprocesador\n",
        "preprocessor = make_column_transformer(number_tuple)"
      ],
      "metadata": {
        "id": "L2R7W-YaJ-Ss"
      },
      "execution_count": 43,
      "outputs": []
    },
    {
      "cell_type": "code",
      "source": [
        "# Ajustamos el objeto de preprocesamiento y validamos que solo encajeremos el Transformador de Columna a los datos de entranamiento de nuestro dataset\n",
        "preprocessor.fit(X_train)"
      ],
      "metadata": {
        "colab": {
          "base_uri": "https://localhost:8080/",
          "height": 119
        },
        "id": "OjQwUjp-KxgJ",
        "outputId": "91570cfb-41b7-41f6-b3c5-dd935bc62c0e"
      },
      "execution_count": 44,
      "outputs": [
        {
          "output_type": "execute_result",
          "data": {
            "text/plain": [
              "ColumnTransformer(transformers=[('pipeline',\n",
              "                                 Pipeline(steps=[('standardscaler',\n",
              "                                                  StandardScaler())]),\n",
              "                                 <sklearn.compose._column_transformer.make_column_selector object at 0x7f9495687520>)])"
            ],
            "text/html": [
              "<style>#sk-622819ca-83e2-46a5-9278-8df7ccb275cc {color: black;background-color: white;}#sk-622819ca-83e2-46a5-9278-8df7ccb275cc pre{padding: 0;}#sk-622819ca-83e2-46a5-9278-8df7ccb275cc div.sk-toggleable {background-color: white;}#sk-622819ca-83e2-46a5-9278-8df7ccb275cc label.sk-toggleable__label {cursor: pointer;display: block;width: 100%;margin-bottom: 0;padding: 0.3em;box-sizing: border-box;text-align: center;}#sk-622819ca-83e2-46a5-9278-8df7ccb275cc label.sk-toggleable__label-arrow:before {content: \"▸\";float: left;margin-right: 0.25em;color: #696969;}#sk-622819ca-83e2-46a5-9278-8df7ccb275cc label.sk-toggleable__label-arrow:hover:before {color: black;}#sk-622819ca-83e2-46a5-9278-8df7ccb275cc div.sk-estimator:hover label.sk-toggleable__label-arrow:before {color: black;}#sk-622819ca-83e2-46a5-9278-8df7ccb275cc div.sk-toggleable__content {max-height: 0;max-width: 0;overflow: hidden;text-align: left;background-color: #f0f8ff;}#sk-622819ca-83e2-46a5-9278-8df7ccb275cc div.sk-toggleable__content pre {margin: 0.2em;color: black;border-radius: 0.25em;background-color: #f0f8ff;}#sk-622819ca-83e2-46a5-9278-8df7ccb275cc input.sk-toggleable__control:checked~div.sk-toggleable__content {max-height: 200px;max-width: 100%;overflow: auto;}#sk-622819ca-83e2-46a5-9278-8df7ccb275cc input.sk-toggleable__control:checked~label.sk-toggleable__label-arrow:before {content: \"▾\";}#sk-622819ca-83e2-46a5-9278-8df7ccb275cc div.sk-estimator input.sk-toggleable__control:checked~label.sk-toggleable__label {background-color: #d4ebff;}#sk-622819ca-83e2-46a5-9278-8df7ccb275cc div.sk-label input.sk-toggleable__control:checked~label.sk-toggleable__label {background-color: #d4ebff;}#sk-622819ca-83e2-46a5-9278-8df7ccb275cc input.sk-hidden--visually {border: 0;clip: rect(1px 1px 1px 1px);clip: rect(1px, 1px, 1px, 1px);height: 1px;margin: -1px;overflow: hidden;padding: 0;position: absolute;width: 1px;}#sk-622819ca-83e2-46a5-9278-8df7ccb275cc div.sk-estimator {font-family: monospace;background-color: #f0f8ff;border: 1px dotted black;border-radius: 0.25em;box-sizing: border-box;margin-bottom: 0.5em;}#sk-622819ca-83e2-46a5-9278-8df7ccb275cc div.sk-estimator:hover {background-color: #d4ebff;}#sk-622819ca-83e2-46a5-9278-8df7ccb275cc div.sk-parallel-item::after {content: \"\";width: 100%;border-bottom: 1px solid gray;flex-grow: 1;}#sk-622819ca-83e2-46a5-9278-8df7ccb275cc div.sk-label:hover label.sk-toggleable__label {background-color: #d4ebff;}#sk-622819ca-83e2-46a5-9278-8df7ccb275cc div.sk-serial::before {content: \"\";position: absolute;border-left: 1px solid gray;box-sizing: border-box;top: 2em;bottom: 0;left: 50%;}#sk-622819ca-83e2-46a5-9278-8df7ccb275cc div.sk-serial {display: flex;flex-direction: column;align-items: center;background-color: white;padding-right: 0.2em;padding-left: 0.2em;}#sk-622819ca-83e2-46a5-9278-8df7ccb275cc div.sk-item {z-index: 1;}#sk-622819ca-83e2-46a5-9278-8df7ccb275cc div.sk-parallel {display: flex;align-items: stretch;justify-content: center;background-color: white;}#sk-622819ca-83e2-46a5-9278-8df7ccb275cc div.sk-parallel::before {content: \"\";position: absolute;border-left: 1px solid gray;box-sizing: border-box;top: 2em;bottom: 0;left: 50%;}#sk-622819ca-83e2-46a5-9278-8df7ccb275cc div.sk-parallel-item {display: flex;flex-direction: column;position: relative;background-color: white;}#sk-622819ca-83e2-46a5-9278-8df7ccb275cc div.sk-parallel-item:first-child::after {align-self: flex-end;width: 50%;}#sk-622819ca-83e2-46a5-9278-8df7ccb275cc div.sk-parallel-item:last-child::after {align-self: flex-start;width: 50%;}#sk-622819ca-83e2-46a5-9278-8df7ccb275cc div.sk-parallel-item:only-child::after {width: 0;}#sk-622819ca-83e2-46a5-9278-8df7ccb275cc div.sk-dashed-wrapped {border: 1px dashed gray;margin: 0 0.4em 0.5em 0.4em;box-sizing: border-box;padding-bottom: 0.4em;background-color: white;position: relative;}#sk-622819ca-83e2-46a5-9278-8df7ccb275cc div.sk-label label {font-family: monospace;font-weight: bold;background-color: white;display: inline-block;line-height: 1.2em;}#sk-622819ca-83e2-46a5-9278-8df7ccb275cc div.sk-label-container {position: relative;z-index: 2;text-align: center;}#sk-622819ca-83e2-46a5-9278-8df7ccb275cc div.sk-container {/* jupyter's `normalize.less` sets `[hidden] { display: none; }` but bootstrap.min.css set `[hidden] { display: none !important; }` so we also need the `!important` here to be able to override the default hidden behavior on the sphinx rendered scikit-learn.org. See: https://github.com/scikit-learn/scikit-learn/issues/21755 */display: inline-block !important;position: relative;}#sk-622819ca-83e2-46a5-9278-8df7ccb275cc div.sk-text-repr-fallback {display: none;}</style><div id=\"sk-622819ca-83e2-46a5-9278-8df7ccb275cc\" class=\"sk-top-container\"><div class=\"sk-text-repr-fallback\"><pre>ColumnTransformer(transformers=[(&#x27;pipeline&#x27;,\n",
              "                                 Pipeline(steps=[(&#x27;standardscaler&#x27;,\n",
              "                                                  StandardScaler())]),\n",
              "                                 &lt;sklearn.compose._column_transformer.make_column_selector object at 0x7f9495687520&gt;)])</pre><b>Please rerun this cell to show the HTML repr or trust the notebook.</b></div><div class=\"sk-container\" hidden><div class=\"sk-item sk-dashed-wrapped\"><div class=\"sk-label-container\"><div class=\"sk-label sk-toggleable\"><input class=\"sk-toggleable__control sk-hidden--visually\" id=\"640ac22f-ae25-4fcf-b6a3-43db00e415fa\" type=\"checkbox\" ><label for=\"640ac22f-ae25-4fcf-b6a3-43db00e415fa\" class=\"sk-toggleable__label sk-toggleable__label-arrow\">ColumnTransformer</label><div class=\"sk-toggleable__content\"><pre>ColumnTransformer(transformers=[(&#x27;pipeline&#x27;,\n",
              "                                 Pipeline(steps=[(&#x27;standardscaler&#x27;,\n",
              "                                                  StandardScaler())]),\n",
              "                                 &lt;sklearn.compose._column_transformer.make_column_selector object at 0x7f9495687520&gt;)])</pre></div></div></div><div class=\"sk-parallel\"><div class=\"sk-parallel-item\"><div class=\"sk-item\"><div class=\"sk-label-container\"><div class=\"sk-label sk-toggleable\"><input class=\"sk-toggleable__control sk-hidden--visually\" id=\"5b5d74d0-fb8d-4368-adc2-b24221e1074d\" type=\"checkbox\" ><label for=\"5b5d74d0-fb8d-4368-adc2-b24221e1074d\" class=\"sk-toggleable__label sk-toggleable__label-arrow\">pipeline</label><div class=\"sk-toggleable__content\"><pre>&lt;sklearn.compose._column_transformer.make_column_selector object at 0x7f9495687520&gt;</pre></div></div></div><div class=\"sk-serial\"><div class=\"sk-item\"><div class=\"sk-serial\"><div class=\"sk-item\"><div class=\"sk-estimator sk-toggleable\"><input class=\"sk-toggleable__control sk-hidden--visually\" id=\"75525a2b-3710-4057-8b38-900bf8693a07\" type=\"checkbox\" ><label for=\"75525a2b-3710-4057-8b38-900bf8693a07\" class=\"sk-toggleable__label sk-toggleable__label-arrow\">StandardScaler</label><div class=\"sk-toggleable__content\"><pre>StandardScaler()</pre></div></div></div></div></div></div></div></div></div></div></div></div>"
            ]
          },
          "metadata": {},
          "execution_count": 44
        }
      ]
    },
    {
      "cell_type": "code",
      "source": [
        "# Ya teniendo validado que el método fit funciono con el transformador agrupado dentro del ColumnTransformer\n",
        "# Procedemos a usar este mismo para transformar los datos de entrenamiento y de prueba\n",
        "X_train_processed = preprocessor.transform(X_train)\n",
        "X_test_processed = preprocessor.transform(X_test)"
      ],
      "metadata": {
        "id": "kVNhFdawK2le"
      },
      "execution_count": 45,
      "outputs": []
    },
    {
      "cell_type": "markdown",
      "source": [
        "**Concatenar todas las características de vuelta a un DataFrame**"
      ],
      "metadata": {
        "id": "AYsh4-ebLEIE"
      }
    },
    {
      "cell_type": "code",
      "source": [
        "# Mostramos los resultados, verificamos si hay valores faltantes, al igual que los datos se hayan escalado\n",
        "print(np.isnan(X_train_processed).sum().sum(), 'missing values in training data')\n",
        "print(np.isnan(X_test_processed).sum().sum(), 'missing values in testing data')\n",
        "print('\\n')\n",
        "print('All data in X_train_processed are', X_train_processed.dtype)\n",
        "print('All data in X_test_processed are', X_test_processed.dtype)\n",
        "print('\\n')\n",
        "print('shape of data is', X_train_processed.shape)\n",
        "print('\\n')\n",
        "X_train_processed"
      ],
      "metadata": {
        "colab": {
          "base_uri": "https://localhost:8080/"
        },
        "id": "BXyx5IKULG5O",
        "outputId": "e8ae45cb-97bb-422c-92d2-6c38a11073c0"
      },
      "execution_count": 46,
      "outputs": [
        {
          "output_type": "stream",
          "name": "stdout",
          "text": [
            "0 missing values in training data\n",
            "0 missing values in testing data\n",
            "\n",
            "\n",
            "All data in X_train_processed are float64\n",
            "All data in X_test_processed are float64\n",
            "\n",
            "\n",
            "shape of data is (576, 8)\n",
            "\n",
            "\n"
          ]
        },
        {
          "output_type": "execute_result",
          "data": {
            "text/plain": [
              "array([[ 2.80346794,  0.24258793, -0.25110513, ...,  1.10366684,\n",
              "         0.29608546,  0.96352088],\n",
              "       [ 0.07832678,  0.24258793,  1.14476384, ...,  0.40523314,\n",
              "        -0.70087555, -0.86295593],\n",
              "       [-0.22446668, -2.01997244,  0.81427371, ...,  0.30337823,\n",
              "        -0.66548048,  1.13747105],\n",
              "       ...,\n",
              "       [ 1.89508755, -0.68905457,  1.14476384, ...,  1.93305686,\n",
              "         1.96850229,  0.44167036],\n",
              "       [-1.13284707,  0.64186329, -0.25110513, ...,  1.46743439,\n",
              "        -0.77756486, -0.34110542],\n",
              "       [-1.13284707,  0.10949615,  1.97098917, ..., -1.42815531,\n",
              "        -0.6094383 , -1.03690611]])"
            ]
          },
          "metadata": {},
          "execution_count": 46
        }
      ]
    },
    {
      "cell_type": "code",
      "source": [
        "# Procedemos a cambiar dicha transformación hacia un DataFrame de Pandas para que sea fácil de ver e interpretar.\n",
        "X_train_df = pd.DataFrame(X_train_processed)\n",
        "X_train_df.head(10)"
      ],
      "metadata": {
        "colab": {
          "base_uri": "https://localhost:8080/",
          "height": 363
        },
        "id": "qQuMrfSvLTOH",
        "outputId": "7a3ebaf8-6a3c-4244-a4c2-f04069227786"
      },
      "execution_count": 47,
      "outputs": [
        {
          "output_type": "execute_result",
          "data": {
            "text/plain": [
              "          0         1         2         3         4         5         6  \\\n",
              "0  2.803468  0.242588 -0.251105  0.616770 -0.410641  1.103667  0.296085   \n",
              "1  0.078327  0.242588  1.144764 -0.032106  1.602319  0.405233 -0.700876   \n",
              "2 -0.224467 -2.019972  0.814274  0.486995 -0.410641  0.303378 -0.665480   \n",
              "3 -0.527260 -1.354514 -0.011952 -0.356544 -0.450852 -0.322302  0.231195   \n",
              "4 -1.132847 -0.655782  0.235916  0.162557 -0.410641 -0.046919  0.304934   \n",
              "5 -0.224467 -0.755600 -1.499157 -0.096993 -0.345018 -0.977084 -0.927994   \n",
              "6 -1.132847 -0.489417 -0.838177  0.616770 -0.472019  0.623494  0.850608   \n",
              "7 -0.224467  1.606779 -0.672932  1.070984  1.126068  0.317929 -0.332177   \n",
              "8  2.197881 -1.221422  0.153293 -1.329858 -0.410641 -0.322302 -0.497354   \n",
              "9 -1.132847 -0.655782  0.483784  1.265647 -0.302685  0.317929 -0.680228   \n",
              "\n",
              "          7  \n",
              "0  0.963521  \n",
              "1 -0.862956  \n",
              "2  1.137471  \n",
              "3 -0.689006  \n",
              "4 -1.036906  \n",
              "5 -0.775981  \n",
              "6 -0.689006  \n",
              "7 -0.254130  \n",
              "8  0.180745  \n",
              "9 -0.775981  "
            ],
            "text/html": [
              "\n",
              "  <div id=\"df-15e92dda-736c-4a9f-a8ab-6e4d78f6234a\">\n",
              "    <div class=\"colab-df-container\">\n",
              "      <div>\n",
              "<style scoped>\n",
              "    .dataframe tbody tr th:only-of-type {\n",
              "        vertical-align: middle;\n",
              "    }\n",
              "\n",
              "    .dataframe tbody tr th {\n",
              "        vertical-align: top;\n",
              "    }\n",
              "\n",
              "    .dataframe thead th {\n",
              "        text-align: right;\n",
              "    }\n",
              "</style>\n",
              "<table border=\"1\" class=\"dataframe\">\n",
              "  <thead>\n",
              "    <tr style=\"text-align: right;\">\n",
              "      <th></th>\n",
              "      <th>0</th>\n",
              "      <th>1</th>\n",
              "      <th>2</th>\n",
              "      <th>3</th>\n",
              "      <th>4</th>\n",
              "      <th>5</th>\n",
              "      <th>6</th>\n",
              "      <th>7</th>\n",
              "    </tr>\n",
              "  </thead>\n",
              "  <tbody>\n",
              "    <tr>\n",
              "      <th>0</th>\n",
              "      <td>2.803468</td>\n",
              "      <td>0.242588</td>\n",
              "      <td>-0.251105</td>\n",
              "      <td>0.616770</td>\n",
              "      <td>-0.410641</td>\n",
              "      <td>1.103667</td>\n",
              "      <td>0.296085</td>\n",
              "      <td>0.963521</td>\n",
              "    </tr>\n",
              "    <tr>\n",
              "      <th>1</th>\n",
              "      <td>0.078327</td>\n",
              "      <td>0.242588</td>\n",
              "      <td>1.144764</td>\n",
              "      <td>-0.032106</td>\n",
              "      <td>1.602319</td>\n",
              "      <td>0.405233</td>\n",
              "      <td>-0.700876</td>\n",
              "      <td>-0.862956</td>\n",
              "    </tr>\n",
              "    <tr>\n",
              "      <th>2</th>\n",
              "      <td>-0.224467</td>\n",
              "      <td>-2.019972</td>\n",
              "      <td>0.814274</td>\n",
              "      <td>0.486995</td>\n",
              "      <td>-0.410641</td>\n",
              "      <td>0.303378</td>\n",
              "      <td>-0.665480</td>\n",
              "      <td>1.137471</td>\n",
              "    </tr>\n",
              "    <tr>\n",
              "      <th>3</th>\n",
              "      <td>-0.527260</td>\n",
              "      <td>-1.354514</td>\n",
              "      <td>-0.011952</td>\n",
              "      <td>-0.356544</td>\n",
              "      <td>-0.450852</td>\n",
              "      <td>-0.322302</td>\n",
              "      <td>0.231195</td>\n",
              "      <td>-0.689006</td>\n",
              "    </tr>\n",
              "    <tr>\n",
              "      <th>4</th>\n",
              "      <td>-1.132847</td>\n",
              "      <td>-0.655782</td>\n",
              "      <td>0.235916</td>\n",
              "      <td>0.162557</td>\n",
              "      <td>-0.410641</td>\n",
              "      <td>-0.046919</td>\n",
              "      <td>0.304934</td>\n",
              "      <td>-1.036906</td>\n",
              "    </tr>\n",
              "    <tr>\n",
              "      <th>5</th>\n",
              "      <td>-0.224467</td>\n",
              "      <td>-0.755600</td>\n",
              "      <td>-1.499157</td>\n",
              "      <td>-0.096993</td>\n",
              "      <td>-0.345018</td>\n",
              "      <td>-0.977084</td>\n",
              "      <td>-0.927994</td>\n",
              "      <td>-0.775981</td>\n",
              "    </tr>\n",
              "    <tr>\n",
              "      <th>6</th>\n",
              "      <td>-1.132847</td>\n",
              "      <td>-0.489417</td>\n",
              "      <td>-0.838177</td>\n",
              "      <td>0.616770</td>\n",
              "      <td>-0.472019</td>\n",
              "      <td>0.623494</td>\n",
              "      <td>0.850608</td>\n",
              "      <td>-0.689006</td>\n",
              "    </tr>\n",
              "    <tr>\n",
              "      <th>7</th>\n",
              "      <td>-0.224467</td>\n",
              "      <td>1.606779</td>\n",
              "      <td>-0.672932</td>\n",
              "      <td>1.070984</td>\n",
              "      <td>1.126068</td>\n",
              "      <td>0.317929</td>\n",
              "      <td>-0.332177</td>\n",
              "      <td>-0.254130</td>\n",
              "    </tr>\n",
              "    <tr>\n",
              "      <th>8</th>\n",
              "      <td>2.197881</td>\n",
              "      <td>-1.221422</td>\n",
              "      <td>0.153293</td>\n",
              "      <td>-1.329858</td>\n",
              "      <td>-0.410641</td>\n",
              "      <td>-0.322302</td>\n",
              "      <td>-0.497354</td>\n",
              "      <td>0.180745</td>\n",
              "    </tr>\n",
              "    <tr>\n",
              "      <th>9</th>\n",
              "      <td>-1.132847</td>\n",
              "      <td>-0.655782</td>\n",
              "      <td>0.483784</td>\n",
              "      <td>1.265647</td>\n",
              "      <td>-0.302685</td>\n",
              "      <td>0.317929</td>\n",
              "      <td>-0.680228</td>\n",
              "      <td>-0.775981</td>\n",
              "    </tr>\n",
              "  </tbody>\n",
              "</table>\n",
              "</div>\n",
              "      <button class=\"colab-df-convert\" onclick=\"convertToInteractive('df-15e92dda-736c-4a9f-a8ab-6e4d78f6234a')\"\n",
              "              title=\"Convert this dataframe to an interactive table.\"\n",
              "              style=\"display:none;\">\n",
              "        \n",
              "  <svg xmlns=\"http://www.w3.org/2000/svg\" height=\"24px\"viewBox=\"0 0 24 24\"\n",
              "       width=\"24px\">\n",
              "    <path d=\"M0 0h24v24H0V0z\" fill=\"none\"/>\n",
              "    <path d=\"M18.56 5.44l.94 2.06.94-2.06 2.06-.94-2.06-.94-.94-2.06-.94 2.06-2.06.94zm-11 1L8.5 8.5l.94-2.06 2.06-.94-2.06-.94L8.5 2.5l-.94 2.06-2.06.94zm10 10l.94 2.06.94-2.06 2.06-.94-2.06-.94-.94-2.06-.94 2.06-2.06.94z\"/><path d=\"M17.41 7.96l-1.37-1.37c-.4-.4-.92-.59-1.43-.59-.52 0-1.04.2-1.43.59L10.3 9.45l-7.72 7.72c-.78.78-.78 2.05 0 2.83L4 21.41c.39.39.9.59 1.41.59.51 0 1.02-.2 1.41-.59l7.78-7.78 2.81-2.81c.8-.78.8-2.07 0-2.86zM5.41 20L4 18.59l7.72-7.72 1.47 1.35L5.41 20z\"/>\n",
              "  </svg>\n",
              "      </button>\n",
              "      \n",
              "  <style>\n",
              "    .colab-df-container {\n",
              "      display:flex;\n",
              "      flex-wrap:wrap;\n",
              "      gap: 12px;\n",
              "    }\n",
              "\n",
              "    .colab-df-convert {\n",
              "      background-color: #E8F0FE;\n",
              "      border: none;\n",
              "      border-radius: 50%;\n",
              "      cursor: pointer;\n",
              "      display: none;\n",
              "      fill: #1967D2;\n",
              "      height: 32px;\n",
              "      padding: 0 0 0 0;\n",
              "      width: 32px;\n",
              "    }\n",
              "\n",
              "    .colab-df-convert:hover {\n",
              "      background-color: #E2EBFA;\n",
              "      box-shadow: 0px 1px 2px rgba(60, 64, 67, 0.3), 0px 1px 3px 1px rgba(60, 64, 67, 0.15);\n",
              "      fill: #174EA6;\n",
              "    }\n",
              "\n",
              "    [theme=dark] .colab-df-convert {\n",
              "      background-color: #3B4455;\n",
              "      fill: #D2E3FC;\n",
              "    }\n",
              "\n",
              "    [theme=dark] .colab-df-convert:hover {\n",
              "      background-color: #434B5C;\n",
              "      box-shadow: 0px 1px 3px 1px rgba(0, 0, 0, 0.15);\n",
              "      filter: drop-shadow(0px 1px 2px rgba(0, 0, 0, 0.3));\n",
              "      fill: #FFFFFF;\n",
              "    }\n",
              "  </style>\n",
              "\n",
              "      <script>\n",
              "        const buttonEl =\n",
              "          document.querySelector('#df-15e92dda-736c-4a9f-a8ab-6e4d78f6234a button.colab-df-convert');\n",
              "        buttonEl.style.display =\n",
              "          google.colab.kernel.accessAllowed ? 'block' : 'none';\n",
              "\n",
              "        async function convertToInteractive(key) {\n",
              "          const element = document.querySelector('#df-15e92dda-736c-4a9f-a8ab-6e4d78f6234a');\n",
              "          const dataTable =\n",
              "            await google.colab.kernel.invokeFunction('convertToInteractive',\n",
              "                                                     [key], {});\n",
              "          if (!dataTable) return;\n",
              "\n",
              "          const docLinkHtml = 'Like what you see? Visit the ' +\n",
              "            '<a target=\"_blank\" href=https://colab.research.google.com/notebooks/data_table.ipynb>data table notebook</a>'\n",
              "            + ' to learn more about interactive tables.';\n",
              "          element.innerHTML = '';\n",
              "          dataTable['output_type'] = 'display_data';\n",
              "          await google.colab.output.renderOutput(dataTable, element);\n",
              "          const docLink = document.createElement('div');\n",
              "          docLink.innerHTML = docLinkHtml;\n",
              "          element.appendChild(docLink);\n",
              "        }\n",
              "      </script>\n",
              "    </div>\n",
              "  </div>\n",
              "  "
            ]
          },
          "metadata": {},
          "execution_count": 47
        }
      ]
    },
    {
      "cell_type": "code",
      "source": [
        "# Visualizamos finalmente luego de la transformación como quedaron los datos de entrenamiento y al igual que tipo de dato por columna\n",
        "X_train_df.info()"
      ],
      "metadata": {
        "colab": {
          "base_uri": "https://localhost:8080/"
        },
        "id": "n51Dlif5LfIJ",
        "outputId": "97bdc1ea-5b38-4641-9ae3-d077632dc8ba"
      },
      "execution_count": 48,
      "outputs": [
        {
          "output_type": "stream",
          "name": "stdout",
          "text": [
            "<class 'pandas.core.frame.DataFrame'>\n",
            "RangeIndex: 576 entries, 0 to 575\n",
            "Data columns (total 8 columns):\n",
            " #   Column  Non-Null Count  Dtype  \n",
            "---  ------  --------------  -----  \n",
            " 0   0       576 non-null    float64\n",
            " 1   1       576 non-null    float64\n",
            " 2   2       576 non-null    float64\n",
            " 3   3       576 non-null    float64\n",
            " 4   4       576 non-null    float64\n",
            " 5   5       576 non-null    float64\n",
            " 6   6       576 non-null    float64\n",
            " 7   7       576 non-null    float64\n",
            "dtypes: float64(8)\n",
            "memory usage: 36.1 KB\n"
          ]
        }
      ]
    },
    {
      "cell_type": "markdown",
      "source": [
        "\n",
        "\n",
        "---\n",
        "\n"
      ],
      "metadata": {
        "id": "W6zBEXBIMR7K"
      }
    },
    {
      "cell_type": "markdown",
      "source": [
        "## 🧑  *Modelo Regresión Lineal*\n"
      ],
      "metadata": {
        "id": "EBrBuzaKNBnU"
      }
    },
    {
      "cell_type": "markdown",
      "source": [
        "**Importamos la libreria y Procedemos a instanciar el modelo**\n",
        "\n"
      ],
      "metadata": {
        "id": "oEQIyBRDOJ5i"
      }
    },
    {
      "cell_type": "code",
      "source": [
        "# Importamos libreria e instanciamos el modelo en una variable\n",
        "from sklearn.linear_model import LinearRegression\n",
        "reg = LinearRegression()"
      ],
      "metadata": {
        "id": "muOhF7NmOaNO"
      },
      "execution_count": 49,
      "outputs": []
    },
    {
      "cell_type": "markdown",
      "source": [
        "**Ajustamos el modelo a los datos de entrenamiento**"
      ],
      "metadata": {
        "id": "xoAog7w8OtV_"
      }
    },
    {
      "cell_type": "code",
      "source": [
        "# Generamos el ajuste para que el modelo aprenda sobre la relación entre las características y el objetivo.\n",
        "reg.fit(X_train_processed, y_train)"
      ],
      "metadata": {
        "colab": {
          "base_uri": "https://localhost:8080/",
          "height": 75
        },
        "id": "zRyeSY_zO0Ji",
        "outputId": "057985d2-6849-4a7b-db0b-ff676fcd41e8"
      },
      "execution_count": 50,
      "outputs": [
        {
          "output_type": "execute_result",
          "data": {
            "text/plain": [
              "LinearRegression()"
            ],
            "text/html": [
              "<style>#sk-4aebd3e7-0731-43f8-84ac-721633021258 {color: black;background-color: white;}#sk-4aebd3e7-0731-43f8-84ac-721633021258 pre{padding: 0;}#sk-4aebd3e7-0731-43f8-84ac-721633021258 div.sk-toggleable {background-color: white;}#sk-4aebd3e7-0731-43f8-84ac-721633021258 label.sk-toggleable__label {cursor: pointer;display: block;width: 100%;margin-bottom: 0;padding: 0.3em;box-sizing: border-box;text-align: center;}#sk-4aebd3e7-0731-43f8-84ac-721633021258 label.sk-toggleable__label-arrow:before {content: \"▸\";float: left;margin-right: 0.25em;color: #696969;}#sk-4aebd3e7-0731-43f8-84ac-721633021258 label.sk-toggleable__label-arrow:hover:before {color: black;}#sk-4aebd3e7-0731-43f8-84ac-721633021258 div.sk-estimator:hover label.sk-toggleable__label-arrow:before {color: black;}#sk-4aebd3e7-0731-43f8-84ac-721633021258 div.sk-toggleable__content {max-height: 0;max-width: 0;overflow: hidden;text-align: left;background-color: #f0f8ff;}#sk-4aebd3e7-0731-43f8-84ac-721633021258 div.sk-toggleable__content pre {margin: 0.2em;color: black;border-radius: 0.25em;background-color: #f0f8ff;}#sk-4aebd3e7-0731-43f8-84ac-721633021258 input.sk-toggleable__control:checked~div.sk-toggleable__content {max-height: 200px;max-width: 100%;overflow: auto;}#sk-4aebd3e7-0731-43f8-84ac-721633021258 input.sk-toggleable__control:checked~label.sk-toggleable__label-arrow:before {content: \"▾\";}#sk-4aebd3e7-0731-43f8-84ac-721633021258 div.sk-estimator input.sk-toggleable__control:checked~label.sk-toggleable__label {background-color: #d4ebff;}#sk-4aebd3e7-0731-43f8-84ac-721633021258 div.sk-label input.sk-toggleable__control:checked~label.sk-toggleable__label {background-color: #d4ebff;}#sk-4aebd3e7-0731-43f8-84ac-721633021258 input.sk-hidden--visually {border: 0;clip: rect(1px 1px 1px 1px);clip: rect(1px, 1px, 1px, 1px);height: 1px;margin: -1px;overflow: hidden;padding: 0;position: absolute;width: 1px;}#sk-4aebd3e7-0731-43f8-84ac-721633021258 div.sk-estimator {font-family: monospace;background-color: #f0f8ff;border: 1px dotted black;border-radius: 0.25em;box-sizing: border-box;margin-bottom: 0.5em;}#sk-4aebd3e7-0731-43f8-84ac-721633021258 div.sk-estimator:hover {background-color: #d4ebff;}#sk-4aebd3e7-0731-43f8-84ac-721633021258 div.sk-parallel-item::after {content: \"\";width: 100%;border-bottom: 1px solid gray;flex-grow: 1;}#sk-4aebd3e7-0731-43f8-84ac-721633021258 div.sk-label:hover label.sk-toggleable__label {background-color: #d4ebff;}#sk-4aebd3e7-0731-43f8-84ac-721633021258 div.sk-serial::before {content: \"\";position: absolute;border-left: 1px solid gray;box-sizing: border-box;top: 2em;bottom: 0;left: 50%;}#sk-4aebd3e7-0731-43f8-84ac-721633021258 div.sk-serial {display: flex;flex-direction: column;align-items: center;background-color: white;padding-right: 0.2em;padding-left: 0.2em;}#sk-4aebd3e7-0731-43f8-84ac-721633021258 div.sk-item {z-index: 1;}#sk-4aebd3e7-0731-43f8-84ac-721633021258 div.sk-parallel {display: flex;align-items: stretch;justify-content: center;background-color: white;}#sk-4aebd3e7-0731-43f8-84ac-721633021258 div.sk-parallel::before {content: \"\";position: absolute;border-left: 1px solid gray;box-sizing: border-box;top: 2em;bottom: 0;left: 50%;}#sk-4aebd3e7-0731-43f8-84ac-721633021258 div.sk-parallel-item {display: flex;flex-direction: column;position: relative;background-color: white;}#sk-4aebd3e7-0731-43f8-84ac-721633021258 div.sk-parallel-item:first-child::after {align-self: flex-end;width: 50%;}#sk-4aebd3e7-0731-43f8-84ac-721633021258 div.sk-parallel-item:last-child::after {align-self: flex-start;width: 50%;}#sk-4aebd3e7-0731-43f8-84ac-721633021258 div.sk-parallel-item:only-child::after {width: 0;}#sk-4aebd3e7-0731-43f8-84ac-721633021258 div.sk-dashed-wrapped {border: 1px dashed gray;margin: 0 0.4em 0.5em 0.4em;box-sizing: border-box;padding-bottom: 0.4em;background-color: white;position: relative;}#sk-4aebd3e7-0731-43f8-84ac-721633021258 div.sk-label label {font-family: monospace;font-weight: bold;background-color: white;display: inline-block;line-height: 1.2em;}#sk-4aebd3e7-0731-43f8-84ac-721633021258 div.sk-label-container {position: relative;z-index: 2;text-align: center;}#sk-4aebd3e7-0731-43f8-84ac-721633021258 div.sk-container {/* jupyter's `normalize.less` sets `[hidden] { display: none; }` but bootstrap.min.css set `[hidden] { display: none !important; }` so we also need the `!important` here to be able to override the default hidden behavior on the sphinx rendered scikit-learn.org. See: https://github.com/scikit-learn/scikit-learn/issues/21755 */display: inline-block !important;position: relative;}#sk-4aebd3e7-0731-43f8-84ac-721633021258 div.sk-text-repr-fallback {display: none;}</style><div id=\"sk-4aebd3e7-0731-43f8-84ac-721633021258\" class=\"sk-top-container\"><div class=\"sk-text-repr-fallback\"><pre>LinearRegression()</pre><b>Please rerun this cell to show the HTML repr or trust the notebook.</b></div><div class=\"sk-container\" hidden><div class=\"sk-item\"><div class=\"sk-estimator sk-toggleable\"><input class=\"sk-toggleable__control sk-hidden--visually\" id=\"f8e987fa-855e-4a50-ad0d-4845a41b8c84\" type=\"checkbox\" checked><label for=\"f8e987fa-855e-4a50-ad0d-4845a41b8c84\" class=\"sk-toggleable__label sk-toggleable__label-arrow\">LinearRegression</label><div class=\"sk-toggleable__content\"><pre>LinearRegression()</pre></div></div></div></div></div>"
            ]
          },
          "metadata": {},
          "execution_count": 50
        }
      ]
    },
    {
      "cell_type": "markdown",
      "source": [
        "**Evaluamos el modelo de rendimiento en el conjunto de entrenamiento y de prueba usando la puntuación R^2**"
      ],
      "metadata": {
        "id": "mcUg5WIfPBBj"
      }
    },
    {
      "cell_type": "code",
      "source": [
        "# Procedemos a evaluar mediante el coeficiente de determinación (R^2) los conjuntos de entrenamiento y de prueba\n",
        "regl_train_score = reg.score(X_train_processed, y_train)\n",
        "regl_test_score = reg.score(X_test_processed, y_test)\n",
        "print(f\"El Train Score para este modelo es de: {regl_train_score}\")\n",
        "print(f\"El Test Score para este modelo es de: {regl_test_score}\")"
      ],
      "metadata": {
        "colab": {
          "base_uri": "https://localhost:8080/"
        },
        "id": "A9-1itOyPDuJ",
        "outputId": "e5986dc6-f4d6-4efd-db2a-051326890a90"
      },
      "execution_count": 51,
      "outputs": [
        {
          "output_type": "stream",
          "name": "stdout",
          "text": [
            "El Train Score para este modelo es de: 0.3411842786194794\n",
            "El Test Score para este modelo es de: 0.2360399427999138\n"
          ]
        }
      ]
    },
    {
      "cell_type": "markdown",
      "source": [
        "**Análisis:**\n",
        "\n",
        "El valor R^2 en nuestro conjunto de entrenamiento es 0,341, y el valor R^2 en nuestro conjunto de prueba es 0,236. Por lo que podríamos definir que el modelo pudiera estar sobre ajustado dado de que nos dieron en ambas evaluaciones unos valores muy bajos, al igual que vemos que quizá el modelo pueda funcionar mejor en los datos de entrenamiento que en los datos de prueba."
      ],
      "metadata": {
        "id": "QWr3-3eYQHBQ"
      }
    },
    {
      "cell_type": "markdown",
      "source": [
        "**Procedemos a obtener los valores de predicciones del modelo**"
      ],
      "metadata": {
        "id": "YmnwDc4eRS5x"
      }
    },
    {
      "cell_type": "code",
      "source": [
        "# Obteniendo las predicciones del conjunto de entrenamiento y del conjunto de prueba\n",
        "train_preds = reg.predict(X_train_processed)\n",
        "test_preds = reg.predict(X_test_processed)"
      ],
      "metadata": {
        "id": "0y2lpjKBRa1R"
      },
      "execution_count": 52,
      "outputs": []
    },
    {
      "cell_type": "markdown",
      "source": [
        "**Importamos las librerias para usar las métricas requeridas para evaluar el modelo de regresión**"
      ],
      "metadata": {
        "id": "KOO-8JuLTFXP"
      }
    },
    {
      "cell_type": "code",
      "source": [
        "# Importando librerias para calcular el error absoluto medio (EAM), el error cuadrático medio (ECM) y la raíz del error cuadrático medio (RECM)\n",
        "from sklearn.metrics import r2_score\n",
        "from sklearn.metrics import mean_absolute_error\n",
        "from sklearn.metrics import mean_squared_error"
      ],
      "metadata": {
        "id": "jvL2XsCdS-ns"
      },
      "execution_count": 53,
      "outputs": []
    },
    {
      "cell_type": "markdown",
      "source": [
        "**Inicialmente obtenemos la información métrica relacionada al Coeficiente de determinación (r^2)**"
      ],
      "metadata": {
        "id": "WJa0z9qBUkdr"
      }
    },
    {
      "cell_type": "code",
      "source": [
        "# Obtenemos el valor que se le asignara a las variables r2 de train y test\n",
        "r2_train = r2_score(y_train, train_preds)\n",
        "r2_test = r2_score(y_test, test_preds)\n",
        "\n",
        "# R^2 tiene dos entradas r2_score(valores_reales, valores_de_predicción)\n",
        "print(\"Valor de métrica R2 para conjunto de entrenamiento:\", r2_train)\n",
        "print(\"Valor de métrica R2 para conjunto de prueba:\", r2_test)"
      ],
      "metadata": {
        "colab": {
          "base_uri": "https://localhost:8080/"
        },
        "id": "xuG09KNUUYp3",
        "outputId": "ccbc1156-9046-4c60-cd89-723c6a1d5fde"
      },
      "execution_count": 54,
      "outputs": [
        {
          "output_type": "stream",
          "name": "stdout",
          "text": [
            "Valor de métrica R2 para conjunto de entrenamiento: 0.3411842786194794\n",
            "Valor de métrica R2 para conjunto de prueba: 0.2360399427999138\n"
          ]
        }
      ]
    },
    {
      "cell_type": "markdown",
      "source": [
        "**Obtenemos el valor del Error absoluto medio (EAM)**\n",
        "\n",
        "\n"
      ],
      "metadata": {
        "id": "cBtBZq9KcBEK"
      }
    },
    {
      "cell_type": "code",
      "source": [
        "# Utilizamos el MAE para evaluar el error de predicción\n",
        "mae_train = mean_absolute_error(y_train, train_preds)\n",
        "mae_test = mean_absolute_error(y_test, test_preds)\n",
        "print(f'Valor de métrica MAE para el conjunto de entrenamiento:', mae_train)\n",
        "print(f'Valor de métrica MAE para el conjunto de prueba:', mae_test)"
      ],
      "metadata": {
        "colab": {
          "base_uri": "https://localhost:8080/"
        },
        "id": "seiXLa5UYUW3",
        "outputId": "35de76d1-bfa0-4aee-8d6a-ee0784cfeba1"
      },
      "execution_count": 55,
      "outputs": [
        {
          "output_type": "stream",
          "name": "stdout",
          "text": [
            "Valor de métrica MAE para el conjunto de entrenamiento: 0.3155035392709872\n",
            "Valor de métrica MAE para el conjunto de prueba: 0.34542226329047193\n"
          ]
        }
      ]
    },
    {
      "cell_type": "markdown",
      "source": [
        "**Obtenemos el valor del Error Cuadrático Medio (ECM)**\n",
        "\n",
        "\n"
      ],
      "metadata": {
        "id": "5ubcaoBVe6A7"
      }
    },
    {
      "cell_type": "code",
      "source": [
        "# Utilizamos el MSE para evaluar el error de predicción\n",
        "mse_train = mean_squared_error(y_train, train_preds)\n",
        "mse_test = mean_squared_error(y_test, test_preds)\n",
        "print(\"Valor de métrica MSE para el conjunto de entrenamiento:\", mse_train)\n",
        "print(\"Valor de métrica MSE para el conjunto de prueba:\", mse_test)"
      ],
      "metadata": {
        "colab": {
          "base_uri": "https://localhost:8080/"
        },
        "id": "AKmUmemvfkhL",
        "outputId": "75be8d9b-d9cb-4ff2-85a7-bd69c5f33c73"
      },
      "execution_count": 56,
      "outputs": [
        {
          "output_type": "stream",
          "name": "stdout",
          "text": [
            "Valor de métrica MSE para el conjunto de entrenamiento: 0.14897500682728948\n",
            "Valor de métrica MSE para el conjunto de prueba: 0.17588240574699252\n"
          ]
        }
      ]
    },
    {
      "cell_type": "markdown",
      "source": [
        "**Obtenemos el valor de la Raíz del error cuadrático medio (RECM)**\n"
      ],
      "metadata": {
        "id": "oghev3Dfg7Ss"
      }
    },
    {
      "cell_type": "code",
      "source": [
        "# Utilizamos el RMSE Utilizado para evaluar el error de predicción\n",
        "rmse_train = np.sqrt(mse_train)\n",
        "rmse_test = np.sqrt(mse_test)\n",
        "print(\"Valor de métrica RMSE para el conjunto de entrenamiento:\", rmse_train)\n",
        "print(\"Valor de métrica RMSE para el conjunto de prueba:\", rmse_test)"
      ],
      "metadata": {
        "colab": {
          "base_uri": "https://localhost:8080/"
        },
        "id": "mZlgkCtOhHoc",
        "outputId": "210c7ff4-c4ee-4d1b-c9ca-b2ec47085786"
      },
      "execution_count": 57,
      "outputs": [
        {
          "output_type": "stream",
          "name": "stdout",
          "text": [
            "Valor de métrica RMSE para el conjunto de entrenamiento: 0.385972805813168\n",
            "Valor de métrica RMSE para el conjunto de prueba: 0.4193833636984096\n"
          ]
        }
      ]
    },
    {
      "cell_type": "code",
      "source": [
        "# Analizamos las prediciones del conjunto de entrenamiento frente al objetivo de entrenamiento\n",
        "print(train_preds.round(2))\n",
        "print(np.array(y_train))"
      ],
      "metadata": {
        "colab": {
          "base_uri": "https://localhost:8080/"
        },
        "id": "MClHzW9KjNUd",
        "outputId": "5194d616-636e-485a-90a1-813e53643153"
      },
      "execution_count": 58,
      "outputs": [
        {
          "output_type": "stream",
          "name": "stdout",
          "text": [
            "[ 0.7   0.31  0.01 -0.01  0.11  0.04  0.28  0.66  0.15  0.13  0.35  0.31\n",
            "  0.62  0.09  0.1   0.3   0.9   0.62  0.33  0.24  0.2   0.14  0.67  0.12\n",
            "  0.7   0.32  0.39  0.87  0.61  0.11  0.07  0.22  0.03  0.53  0.24  0.31\n",
            "  0.33  0.24  0.1  -0.04  0.22  0.47  0.37  0.44  0.07  0.31  0.37  0.49\n",
            "  0.14 -0.02  0.51  0.13  0.21  0.35  0.75  0.1   0.37  0.26  0.19  0.17\n",
            "  0.63  0.    0.24  0.64  0.18  0.42  0.09  0.03  0.54  0.46  0.15 -0.11\n",
            "  0.22  0.09  0.39  0.27 -0.04  0.33  0.08  0.22  0.67  0.62  0.38  0.17\n",
            "  0.07  0.62  0.17  0.2   0.31  0.74  0.84  0.99  0.16  0.34  0.84  0.7\n",
            " -0.07  0.78  0.15  0.21  0.79  0.25  0.43  0.16  0.21  0.79  0.21  0.33\n",
            "  0.25  0.59  0.74 -0.08  0.05 -0.24  0.25  0.37  0.07  0.48  0.11  1.03\n",
            "  0.76 -0.14  0.37  0.11  0.75  0.11 -0.05  0.08  0.45  0.39  0.95  0.27\n",
            "  0.24  0.44  0.23  0.26  0.51  0.16  0.26  0.07 -0.09  0.4   0.22  0.06\n",
            "  0.91  0.68  0.15  0.11  0.5   0.16  0.32  0.67  0.68  1.04 -0.1   0.12\n",
            "  0.06  0.35  0.22  0.43  0.9   0.82  0.36  0.13  0.48  0.34  0.27  0.48\n",
            "  0.5   0.75  0.59  0.39  0.01  0.06  0.2   0.04  0.43  0.47  0.5   0.31\n",
            "  0.67  0.44  0.64  0.03  0.56  0.48  0.27  0.42  0.4   0.77  1.23  0.72\n",
            "  0.36  0.21  0.58  0.36 -0.15  0.28  0.35 -0.04  0.2   0.74  0.64  1.01\n",
            "  0.44  0.77  0.65  0.49  0.35  0.2   0.01  0.19  0.21  0.28  0.38  0.81\n",
            "  0.43  0.31  0.31  0.03  0.31  0.42  0.21  0.85  0.65 -0.03  0.89  0.39\n",
            "  0.23  0.45  0.23  0.16  0.19  0.27  0.91  0.42  0.38  0.06  0.13  0.22\n",
            "  0.67  1.13  0.48  0.37  0.07 -0.05  0.46  0.05  0.41  0.2   0.85 -0.17\n",
            "  0.38  0.39  0.27  0.54  0.22  0.59  0.26  0.24  0.57  1.03  0.07  0.05\n",
            "  0.64  0.81  0.19  0.28 -0.05  0.44  0.16  0.32  0.49 -0.05 -0.28  0.3\n",
            "  0.19  0.7   0.93  0.57  0.35  0.49  0.44  0.36  0.59  0.14 -0.05  0.05\n",
            "  0.12 -0.06  0.33  0.59  0.13  0.75  0.66  0.07  0.48  0.57  0.04  0.72\n",
            " -0.1   0.63  0.47 -0.09  0.49  0.41  0.36  0.11  0.82  0.19  0.41  0.76\n",
            "  0.74  0.28  0.66  0.81  0.53  0.27  0.11  0.08  0.47  0.2   0.3   0.12\n",
            "  0.27  0.19  0.34  0.4   0.73  0.19  0.05  0.28  0.65  0.17  0.38 -0.1\n",
            " -0.01  0.26 -0.03  0.84  0.17  0.07  0.45  0.76 -0.04  0.07  0.8   0.17\n",
            "  0.56  0.15  0.08  0.57 -0.06  0.56  0.27  0.13  0.21  0.4   0.41  0.24\n",
            "  0.67  0.12  0.05  0.27 -0.02  0.23  0.66  0.56 -0.01  0.06  0.36  0.84\n",
            "  0.53 -0.04  0.39  0.12  0.08  0.07  0.47  0.16  0.19 -0.07  0.17 -0.16\n",
            "  0.45  0.55  0.34  0.3   0.48  0.03  0.03 -0.02  0.44  0.32  0.84  0.79\n",
            "  0.21  0.35  0.83  0.44  0.51  0.11  0.03  0.17  0.01 -0.14  0.78  0.22\n",
            "  0.39  0.17  0.69  0.25  0.25  0.34  0.64  0.43 -0.05  0.15  0.03  0.06\n",
            "  0.3   0.34  0.1   0.12  0.48  0.46  0.59  0.6   0.3   0.22  0.42  0.22\n",
            "  0.33  1.    0.32  0.12  0.4   0.2   0.7   0.36  0.5   0.55  0.16 -0.01\n",
            "  0.32  0.32  0.02  0.6   1.08  0.11  0.34  0.24  0.35  0.76  0.57  0.16\n",
            "  0.77  1.11  0.1   0.15  0.33  0.55 -0.13 -0.05  0.18 -0.03 -0.05  0.38\n",
            "  0.61  0.98  0.83 -0.02 -0.18  0.84  0.5   0.86  0.33 -0.23  0.35  0.75\n",
            "  0.32  0.31 -0.21  0.4   0.65  0.04  0.73  0.19  0.3   0.37  0.3   0.01\n",
            "  0.36  0.62  0.25 -0.21  0.87  0.22  0.39  0.51  0.37  0.26  0.48  0.19\n",
            "  0.26  0.04  0.2  -0.03  0.23  0.92  0.1   0.12  0.4   0.06  0.77  0.26\n",
            "  0.29  0.33  0.91  0.07  0.57  0.1   0.73  0.25  0.06  0.46 -0.08  0.46\n",
            "  0.98  0.47  0.68  0.43  0.26  0.35  0.22  0.13  0.2   0.38  0.53  0.45\n",
            "  0.81  0.21  0.75  0.2   0.52 -0.08  0.37  0.25  0.66  0.48  0.18  0.46\n",
            "  0.12  0.29  0.14  0.38  0.33  1.01  0.64  0.68  0.52  0.07  0.25  0.76\n",
            "  0.37  0.33 -0.11  0.28  0.69  0.4   0.32  0.38 -0.15  0.54  0.58  0.05]\n",
            "[1 0 0 0 0 0 1 1 0 0 1 0 0 0 0 0 1 1 0 0 0 0 1 0 0 1 0 0 1 0 0 0 0 0 1 1 0\n",
            " 0 0 0 0 1 0 0 0 0 1 1 0 0 1 0 0 0 0 0 0 0 1 0 1 0 0 0 0 1 0 0 0 1 0 0 0 0\n",
            " 0 0 0 0 0 0 1 1 0 0 0 1 0 0 0 1 1 1 0 0 1 1 0 0 0 0 1 0 1 0 0 1 1 0 0 1 1\n",
            " 0 0 0 0 0 0 1 0 1 1 0 0 0 1 0 0 0 1 1 1 0 1 0 0 0 0 0 0 0 0 1 1 0 1 1 0 0\n",
            " 1 0 0 1 1 1 0 0 0 0 0 1 0 1 0 0 0 0 0 0 0 1 1 0 0 0 0 0 0 0 1 0 1 1 1 0 0\n",
            " 0 0 0 1 1 1 1 0 0 1 0 0 1 1 0 1 1 0 1 0 0 0 1 0 1 0 1 0 0 0 1 1 0 1 0 0 1\n",
            " 0 1 0 0 1 0 0 1 0 0 1 0 1 1 0 0 0 0 1 1 0 1 0 0 1 0 1 0 1 0 0 0 0 1 1 1 1\n",
            " 1 0 0 0 0 1 1 0 0 0 1 0 1 0 0 0 0 0 1 1 0 1 1 1 1 1 0 0 0 0 0 1 1 0 1 1 0\n",
            " 0 1 0 1 0 0 0 0 0 0 1 0 1 0 0 0 1 0 1 1 1 0 0 0 0 0 0 0 0 0 0 0 1 0 0 0 1\n",
            " 0 1 0 0 1 0 1 0 0 0 1 0 0 1 0 0 0 0 1 0 0 0 0 0 1 0 0 0 0 0 0 0 0 1 1 0 0\n",
            " 0 1 0 0 1 0 1 0 1 1 0 0 0 0 0 1 1 1 1 0 0 0 1 1 1 1 0 1 0 0 0 0 0 0 0 0 0\n",
            " 0 0 0 1 0 0 0 0 0 0 0 0 0 1 0 0 0 0 0 1 0 0 0 1 0 1 1 0 0 1 1 0 0 1 0 0 0\n",
            " 0 0 0 1 1 0 1 0 0 1 1 0 1 1 0 0 1 1 0 0 0 0 0 1 1 0 1 0 0 1 1 1 0 0 0 1 1\n",
            " 0 0 1 1 0 0 0 0 1 1 0 1 0 0 0 1 0 1 0 0 0 0 1 0 0 0 0 0 1 0 0 0 0 1 0 1 0\n",
            " 1 0 0 0 1 0 0 1 0 0 1 1 1 1 0 1 0 0 0 1 0 0 1 1 0 0 1 0 0 0 0 0 1 0 0 0 0\n",
            " 0 1 1 1 1 1 0 0 1 0 1 0 0 1 0 0 0 0 1 1 0]\n"
          ]
        }
      ]
    },
    {
      "cell_type": "code",
      "source": [
        "# Analizamos las prediciones del conjunto de prueba frente al objetivo de prueba\n",
        "print(test_preds.round(2))\n",
        "print(np.array(y_test))"
      ],
      "metadata": {
        "colab": {
          "base_uri": "https://localhost:8080/"
        },
        "id": "W8avDKlQixhx",
        "outputId": "7a98ac46-13c1-423c-b4c6-761cede9316d"
      },
      "execution_count": 59,
      "outputs": [
        {
          "output_type": "stream",
          "name": "stdout",
          "text": [
            "[ 0.3   0.23  0.15  0.2   0.5   0.43 -0.24  0.41  0.56  0.72  0.29  0.9\n",
            "  0.43  0.31  0.04  0.39  0.13  0.04  0.72  0.55  0.26  0.05  0.46  0.1\n",
            "  0.53  0.88  0.14 -0.07  0.3   0.13  0.88  0.82  0.77  0.64  0.54  0.64\n",
            "  1.04  0.26  0.49  0.51  0.03  0.55  0.5   0.35 -0.11  0.53  0.52  0.23\n",
            "  0.37  1.03 -0.03  0.62  0.74  0.32  0.17 -0.07  0.74 -0.01  0.41  0.74\n",
            "  0.67  0.37  0.3   0.24  0.05  0.57 -0.05  0.69 -0.06  0.7   0.63  0.02\n",
            "  0.21  0.14  0.1   0.46  0.2   0.14  0.18  0.3   0.64  0.17 -0.01  0.42\n",
            "  0.31  0.84  0.86  0.35  0.13  0.08  0.02  0.27 -0.07  0.37  0.49  0.58\n",
            "  0.38  0.12  0.63  0.03  0.69  0.    0.69  0.53  0.62  0.28  0.33  0.7\n",
            "  0.1   0.45  0.08  0.44  0.22  0.72  0.23  0.35  0.69  0.27  0.01  0.39\n",
            "  0.03  0.29  0.28  0.03  0.37  0.41  0.35  0.81  0.91  0.71  0.69  0.8\n",
            "  0.09  0.46  0.78  0.14  0.22  0.83  0.74 -0.26  0.1  -0.06  0.3   0.44\n",
            "  0.14  0.27  0.11 -0.19  0.41  0.73  0.08  0.44  0.33  0.18  0.01  0.41\n",
            "  0.38  0.63  0.66  0.21  0.38  0.64  0.22 -0.22  0.13  0.84 -0.02  0.38\n",
            "  0.78  0.51  0.61  0.21  0.38  0.63  0.58  0.08  0.36  0.3   0.26  0.35\n",
            "  0.54  0.55  0.39  0.69  0.56  0.09 -0.05  0.12  0.84  0.39  0.01  0.09]\n",
            "[0 0 0 0 0 0 0 0 0 0 1 0 1 0 0 1 0 0 1 1 0 0 0 0 0 1 0 0 1 0 1 1 1 1 0 1 1\n",
            " 1 0 1 0 0 0 1 0 1 1 0 0 0 0 1 1 1 0 0 0 0 0 1 1 0 0 1 0 0 0 1 0 1 0 0 0 1\n",
            " 0 0 0 0 0 0 1 1 0 0 0 1 1 1 0 0 0 0 0 1 0 0 0 0 1 0 0 0 1 0 1 0 0 1 1 1 0\n",
            " 0 0 1 0 0 1 0 0 0 0 0 1 0 0 0 1 1 1 0 1 1 0 1 1 0 1 1 1 0 0 0 0 0 0 0 1 0\n",
            " 0 1 0 0 1 0 0 1 0 0 1 0 1 1 0 0 0 1 0 0 0 1 0 1 1 0 0 0 0 0 1 1 0 0 0 1 1\n",
            " 0 0 0 1 0 1 0]\n"
          ]
        }
      ]
    },
    {
      "cell_type": "markdown",
      "source": [
        "## 🎯**Conclusión Modelo Regresión Lineal**\n",
        "\n",
        "\n",
        "Luego de evaluar el modelo de rendimiento usando la puntuación R^2 y las demás métricas de regresión, no obtuvimos un buen comportamiento. Aquí algunas de las conclusiones analizadas:\n",
        "\n",
        "*   El coeficiente de determinación para ambos conjuntos estaba más orientado a 0, con un nivel bajo de rendimiento. El de entrenamiento tenía mejor respuesta que el conjunto de prueba. Por lo que podríamos definir que el modelo pudiera estar subajustado dado de que nos dieron en ambas evaluaciones unos valores muy bajos por debajo del 35% de la varianza de y entre x.\n",
        "*   Al usar el MAE el índice en el conjunto de pruebas aumento, lo que nos indica que el modelo tuvo un peor comportamiento en hacer predicciones en los datos de prueba ocultos.\n",
        "* En la métrica MSE mejoro la medición del modelo al pasar de los valores anterior a unos valores de 0.14 y 0.17 respectivamente en cada conjunto, aún mostrando un mejor comportamiento el conjunto de entrenamiento sobre el de pruebas.\n",
        "* Finalmente, con el RMSE se hizo evidente que los errores grandes incrementaron al quedar el rendimiento en 0.38 de entrenamiento y 0.41 de pruebas.\n",
        "\n",
        "Todo lo anterior nos lleva a inferir que esta varianza puede darse a que quizás se requieren más datos para el data set en miras de obtener un mejor comportamiento y que tambien la poca correlación entre columnas no aportara a manejar un mejor sesgo.\n",
        "\n",
        "\n",
        "\n",
        "\n",
        "---\n",
        "\n",
        "\n"
      ],
      "metadata": {
        "id": "yRlI_wtUlZW7"
      }
    },
    {
      "cell_type": "markdown",
      "source": [
        "## 🌲 *Modelo Árboles de decisión*\n"
      ],
      "metadata": {
        "id": "ipTiINOzwFI5"
      }
    },
    {
      "cell_type": "markdown",
      "source": [
        "**Importamos la libreria y Procedemos a instanciar el modelo**"
      ],
      "metadata": {
        "id": "GwlQdDRC6LFP"
      }
    },
    {
      "cell_type": "code",
      "source": [
        "# Importamos libreria e instanciamos el modelo en una variable\n",
        "from sklearn.tree import DecisionTreeRegressor\n",
        "dec_tree_reg = DecisionTreeRegressor(random_state=42)"
      ],
      "metadata": {
        "id": "_8tzmlj26AAa"
      },
      "execution_count": 60,
      "outputs": []
    },
    {
      "cell_type": "markdown",
      "source": [
        "Ajustamos el modelo usando los datos de entrenamiento"
      ],
      "metadata": {
        "id": "Rrxi48Ey6vUy"
      }
    },
    {
      "cell_type": "code",
      "source": [
        "# El modelo está aprendiendo la relación entre las características (X) y el objetivo (y).\n",
        "dec_tree_reg.fit(X_train_processed, y_train)"
      ],
      "metadata": {
        "colab": {
          "base_uri": "https://localhost:8080/",
          "height": 75
        },
        "id": "K7V9hbZ2510o",
        "outputId": "b74003f5-abc0-4eee-9e7d-cc9c52564009"
      },
      "execution_count": 61,
      "outputs": [
        {
          "output_type": "execute_result",
          "data": {
            "text/plain": [
              "DecisionTreeRegressor(random_state=42)"
            ],
            "text/html": [
              "<style>#sk-1e5e9636-cd55-404b-8ff0-e976d0a4486b {color: black;background-color: white;}#sk-1e5e9636-cd55-404b-8ff0-e976d0a4486b pre{padding: 0;}#sk-1e5e9636-cd55-404b-8ff0-e976d0a4486b div.sk-toggleable {background-color: white;}#sk-1e5e9636-cd55-404b-8ff0-e976d0a4486b label.sk-toggleable__label {cursor: pointer;display: block;width: 100%;margin-bottom: 0;padding: 0.3em;box-sizing: border-box;text-align: center;}#sk-1e5e9636-cd55-404b-8ff0-e976d0a4486b label.sk-toggleable__label-arrow:before {content: \"▸\";float: left;margin-right: 0.25em;color: #696969;}#sk-1e5e9636-cd55-404b-8ff0-e976d0a4486b label.sk-toggleable__label-arrow:hover:before {color: black;}#sk-1e5e9636-cd55-404b-8ff0-e976d0a4486b div.sk-estimator:hover label.sk-toggleable__label-arrow:before {color: black;}#sk-1e5e9636-cd55-404b-8ff0-e976d0a4486b div.sk-toggleable__content {max-height: 0;max-width: 0;overflow: hidden;text-align: left;background-color: #f0f8ff;}#sk-1e5e9636-cd55-404b-8ff0-e976d0a4486b div.sk-toggleable__content pre {margin: 0.2em;color: black;border-radius: 0.25em;background-color: #f0f8ff;}#sk-1e5e9636-cd55-404b-8ff0-e976d0a4486b input.sk-toggleable__control:checked~div.sk-toggleable__content {max-height: 200px;max-width: 100%;overflow: auto;}#sk-1e5e9636-cd55-404b-8ff0-e976d0a4486b input.sk-toggleable__control:checked~label.sk-toggleable__label-arrow:before {content: \"▾\";}#sk-1e5e9636-cd55-404b-8ff0-e976d0a4486b div.sk-estimator input.sk-toggleable__control:checked~label.sk-toggleable__label {background-color: #d4ebff;}#sk-1e5e9636-cd55-404b-8ff0-e976d0a4486b div.sk-label input.sk-toggleable__control:checked~label.sk-toggleable__label {background-color: #d4ebff;}#sk-1e5e9636-cd55-404b-8ff0-e976d0a4486b input.sk-hidden--visually {border: 0;clip: rect(1px 1px 1px 1px);clip: rect(1px, 1px, 1px, 1px);height: 1px;margin: -1px;overflow: hidden;padding: 0;position: absolute;width: 1px;}#sk-1e5e9636-cd55-404b-8ff0-e976d0a4486b div.sk-estimator {font-family: monospace;background-color: #f0f8ff;border: 1px dotted black;border-radius: 0.25em;box-sizing: border-box;margin-bottom: 0.5em;}#sk-1e5e9636-cd55-404b-8ff0-e976d0a4486b div.sk-estimator:hover {background-color: #d4ebff;}#sk-1e5e9636-cd55-404b-8ff0-e976d0a4486b div.sk-parallel-item::after {content: \"\";width: 100%;border-bottom: 1px solid gray;flex-grow: 1;}#sk-1e5e9636-cd55-404b-8ff0-e976d0a4486b div.sk-label:hover label.sk-toggleable__label {background-color: #d4ebff;}#sk-1e5e9636-cd55-404b-8ff0-e976d0a4486b div.sk-serial::before {content: \"\";position: absolute;border-left: 1px solid gray;box-sizing: border-box;top: 2em;bottom: 0;left: 50%;}#sk-1e5e9636-cd55-404b-8ff0-e976d0a4486b div.sk-serial {display: flex;flex-direction: column;align-items: center;background-color: white;padding-right: 0.2em;padding-left: 0.2em;}#sk-1e5e9636-cd55-404b-8ff0-e976d0a4486b div.sk-item {z-index: 1;}#sk-1e5e9636-cd55-404b-8ff0-e976d0a4486b div.sk-parallel {display: flex;align-items: stretch;justify-content: center;background-color: white;}#sk-1e5e9636-cd55-404b-8ff0-e976d0a4486b div.sk-parallel::before {content: \"\";position: absolute;border-left: 1px solid gray;box-sizing: border-box;top: 2em;bottom: 0;left: 50%;}#sk-1e5e9636-cd55-404b-8ff0-e976d0a4486b div.sk-parallel-item {display: flex;flex-direction: column;position: relative;background-color: white;}#sk-1e5e9636-cd55-404b-8ff0-e976d0a4486b div.sk-parallel-item:first-child::after {align-self: flex-end;width: 50%;}#sk-1e5e9636-cd55-404b-8ff0-e976d0a4486b div.sk-parallel-item:last-child::after {align-self: flex-start;width: 50%;}#sk-1e5e9636-cd55-404b-8ff0-e976d0a4486b div.sk-parallel-item:only-child::after {width: 0;}#sk-1e5e9636-cd55-404b-8ff0-e976d0a4486b div.sk-dashed-wrapped {border: 1px dashed gray;margin: 0 0.4em 0.5em 0.4em;box-sizing: border-box;padding-bottom: 0.4em;background-color: white;position: relative;}#sk-1e5e9636-cd55-404b-8ff0-e976d0a4486b div.sk-label label {font-family: monospace;font-weight: bold;background-color: white;display: inline-block;line-height: 1.2em;}#sk-1e5e9636-cd55-404b-8ff0-e976d0a4486b div.sk-label-container {position: relative;z-index: 2;text-align: center;}#sk-1e5e9636-cd55-404b-8ff0-e976d0a4486b div.sk-container {/* jupyter's `normalize.less` sets `[hidden] { display: none; }` but bootstrap.min.css set `[hidden] { display: none !important; }` so we also need the `!important` here to be able to override the default hidden behavior on the sphinx rendered scikit-learn.org. See: https://github.com/scikit-learn/scikit-learn/issues/21755 */display: inline-block !important;position: relative;}#sk-1e5e9636-cd55-404b-8ff0-e976d0a4486b div.sk-text-repr-fallback {display: none;}</style><div id=\"sk-1e5e9636-cd55-404b-8ff0-e976d0a4486b\" class=\"sk-top-container\"><div class=\"sk-text-repr-fallback\"><pre>DecisionTreeRegressor(random_state=42)</pre><b>Please rerun this cell to show the HTML repr or trust the notebook.</b></div><div class=\"sk-container\" hidden><div class=\"sk-item\"><div class=\"sk-estimator sk-toggleable\"><input class=\"sk-toggleable__control sk-hidden--visually\" id=\"9cddeb2c-a97d-446c-a501-4e626458cdc5\" type=\"checkbox\" checked><label for=\"9cddeb2c-a97d-446c-a501-4e626458cdc5\" class=\"sk-toggleable__label sk-toggleable__label-arrow\">DecisionTreeRegressor</label><div class=\"sk-toggleable__content\"><pre>DecisionTreeRegressor(random_state=42)</pre></div></div></div></div></div>"
            ]
          },
          "metadata": {},
          "execution_count": 61
        }
      ]
    },
    {
      "cell_type": "markdown",
      "source": [
        "**Procedemos a predecir los valores objetivos para el conjunto de entrenamiento y de prueba**"
      ],
      "metadata": {
        "id": "ARHo8LFd7E-S"
      }
    },
    {
      "cell_type": "code",
      "source": [
        "# Obteniendo las predicciones del conjunto de entrenamiento y del conjunto de prueba\n",
        "train_preds_dtr = dec_tree_reg.predict(X_train_processed)\n",
        "test_preds_dtr = dec_tree_reg.predict(X_test_processed)"
      ],
      "metadata": {
        "id": "TQgHQ-T57LgD"
      },
      "execution_count": 62,
      "outputs": []
    },
    {
      "cell_type": "markdown",
      "source": [
        "**Evaluamos el modelo con las instancias generadas**"
      ],
      "metadata": {
        "id": "tl8jRnbY7nNJ"
      }
    },
    {
      "cell_type": "code",
      "source": [
        "r2_tree_train_score = dec_tree_reg.score(X_train_processed, y_train)\n",
        "r2_tree_test_score = dec_tree_reg.score(X_test_processed, y_test)\n",
        "print(\"La métrica de evaluación para el conjunto de entrenamiento es: \", r2_tree_train_score)\n",
        "print(\"\\n\")\n",
        "print(\"La métrica de evaluación para el conjunto de prueba es: \", r2_tree_test_score)"
      ],
      "metadata": {
        "colab": {
          "base_uri": "https://localhost:8080/"
        },
        "id": "G9Jlf8h664Aa",
        "outputId": "75e3d70e-a3cf-498e-9b00-6e49b3f45371"
      },
      "execution_count": 63,
      "outputs": [
        {
          "output_type": "stream",
          "name": "stdout",
          "text": [
            "La métrica de evaluación para el conjunto de entrenamiento es:  1.0\n",
            "\n",
            "\n",
            "La métrica de evaluación para el conjunto de prueba es:  -0.3799929303640863\n"
          ]
        }
      ]
    },
    {
      "cell_type": "markdown",
      "source": [
        "**Explorando ajuste del modelo**"
      ],
      "metadata": {
        "id": "WoDmmaNY-E2c"
      }
    },
    {
      "cell_type": "code",
      "source": [
        "# Ejecutamos el nombre del modelo instanciado junto a los parámetros a instanciar\n",
        "dec_tree_reg.get_params()"
      ],
      "metadata": {
        "colab": {
          "base_uri": "https://localhost:8080/"
        },
        "id": "dpTwmMwf97O6",
        "outputId": "d6a65556-4a63-4a56-a9c4-00dcb0ba4beb"
      },
      "execution_count": 64,
      "outputs": [
        {
          "output_type": "execute_result",
          "data": {
            "text/plain": [
              "{'ccp_alpha': 0.0,\n",
              " 'criterion': 'squared_error',\n",
              " 'max_depth': None,\n",
              " 'max_features': None,\n",
              " 'max_leaf_nodes': None,\n",
              " 'min_impurity_decrease': 0.0,\n",
              " 'min_samples_leaf': 1,\n",
              " 'min_samples_split': 2,\n",
              " 'min_weight_fraction_leaf': 0.0,\n",
              " 'random_state': 42,\n",
              " 'splitter': 'best'}"
            ]
          },
          "metadata": {},
          "execution_count": 64
        }
      ]
    },
    {
      "cell_type": "markdown",
      "source": [
        "**Identificamos la profundidad del arbol por defecto y sus nodos hojas**"
      ],
      "metadata": {
        "id": "BYRcIOFK-gmI"
      }
    },
    {
      "cell_type": "code",
      "source": [
        "# Ejecutamos funciones para la búsqueda de valores\n",
        "depth_tree = dec_tree_reg.get_depth()\n",
        "n_leaves_tree = dec_tree_reg.get_n_leaves()\n",
        "print(\"La profundidad del árbol por defecto es: \", depth_tree)\n",
        "print(\"La cantidad de nodos hojas del árbol por defecto es: \", n_leaves_tree)"
      ],
      "metadata": {
        "colab": {
          "base_uri": "https://localhost:8080/"
        },
        "id": "hEemuE6865x-",
        "outputId": "b2e4aa8a-1083-443d-aa01-f9eb61b08560"
      },
      "execution_count": 65,
      "outputs": [
        {
          "output_type": "stream",
          "name": "stdout",
          "text": [
            "La profundidad del árbol por defecto es:  13\n",
            "La cantidad de nodos hojas del árbol por defecto es:  97\n"
          ]
        }
      ]
    },
    {
      "cell_type": "markdown",
      "source": [
        "**Tratando de encontrar el max_depth óptimo (ajuste de hiperparámetro)**"
      ],
      "metadata": {
        "id": "bV0UGeUk_9X9"
      }
    },
    {
      "cell_type": "code",
      "source": [
        "# Vayamos al extremo y fijemos nuestra profundidad máxima en 2\n",
        "dec_tree_reg_2 = DecisionTreeRegressor(max_depth = 2, random_state = 42)\n",
        "dec_tree_reg_2.fit(X_train_processed, y_train)\n",
        "train_2_score = dec_tree_reg_2.score(X_train_processed, y_train)\n",
        "test_2_score = dec_tree_reg_2.score(X_test_processed, y_test)\n",
        "print(\"La métrica de evaluación para el conjunto de entrenamiento es: \", train_2_score)\n",
        "print(\"\\n\")\n",
        "print(\"La métrica de evaluación para el conjunto de prueba es: \", test_2_score)"
      ],
      "metadata": {
        "colab": {
          "base_uri": "https://localhost:8080/"
        },
        "id": "73CNPF2t__k6",
        "outputId": "a258f99a-52eb-4599-dd07-d9427e6a48bd"
      },
      "execution_count": 66,
      "outputs": [
        {
          "output_type": "stream",
          "name": "stdout",
          "text": [
            "La métrica de evaluación para el conjunto de entrenamiento es:  0.2738896205042054\n",
            "\n",
            "\n",
            "La métrica de evaluación para el conjunto de prueba es:  0.14549324761975357\n"
          ]
        }
      ]
    },
    {
      "cell_type": "markdown",
      "source": [
        "Con las anteriores puntuaciones podemos identificar que el modelo esta subajustado al tener un rendimiento por debajo del 28% tanto para el conjunto de entrenamiento como de pruebas. Tambien notamos una varianza con sobreajuste de los datos de entrenamiento ya que el rendimiento de entrenamiento esta muy alejado del rendimiento de prueba, un 0.27 del primero contra un 0.14 del otro."
      ],
      "metadata": {
        "id": "C8UfHrZyBO8Q"
      }
    },
    {
      "cell_type": "markdown",
      "source": [
        "**Ajustamos nuevamente el max_depth óptimo a la mitad de profundidad por defecto**"
      ],
      "metadata": {
        "id": "GNk0EZCqDY34"
      }
    },
    {
      "cell_type": "code",
      "source": [
        "# Ajustamos el hiperparámetro a 7\n",
        "dec_tree_reg_7 = DecisionTreeRegressor(max_depth = 7, random_state = 42)\n",
        "dec_tree_reg_7.fit(X_train_processed, y_train)\n",
        "train_7_score = dec_tree_reg_7.score(X_train_processed, y_train)\n",
        "test_7_score = dec_tree_reg_7.score(X_test_processed, y_test)\n",
        "print(\"La métrica de evaluación para el conjunto de entrenamiento es: \", train_7_score)\n",
        "print(\"\\n\")\n",
        "print(\"La métrica de evaluación para el conjunto de prueba es: \", test_7_score)"
      ],
      "metadata": {
        "colab": {
          "base_uri": "https://localhost:8080/"
        },
        "id": "_nm5IqjyC7Tk",
        "outputId": "862fe057-8307-4c2d-8b95-74da7da3862a"
      },
      "execution_count": 67,
      "outputs": [
        {
          "output_type": "stream",
          "name": "stdout",
          "text": [
            "La métrica de evaluación para el conjunto de entrenamiento es:  0.7207645324089615\n",
            "\n",
            "\n",
            "La métrica de evaluación para el conjunto de prueba es:  -0.19923351445706428\n"
          ]
        }
      ]
    },
    {
      "cell_type": "markdown",
      "source": [
        "En esta ocasión el conjunto de entrenamiento mejoro su valor de rendimiento pero el de pruebas desmejoro en gran medida."
      ],
      "metadata": {
        "id": "foS-mDp7D82G"
      }
    },
    {
      "cell_type": "markdown",
      "source": [
        "**Aplicamos función de GridSearch para lograr obtener el mejor max_depth óptimo**"
      ],
      "metadata": {
        "id": "LAsuC51bEV8m"
      }
    },
    {
      "cell_type": "code",
      "source": [
        "# Lista de valores a probar para max_depth:\n",
        "max_depth_range = list(range(2, 13)) # will try every value between 2 and 36\n",
        "# Lista para almacenar la puntuación para cada valor de max_depth:\n",
        "r2 = []\n",
        "for depth in max_depth_range:\n",
        "    dec_tree_reg = DecisionTreeRegressor(max_depth = depth, random_state = 42)\n",
        "    dec_tree_reg.fit(X_train_processed, y_train)\n",
        "    score = dec_tree_reg.score(X_test_processed, y_test)\n",
        "    r2.append(score)"
      ],
      "metadata": {
        "id": "1OMEP3DeERvd"
      },
      "execution_count": 68,
      "outputs": []
    },
    {
      "cell_type": "code",
      "source": [
        "# Creamos gráfico para visualizar qué max_depth lleva a una puntuación R2 más alta\n",
        "plt.plot(max_depth_range, r2)\n",
        "plt.xlabel('max_depth')\n",
        "plt.ylabel('R2');"
      ],
      "metadata": {
        "colab": {
          "base_uri": "https://localhost:8080/",
          "height": 281
        },
        "id": "JaMGXMU3ENG9",
        "outputId": "614d162b-13dc-4b63-a336-5b68c0c336ff"
      },
      "execution_count": 69,
      "outputs": [
        {
          "output_type": "display_data",
          "data": {
            "text/plain": [
              "<Figure size 432x288 with 1 Axes>"
            ],
            "image/png": "[encoded data removed]"
          },
          "metadata": {
            "needs_background": "light"
          }
        }
      ]
    },
    {
      "cell_type": "markdown",
      "source": [
        "**Por la imagen anterior, parece que la mejor puntuación del modelo es cuando el parámetro max_depth es 3.**"
      ],
      "metadata": {
        "id": "QTT0TKC_FR5l"
      }
    },
    {
      "cell_type": "code",
      "source": [
        "# Ejecutamos el modelo con nuestro valor optimizado para max_depth\n",
        "dec_tree_reg_3 = DecisionTreeRegressor(max_depth = 3, random_state = 42)\n",
        "dec_tree_reg_3.fit(X_train_processed, y_train)\n",
        "train_3_score = dec_tree_reg_3.score(X_train_processed, y_train)\n",
        "test_3_score = dec_tree_reg_3.score(X_test_processed, y_test)\n",
        "print(\"La métrica de evaluación para el conjunto de entrenamiento es: \", train_3_score)\n",
        "print(\"\\n\")\n",
        "print(\"La métrica de evaluación para el conjunto de prueba es: \", test_3_score)"
      ],
      "metadata": {
        "colab": {
          "base_uri": "https://localhost:8080/"
        },
        "id": "fAuTspoNFWOB",
        "outputId": "f00d91c0-1691-4c83-a828-f3bc582fec47"
      },
      "execution_count": 70,
      "outputs": [
        {
          "output_type": "stream",
          "name": "stdout",
          "text": [
            "La métrica de evaluación para el conjunto de entrenamiento es:  0.36170330217457725\n",
            "\n",
            "\n",
            "La métrica de evaluación para el conjunto de prueba es:  0.17846647074131894\n"
          ]
        }
      ]
    },
    {
      "cell_type": "markdown",
      "source": [
        "Aunque los valores de rendimiento mejoraron para ambos conjuntos, se sigue presentando valores no tan deseados para obtener un buen modelo predictivo con este tipo de análisis."
      ],
      "metadata": {
        "id": "iicMehLzGiPE"
      }
    },
    {
      "cell_type": "markdown",
      "source": [
        "## 🎯**Conclusión Modelo Árboles de Decisión**\n",
        "\n",
        "\n",
        "Luego de evaluar el modelo de Árboles de Decisión usando la puntuación R^2 con diferentes hiperpárametros. LLegamos a la siguiente conclusiones analizadas:\n",
        "\n",
        "*   El coeficiente de determinación para ambos conjuntos estaba más orientado a 0, con un nivel bajo de rendimiento. El conjunto de entrenamiento siempre tuvo mejor respuesta a las variaciones respecto al conjunto de prueba.\n",
        "* El conjunto de prueba en sus diversas métricas de evaluación a partir de un mayor número de nodos mostro valores negativos. Por lo que nos indica una correlación defectuosa casi que nula del conjunto y las caracteristicas en comparación a su objetivo.\n",
        "\n",
        "Con lo anterior definimos que el modelo esta subajustado al tener un rendimiento por debajo del 28% tanto para el conjunto de entrenamiento como de pruebas. Tambien notamos un modelo de varianza baja con sobreajuste de los datos de entrenamiento ya que el rendimiento de entrenamiento estuvo muy alejado del rendimiento del de prueba. Incluso con valores negativos.\n",
        "\n",
        "---"
      ],
      "metadata": {
        "id": "zBq5jgqjHLr-"
      }
    },
    {
      "cell_type": "markdown",
      "source": [
        "## 🥼  *Modelo Regresión Logistica*\n",
        "\n"
      ],
      "metadata": {
        "id": "7PfQxP6hMcwf"
      }
    },
    {
      "cell_type": "markdown",
      "source": [
        "**Importamos la libreria y Procedemos a instanciar el modelo**"
      ],
      "metadata": {
        "id": "2gBAH3bZPCgg"
      }
    },
    {
      "cell_type": "code",
      "source": [
        "# Importamos libreria e instanciamos el modelo en una variable\n",
        "from sklearn.linear_model import LogisticRegression\n",
        "logreg = LogisticRegression(C = 1000)"
      ],
      "metadata": {
        "id": "pF0ZBOTVQFdW"
      },
      "execution_count": 71,
      "outputs": []
    },
    {
      "cell_type": "markdown",
      "source": [
        "**Visualizamos la relación entre las columnas Glucose y Outcome (objetivo)**"
      ],
      "metadata": {
        "id": "WaUL-AIgQYtH"
      }
    },
    {
      "cell_type": "code",
      "source": [
        "# Generamos un gráfico para hacer seguimiento visual a los datos trabajados en este análisis\n",
        "fig, ax = plt.subplots(figsize = (12, 8))\n",
        "plt.scatter(df['Glucose'], df['Outcome'])\n",
        "plt.ylabel('Diabetico (1) or No Diabetico (0)', fontsize = 12)\n",
        "plt.xlabel('Mediciones de Glucosa', fontsize = 12)\n",
        "plt.show()"
      ],
      "metadata": {
        "colab": {
          "base_uri": "https://localhost:8080/",
          "height": 500
        },
        "id": "RNVQeiPNQmzH",
        "outputId": "33c836f8-9b4d-4c30-c02f-bbd02bf3d3ab"
      },
      "execution_count": 72,
      "outputs": [
        {
          "output_type": "display_data",
          "data": {
            "text/plain": [
              "<Figure size 864x576 with 1 Axes>"
            ],
            "image/png": "[encoded data removed]"
          },
          "metadata": {
            "needs_background": "light"
          }
        }
      ]
    },
    {
      "cell_type": "markdown",
      "source": [
        "Como lo vimos en una oportunidad anterior con el análisis de uno de los gráficos que usamos para la exploración de datos. Pudimos evidenciar que las personas con diagnóstico de Diabetes (Outcome = 1) se relacionaban a que si su medida de Glucosa era igual o superior a 78, recibían dicha asignación."
      ],
      "metadata": {
        "id": "bVAB6MQhTLXX"
      }
    },
    {
      "cell_type": "markdown",
      "source": [
        "**Configuramos modelado para probar la relación gráfica entre las columnas con mejor correlación**"
      ],
      "metadata": {
        "id": "t_iu9LFCeiQg"
      }
    },
    {
      "cell_type": "code",
      "source": [
        "# Asignamos la caracteristica en este caso Glucosa y el vector objetivo que seria Outcome\n",
        "X = df[['Glucose']]\n",
        "y = df['Outcome']\n",
        "\n",
        "# Generamos un Train Test Split\n",
        "X_train, X_test, y_train, y_test = train_test_split(X, y, random_state=42)"
      ],
      "metadata": {
        "id": "lD13Z09MWGpY"
      },
      "execution_count": 73,
      "outputs": []
    },
    {
      "cell_type": "code",
      "source": [
        "# Instantiate Scaler\n",
        "scaler = StandardScaler()\n",
        "\n",
        "# Creamos Pipeline para añadir Escalador y la instancia del modelo\n",
        "logreg_pipe = make_pipeline(scaler, logreg)\n",
        "\n",
        "# Ajustado el modelo con los datos, El modelo aprende entre la relación de y las caracteristicas X\n",
        "logreg_pipe.fit(X_train, y_train)"
      ],
      "metadata": {
        "colab": {
          "base_uri": "https://localhost:8080/",
          "height": 128
        },
        "id": "tRi4_XgJT1ts",
        "outputId": "318c0793-8ab4-4c42-daca-4971ba7e2607"
      },
      "execution_count": 74,
      "outputs": [
        {
          "output_type": "execute_result",
          "data": {
            "text/plain": [
              "Pipeline(steps=[('standardscaler', StandardScaler()),\n",
              "                ('logisticregression', LogisticRegression(C=1000))])"
            ],
            "text/html": [
              "<style>#sk-24fbbf89-09f6-462b-b64b-cbc0586e6417 {color: black;background-color: white;}#sk-24fbbf89-09f6-462b-b64b-cbc0586e6417 pre{padding: 0;}#sk-24fbbf89-09f6-462b-b64b-cbc0586e6417 div.sk-toggleable {background-color: white;}#sk-24fbbf89-09f6-462b-b64b-cbc0586e6417 label.sk-toggleable__label {cursor: pointer;display: block;width: 100%;margin-bottom: 0;padding: 0.3em;box-sizing: border-box;text-align: center;}#sk-24fbbf89-09f6-462b-b64b-cbc0586e6417 label.sk-toggleable__label-arrow:before {content: \"▸\";float: left;margin-right: 0.25em;color: #696969;}#sk-24fbbf89-09f6-462b-b64b-cbc0586e6417 label.sk-toggleable__label-arrow:hover:before {color: black;}#sk-24fbbf89-09f6-462b-b64b-cbc0586e6417 div.sk-estimator:hover label.sk-toggleable__label-arrow:before {color: black;}#sk-24fbbf89-09f6-462b-b64b-cbc0586e6417 div.sk-toggleable__content {max-height: 0;max-width: 0;overflow: hidden;text-align: left;background-color: #f0f8ff;}#sk-24fbbf89-09f6-462b-b64b-cbc0586e6417 div.sk-toggleable__content pre {margin: 0.2em;color: black;border-radius: 0.25em;background-color: #f0f8ff;}#sk-24fbbf89-09f6-462b-b64b-cbc0586e6417 input.sk-toggleable__control:checked~div.sk-toggleable__content {max-height: 200px;max-width: 100%;overflow: auto;}#sk-24fbbf89-09f6-462b-b64b-cbc0586e6417 input.sk-toggleable__control:checked~label.sk-toggleable__label-arrow:before {content: \"▾\";}#sk-24fbbf89-09f6-462b-b64b-cbc0586e6417 div.sk-estimator input.sk-toggleable__control:checked~label.sk-toggleable__label {background-color: #d4ebff;}#sk-24fbbf89-09f6-462b-b64b-cbc0586e6417 div.sk-label input.sk-toggleable__control:checked~label.sk-toggleable__label {background-color: #d4ebff;}#sk-24fbbf89-09f6-462b-b64b-cbc0586e6417 input.sk-hidden--visually {border: 0;clip: rect(1px 1px 1px 1px);clip: rect(1px, 1px, 1px, 1px);height: 1px;margin: -1px;overflow: hidden;padding: 0;position: absolute;width: 1px;}#sk-24fbbf89-09f6-462b-b64b-cbc0586e6417 div.sk-estimator {font-family: monospace;background-color: #f0f8ff;border: 1px dotted black;border-radius: 0.25em;box-sizing: border-box;margin-bottom: 0.5em;}#sk-24fbbf89-09f6-462b-b64b-cbc0586e6417 div.sk-estimator:hover {background-color: #d4ebff;}#sk-24fbbf89-09f6-462b-b64b-cbc0586e6417 div.sk-parallel-item::after {content: \"\";width: 100%;border-bottom: 1px solid gray;flex-grow: 1;}#sk-24fbbf89-09f6-462b-b64b-cbc0586e6417 div.sk-label:hover label.sk-toggleable__label {background-color: #d4ebff;}#sk-24fbbf89-09f6-462b-b64b-cbc0586e6417 div.sk-serial::before {content: \"\";position: absolute;border-left: 1px solid gray;box-sizing: border-box;top: 2em;bottom: 0;left: 50%;}#sk-24fbbf89-09f6-462b-b64b-cbc0586e6417 div.sk-serial {display: flex;flex-direction: column;align-items: center;background-color: white;padding-right: 0.2em;padding-left: 0.2em;}#sk-24fbbf89-09f6-462b-b64b-cbc0586e6417 div.sk-item {z-index: 1;}#sk-24fbbf89-09f6-462b-b64b-cbc0586e6417 div.sk-parallel {display: flex;align-items: stretch;justify-content: center;background-color: white;}#sk-24fbbf89-09f6-462b-b64b-cbc0586e6417 div.sk-parallel::before {content: \"\";position: absolute;border-left: 1px solid gray;box-sizing: border-box;top: 2em;bottom: 0;left: 50%;}#sk-24fbbf89-09f6-462b-b64b-cbc0586e6417 div.sk-parallel-item {display: flex;flex-direction: column;position: relative;background-color: white;}#sk-24fbbf89-09f6-462b-b64b-cbc0586e6417 div.sk-parallel-item:first-child::after {align-self: flex-end;width: 50%;}#sk-24fbbf89-09f6-462b-b64b-cbc0586e6417 div.sk-parallel-item:last-child::after {align-self: flex-start;width: 50%;}#sk-24fbbf89-09f6-462b-b64b-cbc0586e6417 div.sk-parallel-item:only-child::after {width: 0;}#sk-24fbbf89-09f6-462b-b64b-cbc0586e6417 div.sk-dashed-wrapped {border: 1px dashed gray;margin: 0 0.4em 0.5em 0.4em;box-sizing: border-box;padding-bottom: 0.4em;background-color: white;position: relative;}#sk-24fbbf89-09f6-462b-b64b-cbc0586e6417 div.sk-label label {font-family: monospace;font-weight: bold;background-color: white;display: inline-block;line-height: 1.2em;}#sk-24fbbf89-09f6-462b-b64b-cbc0586e6417 div.sk-label-container {position: relative;z-index: 2;text-align: center;}#sk-24fbbf89-09f6-462b-b64b-cbc0586e6417 div.sk-container {/* jupyter's `normalize.less` sets `[hidden] { display: none; }` but bootstrap.min.css set `[hidden] { display: none !important; }` so we also need the `!important` here to be able to override the default hidden behavior on the sphinx rendered scikit-learn.org. See: https://github.com/scikit-learn/scikit-learn/issues/21755 */display: inline-block !important;position: relative;}#sk-24fbbf89-09f6-462b-b64b-cbc0586e6417 div.sk-text-repr-fallback {display: none;}</style><div id=\"sk-24fbbf89-09f6-462b-b64b-cbc0586e6417\" class=\"sk-top-container\"><div class=\"sk-text-repr-fallback\"><pre>Pipeline(steps=[(&#x27;standardscaler&#x27;, StandardScaler()),\n",
              "                (&#x27;logisticregression&#x27;, LogisticRegression(C=1000))])</pre><b>Please rerun this cell to show the HTML repr or trust the notebook.</b></div><div class=\"sk-container\" hidden><div class=\"sk-item sk-dashed-wrapped\"><div class=\"sk-label-container\"><div class=\"sk-label sk-toggleable\"><input class=\"sk-toggleable__control sk-hidden--visually\" id=\"bc2d5bd3-6f3d-4cd4-bb77-95ae40c3d3f9\" type=\"checkbox\" ><label for=\"bc2d5bd3-6f3d-4cd4-bb77-95ae40c3d3f9\" class=\"sk-toggleable__label sk-toggleable__label-arrow\">Pipeline</label><div class=\"sk-toggleable__content\"><pre>Pipeline(steps=[(&#x27;standardscaler&#x27;, StandardScaler()),\n",
              "                (&#x27;logisticregression&#x27;, LogisticRegression(C=1000))])</pre></div></div></div><div class=\"sk-serial\"><div class=\"sk-item\"><div class=\"sk-estimator sk-toggleable\"><input class=\"sk-toggleable__control sk-hidden--visually\" id=\"894b1d21-533c-46ab-a453-3d7097e759d0\" type=\"checkbox\" ><label for=\"894b1d21-533c-46ab-a453-3d7097e759d0\" class=\"sk-toggleable__label sk-toggleable__label-arrow\">StandardScaler</label><div class=\"sk-toggleable__content\"><pre>StandardScaler()</pre></div></div></div><div class=\"sk-item\"><div class=\"sk-estimator sk-toggleable\"><input class=\"sk-toggleable__control sk-hidden--visually\" id=\"5a1b1d3b-886f-4210-a823-47b5eec71f01\" type=\"checkbox\" ><label for=\"5a1b1d3b-886f-4210-a823-47b5eec71f01\" class=\"sk-toggleable__label sk-toggleable__label-arrow\">LogisticRegression</label><div class=\"sk-toggleable__content\"><pre>LogisticRegression(C=1000)</pre></div></div></div></div></div></div></div>"
            ]
          },
          "metadata": {},
          "execution_count": 74
        }
      ]
    },
    {
      "cell_type": "code",
      "source": [
        "# Este codigo solo es usado para visualizar las predicciones\n",
        "example_df = pd.DataFrame(data = {'Glucose': X_test['Glucose'], 'Outcome': y_test})\n",
        "example_df['logistic_preds'] = pd.DataFrame(logreg_pipe.predict_proba(X_test)).loc[:, 1].values\n",
        "example_df = example_df.sort_values(['logistic_preds'])"
      ],
      "metadata": {
        "id": "vDutnrk6U_9u"
      },
      "execution_count": 75,
      "outputs": []
    },
    {
      "cell_type": "markdown",
      "source": [
        " **Graficamos la regresión logística**"
      ],
      "metadata": {
        "id": "e4fciHclaCUl"
      }
    },
    {
      "cell_type": "code",
      "source": [
        "# Generamos un gráfico para hacer seguimiento visual a los datos trabajados en este análisis\n",
        "fig, ax = plt.subplots(figsize = (12, 8))\n",
        "plt.scatter(X_test['Glucose'], y_test)\n",
        "plt.plot(example_df['Glucose'], example_df['logistic_preds'].values, color='red')\n",
        "plt.ylabel('Diabetico (1) or No Diabetico (0)', fontsize = 12)\n",
        "plt.xlabel('Mediciones de Glucosa', fontsize = 12)\n",
        "plt.show()"
      ],
      "metadata": {
        "colab": {
          "base_uri": "https://localhost:8080/",
          "height": 500
        },
        "id": "CYXQzbz8VZO3",
        "outputId": "2a1b4f4a-df48-4b28-fcef-14dd7bc257fb"
      },
      "execution_count": 76,
      "outputs": [
        {
          "output_type": "display_data",
          "data": {
            "text/plain": [
              "<Figure size 864x576 with 1 Axes>"
            ],
            "image/png": "[encoded data removed]"
          },
          "metadata": {
            "needs_background": "light"
          }
        }
      ]
    },
    {
      "cell_type": "markdown",
      "source": [
        "De acuerdo con esto, cualquier valor de predicción (rojo) mayor a 60 (que corresponde al valor cerca de las mediciones de Glucosa), nos ayuda a predecir que una persona puede pertenecer a tipo Outcome 1 (osea tiene Diabetes), sino se marca en el gragico predecimos una clase tipo Outcome 0 (No diabetes).\n",
        "\n",
        "<br>\n",
        "\n",
        "Con esto podemos escalar los datos para usarlos en el modelo de regresión. Las probabilidades previstas están ahora más calibradas por lo que ahora se puede predecir un 0 o un 1 dependiendo de los puntos de Mediciones de Glucosa."
      ],
      "metadata": {
        "id": "k9Cf2-ZUaeZk"
      }
    },
    {
      "cell_type": "markdown",
      "source": [
        "**Aplicando Modelo de Regresión logística**"
      ],
      "metadata": {
        "id": "To5jeBZoeckB"
      }
    },
    {
      "cell_type": "code",
      "source": [
        "# Definimos objetivo y caracteristicas X\n",
        "X = df.drop(columns=['Outcome'])\n",
        "y = df['Outcome']\n",
        " \n",
        "# Creamos nuevamente el Train test split\n",
        "X_train, X_test, y_train, y_test = train_test_split(X, y, random_state=42)\n",
        "\n",
        "# Hacemos una instancia del modelo con los parametros por defecto\n",
        "logreg = LogisticRegression()\n",
        "\n",
        "# Instanciamos el por que el escalamiento de Standard Scaler es requirido para la regresión Logistica\n",
        "scaler = StandardScaler()\n",
        "\n",
        "# Ponemos el escalanmiento y el modelo dentro de un Pipeline\n",
        "logreg_pipe = make_pipeline(scaler, logreg)\n",
        "\n",
        "# Entrenamos el modelo en los datos y para que aprenda de los mismos\n",
        "# El modelo esta aprendiendo entre la relación de X y el objetivo Y\n",
        "logreg_pipe.fit(X_train, y_train)\n",
        "print(\"El Train Score para este modelo es de: \", logreg_pipe.score(X_train, y_train))\n",
        "print(\"El Test Score para este modelo es de: \", logreg_pipe.score(X_test, y_test))"
      ],
      "metadata": {
        "colab": {
          "base_uri": "https://localhost:8080/"
        },
        "id": "2eokfnhmb1O7",
        "outputId": "9d9a82fe-91d3-4a75-cf89-75f978b1036d"
      },
      "execution_count": 77,
      "outputs": [
        {
          "output_type": "stream",
          "name": "stdout",
          "text": [
            "El Train Score para este modelo es de:  0.7829861111111112\n",
            "El Test Score para este modelo es de:  0.7395833333333334\n"
          ]
        }
      ]
    },
    {
      "cell_type": "markdown",
      "source": [
        "**Afinación o regularización de L1:**"
      ],
      "metadata": {
        "id": "W4IPy4rGevvN"
      }
    },
    {
      "cell_type": "code",
      "source": [
        "# Creamos una lista para los valores de C en la instancia regresión \n",
        "c_values = [0.0001, 0.001, 0.01, 0.1, 1, 10, 100, 1000]\n",
        "train_scores = []\n",
        "test_scores = []\n",
        "\n",
        "# Por medio de un ciclo iteramos con los valores de C en la lista\n",
        "for c in c_values:\n",
        " \n",
        "  # Instanciamos el modelo con cada valor de C y los ajustamos a los datos\n",
        "  log_reg = LogisticRegression(C=c, max_iter=1000, solver='liblinear', penalty='l1')\n",
        "  log_reg_pipe = make_pipeline(scaler, log_reg)\n",
        "  log_reg_pipe.fit(X_train, y_train)\n",
        " \n",
        "  # Añadimos los valores del conjunto de entrenamiento y prueba a los valores de la lista\n",
        "  train_scores.append(log_reg_pipe.score(X_train, y_train))\n",
        "  test_scores.append(log_reg_pipe.score(X_test, y_test))\n",
        "\n",
        "# Dibujamos los cambios con el Accuracy cuando se cambia el valor de C en la instancia de regresión logistica \n",
        "fig, ax = plt.subplots(1,1)\n",
        "ax.plot(c_values, train_scores, label='Training Accuracy')\n",
        "ax.plot(c_values, test_scores, label='Testing Accuracy')\n",
        "ax.set_xticks(c_values)\n",
        "ax.set_title('Change in accuracy over C values for l1 regularization')\n",
        "ax.legend()\n",
        " \n",
        "# Configuramos en el X la escala logaritmica para mostrar los valores de C incluso en intervalos\n",
        "ax.set_xscale('log')\n",
        "# Imprimos el diccionario de los valores de C y los valores del Accuracy\n",
        "{c:score for c, score in zip(c_values, test_scores)}"
      ],
      "metadata": {
        "colab": {
          "base_uri": "https://localhost:8080/",
          "height": 424
        },
        "id": "IkhNcnsmcTot",
        "outputId": "658752e2-d2f2-45ff-b0a3-f897591165b4"
      },
      "execution_count": 78,
      "outputs": [
        {
          "output_type": "execute_result",
          "data": {
            "text/plain": [
              "{0.0001: 0.640625,\n",
              " 0.001: 0.640625,\n",
              " 0.01: 0.7083333333333334,\n",
              " 0.1: 0.7291666666666666,\n",
              " 1: 0.7395833333333334,\n",
              " 10: 0.7395833333333334,\n",
              " 100: 0.7395833333333334,\n",
              " 1000: 0.7395833333333334}"
            ]
          },
          "metadata": {},
          "execution_count": 78
        },
        {
          "output_type": "display_data",
          "data": {
            "text/plain": [
              "<Figure size 432x288 with 1 Axes>"
            ],
            "image/png": "[encoded data removed]"
          },
          "metadata": {
            "needs_background": "light"
          }
        }
      ]
    },
    {
      "cell_type": "markdown",
      "source": [
        "Con base en el gráfico podemos obtener una mejor exactitud del conjunto de prueba cuando C tiene un valor de 0.71 (10^-2) hasta llegar a un valor de 0.739 (10^0) que es donde ya se aplana la linea, que es el punto donde se obtiene una mejor varianza para este conjunto de datos."
      ],
      "metadata": {
        "id": "Vh-X9uqhe2M1"
      }
    },
    {
      "cell_type": "markdown",
      "source": [
        "**Afinación o regularización de L2:**"
      ],
      "metadata": {
        "id": "r0jOjtoQg04f"
      }
    },
    {
      "cell_type": "code",
      "source": [
        "# Creamos una lista para los valores de C en la instancia regresión \n",
        "c_values = [0.0001, 0.001, 0.01, 0.1, 1, 10, 100, 1000]\n",
        "train_scores = []\n",
        "test_scores = []\n",
        "\n",
        "# Por medio de un ciclo iteramos con los valores de C en la lista\n",
        "for c in c_values:\n",
        "\n",
        "  # Instanciamos el modelo con cada valor de C y los ajustamos a los datos\n",
        "  log_reg = LogisticRegression(C=c, max_iter=1000, solver='liblinear', penalty='l2')\n",
        "  log_reg_pipe = make_pipeline(scaler, log_reg)\n",
        "  log_reg_pipe.fit(X_train, y_train)\n",
        " \n",
        "  # Añadimos los valores del conjunto de entrenamiento y prueba a los valores de la lista\n",
        "  train_scores.append(log_reg_pipe.score(X_train, y_train))\n",
        "  test_scores.append(log_reg_pipe.score(X_test, y_test))\n",
        "  \n",
        "# Dibujamos los cambios con el Accuracy cuando se cambia el valor de C en la instancia de regresión logistica \n",
        "fig, ax = plt.subplots(1,1)\n",
        "ax.plot(c_values, train_scores, label='Training Accuracy')\n",
        "ax.plot(c_values, test_scores, label='Testing Accuracy')\n",
        "ax.set_xticks(c_values)\n",
        "ax.set_title('Change in accuracy over C values for l2 regularization')\n",
        "ax.legend()\n",
        "\n",
        "# Configuramos en el X la escala logaritmica para mostrar los valores de C incluso en intervalos\n",
        "ax.set_xscale('log')\n",
        "# Imprimos el diccionario de los valores de C y los valores del Accuracy\n",
        "{c:score for c, score in zip(c_values, test_scores)}"
      ],
      "metadata": {
        "colab": {
          "base_uri": "https://localhost:8080/",
          "height": 424
        },
        "id": "cPmkEnqWgWvt",
        "outputId": "f7e65afc-7934-42e9-fb17-56fe4b6c15ab"
      },
      "execution_count": 79,
      "outputs": [
        {
          "output_type": "execute_result",
          "data": {
            "text/plain": [
              "{0.0001: 0.703125,\n",
              " 0.001: 0.703125,\n",
              " 0.01: 0.71875,\n",
              " 0.1: 0.734375,\n",
              " 1: 0.7395833333333334,\n",
              " 10: 0.7395833333333334,\n",
              " 100: 0.7395833333333334,\n",
              " 1000: 0.7395833333333334}"
            ]
          },
          "metadata": {},
          "execution_count": 79
        },
        {
          "output_type": "display_data",
          "data": {
            "text/plain": [
              "<Figure size 432x288 with 1 Axes>"
            ],
            "image/png": "[encoded data removed]"
          },
          "metadata": {
            "needs_background": "light"
          }
        }
      ]
    },
    {
      "cell_type": "markdown",
      "source": [
        "Vemos que con la regularización L2 la puntuación en C para el conjunto de entrenamiento mejora y las puntuaciones del conjunto de prueba se mantienen con la consistencia anterior, lo que nos indica un buen punto para indicar que la variación se mantiene solida.\n",
        "\n",
        "Con este analisis que acabamos de hacer podemos afirmar que el mejor conjunto de hiperparámetro para nuestro modelo de regresión logística es solver=’liblinear’, penalty=’l2’ y C=0,1. Gracias al mejor correlacionamiento que se tiene con este tipo de afinación. Lo que nos permite consolidar un balance entre el sesgo y varianza para el desarrollo de este modelo en nuestro data set.\n",
        "\n",
        "\n",
        "\n",
        "---\n",
        "\n"
      ],
      "metadata": {
        "id": "CnAk93cyhCha"
      }
    },
    {
      "cell_type": "markdown",
      "source": [
        "## 🏆 **Conclusión Final (Elección del Modelo final)**\n"
      ],
      "metadata": {
        "id": "fEi1H0mvid3J"
      }
    },
    {
      "cell_type": "markdown",
      "source": [
        "Luego de probar tres modelos diferentes, en este caso el Modelo de Regresión Lineal, el Modelo Árboles de Decisión y el Modelo de Regresión Logistica.\n",
        "\n",
        "**He elegido el Modelo de Regresión Logistica** \n",
        "\n",
        "\n",
        "\n",
        "*  Porque es el que me brindo mejor varianza alta frente al conjunto de datos de prueba.\n",
        "*  Porque fue el modelo que me permitió identificar un equilibrio entre el sesgo y la varianza, muchísimo mejor que entre los demás modelos. \n",
        "* El modelo me permite tener más poder de predicción.\n",
        "* El modelo me permite identificar una mejor correlación entre las dos columnas que más se orientan hacia el descubrimiento del objetivo del análisis.\n",
        "\n"
      ],
      "metadata": {
        "id": "ebc14eDzjaSY"
      }
    },
    {
      "cell_type": "code",
      "source": [
        "print(\"La métrica de evaluación para el conjunto de entrenamiento con Modelo de Regresión Lineal es: \", r2_train.round(2)*100)\n",
        "print(\"La métrica de evaluación para el conjunto de prueba con Modelo de Regresión Lineal es: \", r2_test.round(2)*100)\n",
        "print(\"\\n\")\n",
        "print(\"La métrica de evaluación para el conjunto de entrenamiento con Modelo de Árbol de regresión es: \", train_3_score.round(2)*100)\n",
        "print(\"La métrica de evaluación para el conjunto de prueba con Modelo de Árbol de regresión es: \", test_3_score.round(2)*100)\n",
        "print(\"\\n\")\n",
        "print(\"La métrica de evaluación para conjunto de entrenamiento con Modelo de Regresión Logistica es: \", logreg_pipe.score(X_train, y_train).round(2)*100)\n",
        "print(\"La métrica de evaluación para conjunto de prueba con Modelo de Regresión Logistica es: \", logreg_pipe.score(X_test, y_test).round(2)*100)"
      ],
      "metadata": {
        "colab": {
          "base_uri": "https://localhost:8080/"
        },
        "id": "3n4dWPBhklFz",
        "outputId": "9d7986e4-0d5f-4a8f-f386-35dfa7567612"
      },
      "execution_count": 80,
      "outputs": [
        {
          "output_type": "stream",
          "name": "stdout",
          "text": [
            "La métrica de evaluación para el conjunto de entrenamiento con Modelo de Regresión Lineal es:  34.0\n",
            "La métrica de evaluación para el conjunto de prueba con Modelo de Regresión Lineal es:  24.0\n",
            "\n",
            "\n",
            "La métrica de evaluación para el conjunto de entrenamiento con Modelo de Árbol de regresión es:  36.0\n",
            "La métrica de evaluación para el conjunto de prueba con Modelo de Árbol de regresión es:  18.0\n",
            "\n",
            "\n",
            "La métrica de evaluación para conjunto de entrenamiento con Modelo de Regresión Logistica es:  78.0\n",
            "La métrica de evaluación para conjunto de prueba con Modelo de Regresión Logistica es:  74.0\n"
          ]
        }
      ]
    }
  ]
}